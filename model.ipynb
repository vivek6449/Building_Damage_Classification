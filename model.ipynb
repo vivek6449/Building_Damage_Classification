{
 "cells": [
  {
   "cell_type": "code",
   "execution_count": 20,
   "metadata": {},
   "outputs": [],
   "source": [
    "import os\n",
    "import pandas as pd\n",
    "import numpy as np\n",
    "\n",
    "from sklearn.metrics import f1_score\n",
    "from sklearn.model_selection import KFold\n",
    "from lightgbm import LGBMClassifier\n",
    "\n",
    "import seaborn as sns\n",
    "import matplotlib.pyplot as plt\n",
    "%matplotlib inline\n",
    "import gc"
   ]
  },
  {
   "cell_type": "code",
   "execution_count": 21,
   "metadata": {},
   "outputs": [],
   "source": [
    "root_dir = '/home/vivek/Git/'\n",
    "project_dir = 'building_damage'\n",
    "train_path = os.path.join(root_dir, project_dir, 'train.csv')\n",
    "test_path = os.path.join(root_dir, project_dir, 'test.csv')"
   ]
  },
  {
   "cell_type": "code",
   "execution_count": 22,
   "metadata": {},
   "outputs": [],
   "source": [
    "train = pd.read_csv(train_path)\n",
    "test = pd.read_csv(test_path)"
   ]
  },
  {
   "cell_type": "code",
   "execution_count": 23,
   "metadata": {},
   "outputs": [],
   "source": [
    "train = train.set_index('building_id')\n",
    "test = test.set_index('building_id')"
   ]
  },
  {
   "cell_type": "code",
   "execution_count": 24,
   "metadata": {},
   "outputs": [],
   "source": [
    "y = train[['damage_grade']]\n",
    "del train['damage_grade'], test['damage_grade']"
   ]
  },
  {
   "cell_type": "code",
   "execution_count": 25,
   "metadata": {},
   "outputs": [
    {
     "data": {
      "text/html": [
       "<div>\n",
       "<style scoped>\n",
       "    .dataframe tbody tr th:only-of-type {\n",
       "        vertical-align: middle;\n",
       "    }\n",
       "\n",
       "    .dataframe tbody tr th {\n",
       "        vertical-align: top;\n",
       "    }\n",
       "\n",
       "    .dataframe thead th {\n",
       "        text-align: right;\n",
       "    }\n",
       "</style>\n",
       "<table border=\"1\" class=\"dataframe\">\n",
       "  <thead>\n",
       "    <tr style=\"text-align: right;\">\n",
       "      <th></th>\n",
       "      <th>damage_grade</th>\n",
       "    </tr>\n",
       "    <tr>\n",
       "      <th>building_id</th>\n",
       "      <th></th>\n",
       "    </tr>\n",
       "  </thead>\n",
       "  <tbody>\n",
       "    <tr>\n",
       "      <th>a3380c4fd9</th>\n",
       "      <td>Grade 2</td>\n",
       "    </tr>\n",
       "    <tr>\n",
       "      <th>a3380c503e</th>\n",
       "      <td>Grade 3</td>\n",
       "    </tr>\n",
       "    <tr>\n",
       "      <th>a338a4e5f2</th>\n",
       "      <td>Grade 3</td>\n",
       "    </tr>\n",
       "    <tr>\n",
       "      <th>a338a4e71f</th>\n",
       "      <td>Grade 4</td>\n",
       "    </tr>\n",
       "    <tr>\n",
       "      <th>a339d612f3</th>\n",
       "      <td>Grade 3</td>\n",
       "    </tr>\n",
       "  </tbody>\n",
       "</table>\n",
       "</div>"
      ],
      "text/plain": [
       "            damage_grade\n",
       "building_id             \n",
       "a3380c4fd9       Grade 2\n",
       "a3380c503e       Grade 3\n",
       "a338a4e5f2       Grade 3\n",
       "a338a4e71f       Grade 4\n",
       "a339d612f3       Grade 3"
      ]
     },
     "execution_count": 25,
     "metadata": {},
     "output_type": "execute_result"
    }
   ],
   "source": [
    "y.head()"
   ]
  },
  {
   "cell_type": "code",
   "execution_count": 30,
   "metadata": {},
   "outputs": [
    {
     "name": "stderr",
     "output_type": "stream",
     "text": [
      "/home/vivek/anaconda3/lib/python3.6/site-packages/ipykernel_launcher.py:1: SettingWithCopyWarning: \n",
      "A value is trying to be set on a copy of a slice from a DataFrame.\n",
      "Try using .loc[row_indexer,col_indexer] = value instead\n",
      "\n",
      "See the caveats in the documentation: http://pandas.pydata.org/pandas-docs/stable/indexing.html#indexing-view-versus-copy\n",
      "  \"\"\"Entry point for launching an IPython kernel.\n"
     ]
    }
   ],
   "source": [
    "y['damage_grade'] = y['damage_grade'].str.replace('Grade ','')"
   ]
  },
  {
   "cell_type": "code",
   "execution_count": 33,
   "metadata": {},
   "outputs": [],
   "source": [
    "pd.to_numeric(y['damage_grade']);"
   ]
  },
  {
   "cell_type": "code",
   "execution_count": 34,
   "metadata": {},
   "outputs": [
    {
     "data": {
      "text/html": [
       "<div>\n",
       "<style scoped>\n",
       "    .dataframe tbody tr th:only-of-type {\n",
       "        vertical-align: middle;\n",
       "    }\n",
       "\n",
       "    .dataframe tbody tr th {\n",
       "        vertical-align: top;\n",
       "    }\n",
       "\n",
       "    .dataframe thead th {\n",
       "        text-align: right;\n",
       "    }\n",
       "</style>\n",
       "<table border=\"1\" class=\"dataframe\">\n",
       "  <thead>\n",
       "    <tr style=\"text-align: right;\">\n",
       "      <th></th>\n",
       "      <th>damage_grade</th>\n",
       "    </tr>\n",
       "    <tr>\n",
       "      <th>building_id</th>\n",
       "      <th></th>\n",
       "    </tr>\n",
       "  </thead>\n",
       "  <tbody>\n",
       "    <tr>\n",
       "      <th>a3380c4fd9</th>\n",
       "      <td>2</td>\n",
       "    </tr>\n",
       "    <tr>\n",
       "      <th>a3380c503e</th>\n",
       "      <td>3</td>\n",
       "    </tr>\n",
       "    <tr>\n",
       "      <th>a338a4e5f2</th>\n",
       "      <td>3</td>\n",
       "    </tr>\n",
       "    <tr>\n",
       "      <th>a338a4e71f</th>\n",
       "      <td>4</td>\n",
       "    </tr>\n",
       "    <tr>\n",
       "      <th>a339d612f3</th>\n",
       "      <td>3</td>\n",
       "    </tr>\n",
       "  </tbody>\n",
       "</table>\n",
       "</div>"
      ],
      "text/plain": [
       "            damage_grade\n",
       "building_id             \n",
       "a3380c4fd9             2\n",
       "a3380c503e             3\n",
       "a338a4e5f2             3\n",
       "a338a4e71f             4\n",
       "a339d612f3             3"
      ]
     },
     "execution_count": 34,
     "metadata": {},
     "output_type": "execute_result"
    }
   ],
   "source": [
    "y.head()"
   ]
  },
  {
   "cell_type": "raw",
   "metadata": {},
   "source": [
    "oof_preds = np.zeros(train.shape[0])\n",
    "sub_preds = np.zeros(test.shape[0])"
   ]
  },
  {
   "cell_type": "raw",
   "metadata": {},
   "source": [
    "feature_importance_df = pd.DataFrame()"
   ]
  },
  {
   "cell_type": "raw",
   "metadata": {},
   "source": [
    "feats = [f for f in train.columns if f not in ['building_id']]"
   ]
  },
  {
   "cell_type": "raw",
   "metadata": {},
   "source": [
    "folds = KFold(n_splits=5, shuffle=True, random_state=42)"
   ]
  },
  {
   "cell_type": "raw",
   "metadata": {},
   "source": [
    "for n_fold, (trn_idx, val_idx) in enumerate(folds.split(train)):\n",
    "    trn_x, trn_y = train[feats].iloc[trn_idx], y.iloc[trn_idx]\n",
    "    val_x, val_y = train[feats].iloc[val_idx], y.iloc[val_idx]\n",
    "    \n",
    "    clf = LGBMClassifier(boosting_type='gbdt',\n",
    "                         objective='multiclass',\n",
    "                         n_estimators=300,\n",
    "                         learning_rate=0.03,\n",
    "                         num_leaves=30,\n",
    "                         colsample_bytree =.8,\n",
    "                         silent=-1,\n",
    "                         max_depth=7,\n",
    "                         reg_alpha=.1,\n",
    "                         reg_lambda=.1,\n",
    "                         subsample=.9,\n",
    "                         min_split_gain=0.01,\n",
    "                         min_child_weight=2,\n",
    "                         verbose=-1\n",
    "                        )\n",
    "    \n",
    "    clf.fit(trn_x, trn_y, \n",
    "                eval_set= [(trn_x, trn_y), (val_x, val_y)], \n",
    "                verbose=100, early_stopping_rounds=100  #30\n",
    "               )\n",
    "    \n",
    "    oof_preds[val_idx] = clf.predict(val_x, num_iteration=clf.best_iteration_)\n",
    "    sub_preds += clf.predict(test[feats], num_iteration=clf.best_iteration_)/folds.n_splits\n",
    "    \n",
    "    fold_importance_df = pd.DataFrame()\n",
    "    fold_importance_df['features'] = feats\n",
    "    fold_importance_df['importance'] = clf.feature_importances_\n",
    "    fold_importance_df['fold'] = n_fold + 1\n",
    "    feature_importance_df = pd.concat([feature_importance_df, fold_importance_df], axis=0)\n",
    "    \n",
    "    print(\"Fold %2d F1-score: %.6f\" % (n_fold + 1, f1_score(val_y, oof_preds[val_idx])))\n",
    "    "
   ]
  },
  {
   "cell_type": "code",
   "execution_count": 43,
   "metadata": {},
   "outputs": [
    {
     "name": "stdout",
     "output_type": "stream",
     "text": [
      "Light Gradient Boosting Classifier: \n"
     ]
    }
   ],
   "source": [
    "print(\"Light Gradient Boosting Classifier: \")\n",
    "lgbm_params =  {\n",
    "    'task': 'train',\n",
    "    'boosting_type': 'gbdt',\n",
    "    'objective': 'multiclass',\n",
    "    'num_class': 5,\n",
    "    'metric': ['multi_error'],\n",
    "    \"learning_rate\": 0.05,\n",
    "     \"num_leaves\": 60,\n",
    "     \"max_depth\": 9,\n",
    "     \"feature_fraction\": 0.45,\n",
    "     \"bagging_fraction\": 0.3,\n",
    "     \"reg_alpha\": 0.15,\n",
    "     \"reg_lambda\": 0.15,\n",
    "#      \"min_split_gain\": 0,\n",
    "      \"min_child_weight\": 0\n",
    "}"
   ]
  },
  {
   "cell_type": "raw",
   "metadata": {},
   "source": [
    "modelstart = time.time()\n",
    "\n",
    "# find optimal parmeters / Boosting Rounds\n",
    "lgb_cv = lgb.cv(params=lgbm_params,\n",
    "               train_set = train,\n",
    "               num_boost_round=300,\n",
    "               stratified=True,\n",
    "               nfold=5,\n",
    "               verbose_eval=50,\n",
    "               seed=23,\n",
    "               early_stopping_rounds=75)\n",
    "\n",
    "loss = lgbm_params['metric'][0]\n",
    "optimal_rounds = np.argmin(lgb_cv[str(loss) + '-mean'])\n",
    "best_cv_score = min(lgb_cv[str(loss) + '-mean'])\n",
    "\n",
    "print(\"\\nOptimal Round: {}\\nOptimal Score: {} + {}\".\n",
    "      format(optimal_rounds, best_cv_score, lgb_cv[str(loss) + '-stdv'][optimal_rounds]))\n",
    "results = results.appedn({'Rounds':optimal_rounds,\n",
    "                         \"Score\": best_cv_score,\n",
    "                         \"STDV\": lgb_cv[str(loss) + '-stdv'][optimal_rounds],\"LB\":None,\"Parameters\":lgbm_params},\n",
    "                        ignore_index=True)\n",
    "if Home\n"
   ]
  },
  {
   "cell_type": "code",
   "execution_count": 35,
   "metadata": {},
   "outputs": [],
   "source": [
    "from sklearn.ensemble import RandomForestClassifier\n",
    "\n",
    "rnd_forest = RandomForestClassifier(n_estimators=100, random_state=42, verbose=1, n_jobs=-1)"
   ]
  },
  {
   "cell_type": "code",
   "execution_count": null,
   "metadata": {},
   "outputs": [
    {
     "name": "stderr",
     "output_type": "stream",
     "text": [
      "/home/vivek/anaconda3/lib/python3.6/site-packages/ipykernel_launcher.py:1: DataConversionWarning: A column-vector y was passed when a 1d array was expected. Please change the shape of y to (n_samples,), for example using ravel().\n",
      "  \"\"\"Entry point for launching an IPython kernel.\n",
      "[Parallel(n_jobs=-1)]: Done  42 tasks      | elapsed:   42.3s\n"
     ]
    }
   ],
   "source": [
    "rnd_forest.fit(train, y)\n",
    "y_pred = rnd_forest.predict(test)"
   ]
  },
  {
   "cell_type": "code",
   "execution_count": null,
   "metadata": {},
   "outputs": [],
   "source": []
  }
 ],
 "metadata": {
  "kernelspec": {
   "display_name": "Python 3",
   "language": "python",
   "name": "python3"
  },
  "language_info": {
   "codemirror_mode": {
    "name": "ipython",
    "version": 3
   },
   "file_extension": ".py",
   "mimetype": "text/x-python",
   "name": "python",
   "nbconvert_exporter": "python",
   "pygments_lexer": "ipython3",
   "version": "3.6.5"
  }
 },
 "nbformat": 4,
 "nbformat_minor": 2
}
