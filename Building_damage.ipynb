{
 "cells": [
  {
   "cell_type": "code",
   "execution_count": 1,
   "metadata": {},
   "outputs": [],
   "source": [
    "import os\n",
    "import pandas as pd\n",
    "import numpy as np\n",
    "\n",
    "import matplotlib.pyplot as plt\n",
    "%matplotlib inline\n",
    "import seaborn as sns\n",
    "\n",
    "from sklearn.metrics import f1_score\n",
    "from sklearn.model_selection import train_test_split, KFold\n",
    "from lightgbm import LGBMClassifier\n",
    "\n",
    "import gc"
   ]
  },
  {
   "cell_type": "markdown",
   "metadata": {},
   "source": [
    "## Import paths"
   ]
  },
  {
   "cell_type": "code",
   "execution_count": 49,
   "metadata": {},
   "outputs": [],
   "source": [
    "root_dir = '/home/vivek/Datasets/'\n",
    "project_dir = 'Building_Damage_Classification/'\n",
    "file_path = os.path.join(root_dir,project_dir)"
   ]
  },
  {
   "cell_type": "code",
   "execution_count": 50,
   "metadata": {},
   "outputs": [],
   "source": [
    "buil_owner_path = os.path.join(file_path, \"Building_Ownership_Use.csv\")\n",
    "buil_stru_path = os.path.join(file_path, \"Building_Structure.csv\")\n",
    "train_path = os.path.join(file_path, \"train.csv\")\n",
    "test_path = os.path.join(file_path, \"test.csv\")"
   ]
  },
  {
   "cell_type": "code",
   "execution_count": 51,
   "metadata": {},
   "outputs": [],
   "source": [
    "buil_owner = pd.read_csv(buil_owner_path)\n",
    "buil_stru = pd.read_csv(buil_stru_path)\n",
    "train = pd.read_csv(train_path)\n",
    "test = pd.read_csv(test_path)"
   ]
  },
  {
   "cell_type": "code",
   "execution_count": 3,
   "metadata": {},
   "outputs": [
    {
     "data": {
      "text/html": [
       "<div>\n",
       "<style scoped>\n",
       "    .dataframe tbody tr th:only-of-type {\n",
       "        vertical-align: middle;\n",
       "    }\n",
       "\n",
       "    .dataframe tbody tr th {\n",
       "        vertical-align: top;\n",
       "    }\n",
       "\n",
       "    .dataframe thead th {\n",
       "        text-align: right;\n",
       "    }\n",
       "</style>\n",
       "<table border=\"1\" class=\"dataframe\">\n",
       "  <thead>\n",
       "    <tr style=\"text-align: right;\">\n",
       "      <th></th>\n",
       "      <th>building_id</th>\n",
       "      <th>district_id</th>\n",
       "      <th>vdcmun_id</th>\n",
       "      <th>ward_id</th>\n",
       "      <th>legal_ownership_status</th>\n",
       "      <th>count_families</th>\n",
       "      <th>has_secondary_use</th>\n",
       "      <th>has_secondary_use_agriculture</th>\n",
       "      <th>has_secondary_use_hotel</th>\n",
       "      <th>has_secondary_use_rental</th>\n",
       "      <th>has_secondary_use_institution</th>\n",
       "      <th>has_secondary_use_school</th>\n",
       "      <th>has_secondary_use_industry</th>\n",
       "      <th>has_secondary_use_health_post</th>\n",
       "      <th>has_secondary_use_gov_office</th>\n",
       "      <th>has_secondary_use_use_police</th>\n",
       "      <th>has_secondary_use_other</th>\n",
       "    </tr>\n",
       "  </thead>\n",
       "  <tbody>\n",
       "    <tr>\n",
       "      <th>0</th>\n",
       "      <td>a3380c4f75</td>\n",
       "      <td>7</td>\n",
       "      <td>701</td>\n",
       "      <td>70102</td>\n",
       "      <td>Private</td>\n",
       "      <td>1.0</td>\n",
       "      <td>0.0</td>\n",
       "      <td>0</td>\n",
       "      <td>0</td>\n",
       "      <td>0</td>\n",
       "      <td>0</td>\n",
       "      <td>0</td>\n",
       "      <td>0</td>\n",
       "      <td>0</td>\n",
       "      <td>0</td>\n",
       "      <td>0</td>\n",
       "      <td>0</td>\n",
       "    </tr>\n",
       "    <tr>\n",
       "      <th>1</th>\n",
       "      <td>a3380c4fd9</td>\n",
       "      <td>7</td>\n",
       "      <td>701</td>\n",
       "      <td>70102</td>\n",
       "      <td>Private</td>\n",
       "      <td>1.0</td>\n",
       "      <td>0.0</td>\n",
       "      <td>0</td>\n",
       "      <td>0</td>\n",
       "      <td>0</td>\n",
       "      <td>0</td>\n",
       "      <td>0</td>\n",
       "      <td>0</td>\n",
       "      <td>0</td>\n",
       "      <td>0</td>\n",
       "      <td>0</td>\n",
       "      <td>0</td>\n",
       "    </tr>\n",
       "    <tr>\n",
       "      <th>2</th>\n",
       "      <td>a3380c503e</td>\n",
       "      <td>7</td>\n",
       "      <td>701</td>\n",
       "      <td>70102</td>\n",
       "      <td>Private</td>\n",
       "      <td>1.0</td>\n",
       "      <td>0.0</td>\n",
       "      <td>0</td>\n",
       "      <td>0</td>\n",
       "      <td>0</td>\n",
       "      <td>0</td>\n",
       "      <td>0</td>\n",
       "      <td>0</td>\n",
       "      <td>0</td>\n",
       "      <td>0</td>\n",
       "      <td>0</td>\n",
       "      <td>0</td>\n",
       "    </tr>\n",
       "    <tr>\n",
       "      <th>3</th>\n",
       "      <td>a338a4e5f2</td>\n",
       "      <td>7</td>\n",
       "      <td>701</td>\n",
       "      <td>70103</td>\n",
       "      <td>Private</td>\n",
       "      <td>1.0</td>\n",
       "      <td>0.0</td>\n",
       "      <td>0</td>\n",
       "      <td>0</td>\n",
       "      <td>0</td>\n",
       "      <td>0</td>\n",
       "      <td>0</td>\n",
       "      <td>0</td>\n",
       "      <td>0</td>\n",
       "      <td>0</td>\n",
       "      <td>0</td>\n",
       "      <td>0</td>\n",
       "    </tr>\n",
       "    <tr>\n",
       "      <th>4</th>\n",
       "      <td>a338a4e653</td>\n",
       "      <td>7</td>\n",
       "      <td>701</td>\n",
       "      <td>70103</td>\n",
       "      <td>Private</td>\n",
       "      <td>1.0</td>\n",
       "      <td>0.0</td>\n",
       "      <td>0</td>\n",
       "      <td>0</td>\n",
       "      <td>0</td>\n",
       "      <td>0</td>\n",
       "      <td>0</td>\n",
       "      <td>0</td>\n",
       "      <td>0</td>\n",
       "      <td>0</td>\n",
       "      <td>0</td>\n",
       "      <td>0</td>\n",
       "    </tr>\n",
       "  </tbody>\n",
       "</table>\n",
       "</div>"
      ],
      "text/plain": [
       "  building_id  district_id  vdcmun_id  ward_id legal_ownership_status  \\\n",
       "0  a3380c4f75            7        701    70102                Private   \n",
       "1  a3380c4fd9            7        701    70102                Private   \n",
       "2  a3380c503e            7        701    70102                Private   \n",
       "3  a338a4e5f2            7        701    70103                Private   \n",
       "4  a338a4e653            7        701    70103                Private   \n",
       "\n",
       "   count_families  has_secondary_use  has_secondary_use_agriculture  \\\n",
       "0             1.0                0.0                              0   \n",
       "1             1.0                0.0                              0   \n",
       "2             1.0                0.0                              0   \n",
       "3             1.0                0.0                              0   \n",
       "4             1.0                0.0                              0   \n",
       "\n",
       "   has_secondary_use_hotel  has_secondary_use_rental  \\\n",
       "0                        0                         0   \n",
       "1                        0                         0   \n",
       "2                        0                         0   \n",
       "3                        0                         0   \n",
       "4                        0                         0   \n",
       "\n",
       "   has_secondary_use_institution  has_secondary_use_school  \\\n",
       "0                              0                         0   \n",
       "1                              0                         0   \n",
       "2                              0                         0   \n",
       "3                              0                         0   \n",
       "4                              0                         0   \n",
       "\n",
       "   has_secondary_use_industry  has_secondary_use_health_post  \\\n",
       "0                           0                              0   \n",
       "1                           0                              0   \n",
       "2                           0                              0   \n",
       "3                           0                              0   \n",
       "4                           0                              0   \n",
       "\n",
       "   has_secondary_use_gov_office  has_secondary_use_use_police  \\\n",
       "0                             0                             0   \n",
       "1                             0                             0   \n",
       "2                             0                             0   \n",
       "3                             0                             0   \n",
       "4                             0                             0   \n",
       "\n",
       "   has_secondary_use_other  \n",
       "0                        0  \n",
       "1                        0  \n",
       "2                        0  \n",
       "3                        0  \n",
       "4                        0  "
      ]
     },
     "execution_count": 3,
     "metadata": {},
     "output_type": "execute_result"
    }
   ],
   "source": [
    "# First we will work on \"Building Ownership\" file\n",
    "buil_owner.head()"
   ]
  },
  {
   "cell_type": "code",
   "execution_count": 4,
   "metadata": {},
   "outputs": [
    {
     "data": {
      "text/plain": [
       "(1052948, 17)"
      ]
     },
     "execution_count": 4,
     "metadata": {},
     "output_type": "execute_result"
    }
   ],
   "source": [
    "buil_owner.shape"
   ]
  },
  {
   "cell_type": "markdown",
   "metadata": {},
   "source": [
    "First check which of the features are `object` which we can encode it via `Label Encoding` or `OneHotEncoding`."
   ]
  },
  {
   "cell_type": "code",
   "execution_count": 5,
   "metadata": {},
   "outputs": [
    {
     "name": "stdout",
     "output_type": "stream",
     "text": [
      "<class 'pandas.core.frame.DataFrame'>\n",
      "RangeIndex: 1052948 entries, 0 to 1052947\n",
      "Data columns (total 17 columns):\n",
      "building_id                      1052948 non-null object\n",
      "district_id                      1052948 non-null int64\n",
      "vdcmun_id                        1052948 non-null int64\n",
      "ward_id                          1052948 non-null int64\n",
      "legal_ownership_status           1052948 non-null object\n",
      "count_families                   1052946 non-null float64\n",
      "has_secondary_use                1052938 non-null float64\n",
      "has_secondary_use_agriculture    1052948 non-null int64\n",
      "has_secondary_use_hotel          1052948 non-null int64\n",
      "has_secondary_use_rental         1052948 non-null int64\n",
      "has_secondary_use_institution    1052948 non-null int64\n",
      "has_secondary_use_school         1052948 non-null int64\n",
      "has_secondary_use_industry       1052948 non-null int64\n",
      "has_secondary_use_health_post    1052948 non-null int64\n",
      "has_secondary_use_gov_office     1052948 non-null int64\n",
      "has_secondary_use_use_police     1052948 non-null int64\n",
      "has_secondary_use_other          1052948 non-null int64\n",
      "dtypes: float64(2), int64(13), object(2)\n",
      "memory usage: 136.6+ MB\n"
     ]
    }
   ],
   "source": [
    "buil_owner.info()"
   ]
  },
  {
   "cell_type": "markdown",
   "metadata": {},
   "source": [
    "As we can see that we only have one `object` file which is **legal_ownership_status**. We will use pandas's `get_dummies` method to encode that features.\n",
    "\n",
    "First let's check how many classes we have in `legal_ownership_status` feature."
   ]
  },
  {
   "cell_type": "code",
   "execution_count": 6,
   "metadata": {},
   "outputs": [
    {
     "data": {
      "text/plain": [
       "Private          1014042\n",
       "Public             22326\n",
       "Institutional      10502\n",
       "Other               6078\n",
       "Name: legal_ownership_status, dtype: int64"
      ]
     },
     "execution_count": 6,
     "metadata": {},
     "output_type": "execute_result"
    }
   ],
   "source": [
    "buil_owner['legal_ownership_status'].value_counts()"
   ]
  },
  {
   "cell_type": "code",
   "execution_count": 7,
   "metadata": {},
   "outputs": [],
   "source": [
    "buil_owner = pd.concat([buil_owner, pd.get_dummies(buil_owner.legal_ownership_status, prefix='owner')], axis=1).drop('legal_ownership_status', axis=1)"
   ]
  },
  {
   "cell_type": "markdown",
   "metadata": {},
   "source": [
    "Reading **building_structural**."
   ]
  },
  {
   "cell_type": "code",
   "execution_count": 8,
   "metadata": {},
   "outputs": [
    {
     "data": {
      "text/html": [
       "<div>\n",
       "<style scoped>\n",
       "    .dataframe tbody tr th:only-of-type {\n",
       "        vertical-align: middle;\n",
       "    }\n",
       "\n",
       "    .dataframe tbody tr th {\n",
       "        vertical-align: top;\n",
       "    }\n",
       "\n",
       "    .dataframe thead th {\n",
       "        text-align: right;\n",
       "    }\n",
       "</style>\n",
       "<table border=\"1\" class=\"dataframe\">\n",
       "  <thead>\n",
       "    <tr style=\"text-align: right;\">\n",
       "      <th></th>\n",
       "      <th>building_id</th>\n",
       "      <th>district_id</th>\n",
       "      <th>vdcmun_id</th>\n",
       "      <th>ward_id</th>\n",
       "      <th>count_floors_pre_eq</th>\n",
       "      <th>count_floors_post_eq</th>\n",
       "      <th>age_building</th>\n",
       "      <th>plinth_area_sq_ft</th>\n",
       "      <th>height_ft_pre_eq</th>\n",
       "      <th>height_ft_post_eq</th>\n",
       "      <th>...</th>\n",
       "      <th>has_superstructure_stone_flag</th>\n",
       "      <th>has_superstructure_cement_mortar_stone</th>\n",
       "      <th>has_superstructure_mud_mortar_brick</th>\n",
       "      <th>has_superstructure_cement_mortar_brick</th>\n",
       "      <th>has_superstructure_timber</th>\n",
       "      <th>has_superstructure_bamboo</th>\n",
       "      <th>has_superstructure_rc_non_engineered</th>\n",
       "      <th>has_superstructure_rc_engineered</th>\n",
       "      <th>has_superstructure_other</th>\n",
       "      <th>condition_post_eq</th>\n",
       "    </tr>\n",
       "  </thead>\n",
       "  <tbody>\n",
       "    <tr>\n",
       "      <th>0</th>\n",
       "      <td>a3380c4f75</td>\n",
       "      <td>7</td>\n",
       "      <td>701</td>\n",
       "      <td>70102</td>\n",
       "      <td>1</td>\n",
       "      <td>1</td>\n",
       "      <td>28</td>\n",
       "      <td>454</td>\n",
       "      <td>9</td>\n",
       "      <td>9</td>\n",
       "      <td>...</td>\n",
       "      <td>0</td>\n",
       "      <td>0</td>\n",
       "      <td>0</td>\n",
       "      <td>0</td>\n",
       "      <td>1</td>\n",
       "      <td>1</td>\n",
       "      <td>0</td>\n",
       "      <td>0</td>\n",
       "      <td>1</td>\n",
       "      <td>Damaged-Repaired and used</td>\n",
       "    </tr>\n",
       "    <tr>\n",
       "      <th>1</th>\n",
       "      <td>a3380c4fd9</td>\n",
       "      <td>7</td>\n",
       "      <td>701</td>\n",
       "      <td>70102</td>\n",
       "      <td>1</td>\n",
       "      <td>1</td>\n",
       "      <td>32</td>\n",
       "      <td>324</td>\n",
       "      <td>9</td>\n",
       "      <td>9</td>\n",
       "      <td>...</td>\n",
       "      <td>0</td>\n",
       "      <td>0</td>\n",
       "      <td>0</td>\n",
       "      <td>0</td>\n",
       "      <td>1</td>\n",
       "      <td>1</td>\n",
       "      <td>0</td>\n",
       "      <td>0</td>\n",
       "      <td>1</td>\n",
       "      <td>Damaged-Repaired and used</td>\n",
       "    </tr>\n",
       "    <tr>\n",
       "      <th>2</th>\n",
       "      <td>a3380c503e</td>\n",
       "      <td>7</td>\n",
       "      <td>701</td>\n",
       "      <td>70102</td>\n",
       "      <td>2</td>\n",
       "      <td>2</td>\n",
       "      <td>34</td>\n",
       "      <td>456</td>\n",
       "      <td>18</td>\n",
       "      <td>18</td>\n",
       "      <td>...</td>\n",
       "      <td>0</td>\n",
       "      <td>0</td>\n",
       "      <td>0</td>\n",
       "      <td>0</td>\n",
       "      <td>1</td>\n",
       "      <td>1</td>\n",
       "      <td>0</td>\n",
       "      <td>0</td>\n",
       "      <td>1</td>\n",
       "      <td>Damaged-Repaired and used</td>\n",
       "    </tr>\n",
       "    <tr>\n",
       "      <th>3</th>\n",
       "      <td>a338a4e5f2</td>\n",
       "      <td>7</td>\n",
       "      <td>701</td>\n",
       "      <td>70103</td>\n",
       "      <td>2</td>\n",
       "      <td>2</td>\n",
       "      <td>20</td>\n",
       "      <td>452</td>\n",
       "      <td>18</td>\n",
       "      <td>18</td>\n",
       "      <td>...</td>\n",
       "      <td>0</td>\n",
       "      <td>0</td>\n",
       "      <td>0</td>\n",
       "      <td>0</td>\n",
       "      <td>1</td>\n",
       "      <td>1</td>\n",
       "      <td>0</td>\n",
       "      <td>0</td>\n",
       "      <td>1</td>\n",
       "      <td>Damaged-Repaired and used</td>\n",
       "    </tr>\n",
       "    <tr>\n",
       "      <th>4</th>\n",
       "      <td>a338a4e653</td>\n",
       "      <td>7</td>\n",
       "      <td>701</td>\n",
       "      <td>70103</td>\n",
       "      <td>1</td>\n",
       "      <td>0</td>\n",
       "      <td>25</td>\n",
       "      <td>542</td>\n",
       "      <td>9</td>\n",
       "      <td>0</td>\n",
       "      <td>...</td>\n",
       "      <td>0</td>\n",
       "      <td>0</td>\n",
       "      <td>0</td>\n",
       "      <td>0</td>\n",
       "      <td>1</td>\n",
       "      <td>1</td>\n",
       "      <td>0</td>\n",
       "      <td>0</td>\n",
       "      <td>1</td>\n",
       "      <td>Damaged-Rubble unclear</td>\n",
       "    </tr>\n",
       "  </tbody>\n",
       "</table>\n",
       "<p>5 rows × 29 columns</p>\n",
       "</div>"
      ],
      "text/plain": [
       "  building_id  district_id  vdcmun_id  ward_id  count_floors_pre_eq  \\\n",
       "0  a3380c4f75            7        701    70102                    1   \n",
       "1  a3380c4fd9            7        701    70102                    1   \n",
       "2  a3380c503e            7        701    70102                    2   \n",
       "3  a338a4e5f2            7        701    70103                    2   \n",
       "4  a338a4e653            7        701    70103                    1   \n",
       "\n",
       "   count_floors_post_eq  age_building  plinth_area_sq_ft  height_ft_pre_eq  \\\n",
       "0                     1            28                454                 9   \n",
       "1                     1            32                324                 9   \n",
       "2                     2            34                456                18   \n",
       "3                     2            20                452                18   \n",
       "4                     0            25                542                 9   \n",
       "\n",
       "   height_ft_post_eq            ...             has_superstructure_stone_flag  \\\n",
       "0                  9            ...                                         0   \n",
       "1                  9            ...                                         0   \n",
       "2                 18            ...                                         0   \n",
       "3                 18            ...                                         0   \n",
       "4                  0            ...                                         0   \n",
       "\n",
       "  has_superstructure_cement_mortar_stone has_superstructure_mud_mortar_brick  \\\n",
       "0                                      0                                   0   \n",
       "1                                      0                                   0   \n",
       "2                                      0                                   0   \n",
       "3                                      0                                   0   \n",
       "4                                      0                                   0   \n",
       "\n",
       "  has_superstructure_cement_mortar_brick has_superstructure_timber  \\\n",
       "0                                      0                         1   \n",
       "1                                      0                         1   \n",
       "2                                      0                         1   \n",
       "3                                      0                         1   \n",
       "4                                      0                         1   \n",
       "\n",
       "  has_superstructure_bamboo has_superstructure_rc_non_engineered  \\\n",
       "0                         1                                    0   \n",
       "1                         1                                    0   \n",
       "2                         1                                    0   \n",
       "3                         1                                    0   \n",
       "4                         1                                    0   \n",
       "\n",
       "   has_superstructure_rc_engineered  has_superstructure_other  \\\n",
       "0                                 0                         1   \n",
       "1                                 0                         1   \n",
       "2                                 0                         1   \n",
       "3                                 0                         1   \n",
       "4                                 0                         1   \n",
       "\n",
       "           condition_post_eq  \n",
       "0  Damaged-Repaired and used  \n",
       "1  Damaged-Repaired and used  \n",
       "2  Damaged-Repaired and used  \n",
       "3  Damaged-Repaired and used  \n",
       "4     Damaged-Rubble unclear  \n",
       "\n",
       "[5 rows x 29 columns]"
      ]
     },
     "execution_count": 8,
     "metadata": {},
     "output_type": "execute_result"
    }
   ],
   "source": [
    "buil_stru.head()"
   ]
  },
  {
   "cell_type": "code",
   "execution_count": 9,
   "metadata": {},
   "outputs": [
    {
     "data": {
      "text/plain": [
       "(1052948, 29)"
      ]
     },
     "execution_count": 9,
     "metadata": {},
     "output_type": "execute_result"
    }
   ],
   "source": [
    "buil_stru.shape"
   ]
  },
  {
   "cell_type": "code",
   "execution_count": 10,
   "metadata": {},
   "outputs": [
    {
     "name": "stdout",
     "output_type": "stream",
     "text": [
      "<class 'pandas.core.frame.DataFrame'>\n",
      "RangeIndex: 1052948 entries, 0 to 1052947\n",
      "Data columns (total 29 columns):\n",
      "building_id                               1052948 non-null object\n",
      "district_id                               1052948 non-null int64\n",
      "vdcmun_id                                 1052948 non-null int64\n",
      "ward_id                                   1052948 non-null int64\n",
      "count_floors_pre_eq                       1052948 non-null int64\n",
      "count_floors_post_eq                      1052948 non-null int64\n",
      "age_building                              1052948 non-null int64\n",
      "plinth_area_sq_ft                         1052948 non-null int64\n",
      "height_ft_pre_eq                          1052948 non-null int64\n",
      "height_ft_post_eq                         1052948 non-null int64\n",
      "land_surface_condition                    1052948 non-null object\n",
      "foundation_type                           1052948 non-null object\n",
      "roof_type                                 1052948 non-null object\n",
      "ground_floor_type                         1052948 non-null object\n",
      "other_floor_type                          1052948 non-null object\n",
      "position                                  1052947 non-null object\n",
      "plan_configuration                        1052947 non-null object\n",
      "has_superstructure_adobe_mud              1052948 non-null int64\n",
      "has_superstructure_mud_mortar_stone       1052948 non-null int64\n",
      "has_superstructure_stone_flag             1052948 non-null int64\n",
      "has_superstructure_cement_mortar_stone    1052948 non-null int64\n",
      "has_superstructure_mud_mortar_brick       1052948 non-null int64\n",
      "has_superstructure_cement_mortar_brick    1052948 non-null int64\n",
      "has_superstructure_timber                 1052948 non-null int64\n",
      "has_superstructure_bamboo                 1052948 non-null int64\n",
      "has_superstructure_rc_non_engineered      1052948 non-null int64\n",
      "has_superstructure_rc_engineered          1052948 non-null int64\n",
      "has_superstructure_other                  1052948 non-null int64\n",
      "condition_post_eq                         1052948 non-null object\n",
      "dtypes: int64(20), object(9)\n",
      "memory usage: 233.0+ MB\n"
     ]
    }
   ],
   "source": [
    "buil_stru.info()"
   ]
  },
  {
   "cell_type": "markdown",
   "metadata": {},
   "source": [
    "Use dummies to convert all the `object` features."
   ]
  },
  {
   "cell_type": "code",
   "execution_count": 11,
   "metadata": {},
   "outputs": [
    {
     "data": {
      "text/plain": [
       "Flat              874202\n",
       "Moderate slope    144748\n",
       "Steep slope        33998\n",
       "Name: land_surface_condition, dtype: int64"
      ]
     },
     "execution_count": 11,
     "metadata": {},
     "output_type": "execute_result"
    }
   ],
   "source": [
    "# For \"land_surface_condition\" take a look at how many classes we have\n",
    "buil_stru.land_surface_condition.value_counts()"
   ]
  },
  {
   "cell_type": "code",
   "execution_count": 12,
   "metadata": {},
   "outputs": [
    {
     "data": {
      "text/plain": [
       "Mud mortar-Stone/Brick    886331\n",
       "Bamboo/Timber              60598\n",
       "Cement-Stone/Brick         57354\n",
       "RC                         42808\n",
       "Other                       5857\n",
       "Name: foundation_type, dtype: int64"
      ]
     },
     "execution_count": 12,
     "metadata": {},
     "output_type": "execute_result"
    }
   ],
   "source": [
    "buil_stru.foundation_type.value_counts()"
   ]
  },
  {
   "cell_type": "code",
   "execution_count": 13,
   "metadata": {},
   "outputs": [
    {
     "data": {
      "text/plain": [
       "Bamboo/Timber-Light roof    739184\n",
       "Bamboo/Timber-Heavy roof    248235\n",
       "RCC/RB/RBC                   65529\n",
       "Name: roof_type, dtype: int64"
      ]
     },
     "execution_count": 13,
     "metadata": {},
     "output_type": "execute_result"
    }
   ],
   "source": [
    "buil_stru.roof_type.value_counts()"
   ]
  },
  {
   "cell_type": "code",
   "execution_count": 14,
   "metadata": {},
   "outputs": [
    {
     "data": {
      "text/plain": [
       "Mud            847250\n",
       "Brick/Stone    100487\n",
       "RC              99046\n",
       "Timber           4072\n",
       "Other            2093\n",
       "Name: ground_floor_type, dtype: int64"
      ]
     },
     "execution_count": 14,
     "metadata": {},
     "output_type": "execute_result"
    }
   ],
   "source": [
    "buil_stru.ground_floor_type.value_counts()"
   ]
  },
  {
   "cell_type": "code",
   "execution_count": 15,
   "metadata": {},
   "outputs": [
    {
     "data": {
      "text/plain": [
       "TImber/Bamboo-Mud    666182\n",
       "Timber-Planck        177571\n",
       "Not applicable       160301\n",
       "RCC/RB/RBC            48894\n",
       "Name: other_floor_type, dtype: int64"
      ]
     },
     "execution_count": 15,
     "metadata": {},
     "output_type": "execute_result"
    }
   ],
   "source": [
    "buil_stru.other_floor_type.value_counts()"
   ]
  },
  {
   "cell_type": "code",
   "execution_count": 16,
   "metadata": {},
   "outputs": [
    {
     "data": {
      "text/plain": [
       "Not attached       816364\n",
       "Attached-1 side    173459\n",
       "Attached-2 side     53522\n",
       "Attached-3 side      9602\n",
       "Name: position, dtype: int64"
      ]
     },
     "execution_count": 16,
     "metadata": {},
     "output_type": "execute_result"
    }
   ],
   "source": [
    "buil_stru.position.value_counts()"
   ]
  },
  {
   "cell_type": "code",
   "execution_count": 17,
   "metadata": {},
   "outputs": [
    {
     "data": {
      "text/plain": [
       "Rectangular                        1009987\n",
       "Square                               23106\n",
       "L-shape                              15088\n",
       "Multi-projected                       1412\n",
       "T-shape                               1302\n",
       "Others                                 994\n",
       "U-shape                                591\n",
       "Building with Central Courtyard        203\n",
       "E-shape                                167\n",
       "H-shape                                 97\n",
       "Name: plan_configuration, dtype: int64"
      ]
     },
     "execution_count": 17,
     "metadata": {},
     "output_type": "execute_result"
    }
   ],
   "source": [
    "buil_stru.plan_configuration.value_counts()"
   ]
  },
  {
   "cell_type": "code",
   "execution_count": 18,
   "metadata": {},
   "outputs": [
    {
     "data": {
      "text/plain": [
       "Damaged-Not used                           249464\n",
       "Damaged-Repaired and used                  211119\n",
       "Damaged-Used in risk                       187480\n",
       "Damaged-Rubble unclear                     145732\n",
       "Damaged-Rubble clear                       132508\n",
       "Not damaged                                 71587\n",
       "Damaged-Rubble Clear-New building built     54587\n",
       "Covered by landslide                          471\n",
       "Name: condition_post_eq, dtype: int64"
      ]
     },
     "execution_count": 18,
     "metadata": {},
     "output_type": "execute_result"
    }
   ],
   "source": [
    "buil_stru.condition_post_eq.value_counts()"
   ]
  },
  {
   "cell_type": "code",
   "execution_count": 19,
   "metadata": {},
   "outputs": [],
   "source": [
    "buil_land_dum = pd.get_dummies(buil_stru.land_surface_condition, prefix='land_')\n",
    "buil_foun = pd.get_dummies(buil_stru.foundation_type, prefix='foun')\n",
    "buil_roof = pd.get_dummies(buil_stru.roof_type, prefix='roof')\n",
    "buil_grnd = pd.get_dummies(buil_stru.ground_floor_type, prefix='grnd')\n",
    "buil_oth = pd.get_dummies(buil_stru.other_floor_type, prefix='oth')\n",
    "buil_pos = pd.get_dummies(buil_stru.position, prefix='pos')\n",
    "buil_plan = pd.get_dummies(buil_stru.plan_configuration, prefix='plan')\n",
    "buil_con = pd.get_dummies(buil_stru.condition_post_eq, prefix='con')"
   ]
  },
  {
   "cell_type": "code",
   "execution_count": 20,
   "metadata": {},
   "outputs": [],
   "source": [
    "buil_stru = pd.concat([buil_stru, buil_land_dum, buil_foun, buil_roof, buil_grnd, buil_oth, buil_pos, buil_pos, buil_plan, buil_con], axis=1).drop(['land_surface_condition','foundation_type','roof_type','ground_floor_type','other_floor_type','position','plan_configuration','condition_post_eq'], axis=1)"
   ]
  },
  {
   "cell_type": "code",
   "execution_count": 21,
   "metadata": {},
   "outputs": [
    {
     "data": {
      "text/plain": [
       "81"
      ]
     },
     "execution_count": 21,
     "metadata": {},
     "output_type": "execute_result"
    }
   ],
   "source": [
    "del buil_land_dum, buil_foun, buil_roof, buil_grnd, buil_oth, buil_pos,buil_plan, buil_con\n",
    "gc.collect()"
   ]
  },
  {
   "cell_type": "code",
   "execution_count": 22,
   "metadata": {},
   "outputs": [],
   "source": [
    "stru_owner = pd.merge(buil_owner, buil_stru, on=['building_id','district_id','vdcmun_id','ward_id'])"
   ]
  },
  {
   "cell_type": "code",
   "execution_count": 23,
   "metadata": {},
   "outputs": [
    {
     "name": "stdout",
     "output_type": "stream",
     "text": [
      "<class 'pandas.core.frame.DataFrame'>\n",
      "Int64Index: 1052948 entries, 0 to 1052947\n",
      "Data columns (total 83 columns):\n",
      "building_id                                    1052948 non-null object\n",
      "district_id                                    1052948 non-null int64\n",
      "vdcmun_id                                      1052948 non-null int64\n",
      "ward_id                                        1052948 non-null int64\n",
      "count_families                                 1052946 non-null float64\n",
      "has_secondary_use                              1052938 non-null float64\n",
      "has_secondary_use_agriculture                  1052948 non-null int64\n",
      "has_secondary_use_hotel                        1052948 non-null int64\n",
      "has_secondary_use_rental                       1052948 non-null int64\n",
      "has_secondary_use_institution                  1052948 non-null int64\n",
      "has_secondary_use_school                       1052948 non-null int64\n",
      "has_secondary_use_industry                     1052948 non-null int64\n",
      "has_secondary_use_health_post                  1052948 non-null int64\n",
      "has_secondary_use_gov_office                   1052948 non-null int64\n",
      "has_secondary_use_use_police                   1052948 non-null int64\n",
      "has_secondary_use_other                        1052948 non-null int64\n",
      "owner_Institutional                            1052948 non-null uint8\n",
      "owner_Other                                    1052948 non-null uint8\n",
      "owner_Private                                  1052948 non-null uint8\n",
      "owner_Public                                   1052948 non-null uint8\n",
      "count_floors_pre_eq                            1052948 non-null int64\n",
      "count_floors_post_eq                           1052948 non-null int64\n",
      "age_building                                   1052948 non-null int64\n",
      "plinth_area_sq_ft                              1052948 non-null int64\n",
      "height_ft_pre_eq                               1052948 non-null int64\n",
      "height_ft_post_eq                              1052948 non-null int64\n",
      "has_superstructure_adobe_mud                   1052948 non-null int64\n",
      "has_superstructure_mud_mortar_stone            1052948 non-null int64\n",
      "has_superstructure_stone_flag                  1052948 non-null int64\n",
      "has_superstructure_cement_mortar_stone         1052948 non-null int64\n",
      "has_superstructure_mud_mortar_brick            1052948 non-null int64\n",
      "has_superstructure_cement_mortar_brick         1052948 non-null int64\n",
      "has_superstructure_timber                      1052948 non-null int64\n",
      "has_superstructure_bamboo                      1052948 non-null int64\n",
      "has_superstructure_rc_non_engineered           1052948 non-null int64\n",
      "has_superstructure_rc_engineered               1052948 non-null int64\n",
      "has_superstructure_other                       1052948 non-null int64\n",
      "land__Flat                                     1052948 non-null uint8\n",
      "land__Moderate slope                           1052948 non-null uint8\n",
      "land__Steep slope                              1052948 non-null uint8\n",
      "foun_Bamboo/Timber                             1052948 non-null uint8\n",
      "foun_Cement-Stone/Brick                        1052948 non-null uint8\n",
      "foun_Mud mortar-Stone/Brick                    1052948 non-null uint8\n",
      "foun_Other                                     1052948 non-null uint8\n",
      "foun_RC                                        1052948 non-null uint8\n",
      "roof_Bamboo/Timber-Heavy roof                  1052948 non-null uint8\n",
      "roof_Bamboo/Timber-Light roof                  1052948 non-null uint8\n",
      "roof_RCC/RB/RBC                                1052948 non-null uint8\n",
      "grnd_Brick/Stone                               1052948 non-null uint8\n",
      "grnd_Mud                                       1052948 non-null uint8\n",
      "grnd_Other                                     1052948 non-null uint8\n",
      "grnd_RC                                        1052948 non-null uint8\n",
      "grnd_Timber                                    1052948 non-null uint8\n",
      "oth_Not applicable                             1052948 non-null uint8\n",
      "oth_RCC/RB/RBC                                 1052948 non-null uint8\n",
      "oth_TImber/Bamboo-Mud                          1052948 non-null uint8\n",
      "oth_Timber-Planck                              1052948 non-null uint8\n",
      "pos_Attached-1 side                            1052948 non-null uint8\n",
      "pos_Attached-2 side                            1052948 non-null uint8\n",
      "pos_Attached-3 side                            1052948 non-null uint8\n",
      "pos_Not attached                               1052948 non-null uint8\n",
      "pos_Attached-1 side                            1052948 non-null uint8\n",
      "pos_Attached-2 side                            1052948 non-null uint8\n",
      "pos_Attached-3 side                            1052948 non-null uint8\n",
      "pos_Not attached                               1052948 non-null uint8\n",
      "plan_Building with Central Courtyard           1052948 non-null uint8\n",
      "plan_E-shape                                   1052948 non-null uint8\n",
      "plan_H-shape                                   1052948 non-null uint8\n",
      "plan_L-shape                                   1052948 non-null uint8\n",
      "plan_Multi-projected                           1052948 non-null uint8\n",
      "plan_Others                                    1052948 non-null uint8\n",
      "plan_Rectangular                               1052948 non-null uint8\n",
      "plan_Square                                    1052948 non-null uint8\n",
      "plan_T-shape                                   1052948 non-null uint8\n",
      "plan_U-shape                                   1052948 non-null uint8\n",
      "con_Covered by landslide                       1052948 non-null uint8\n",
      "con_Damaged-Not used                           1052948 non-null uint8\n",
      "con_Damaged-Repaired and used                  1052948 non-null uint8\n",
      "con_Damaged-Rubble Clear-New building built    1052948 non-null uint8\n",
      "con_Damaged-Rubble clear                       1052948 non-null uint8\n",
      "con_Damaged-Rubble unclear                     1052948 non-null uint8\n",
      "con_Damaged-Used in risk                       1052948 non-null uint8\n",
      "con_Not damaged                                1052948 non-null uint8\n",
      "dtypes: float64(2), int64(30), object(1), uint8(50)\n",
      "memory usage: 323.3+ MB\n"
     ]
    }
   ],
   "source": [
    "stru_owner.info()"
   ]
  },
  {
   "cell_type": "markdown",
   "metadata": {},
   "source": [
    "* Merge train and test dataframe. \n",
    "* First we insert 'damage_grade' in test dataframe with some Negative value."
   ]
  },
  {
   "cell_type": "code",
   "execution_count": 24,
   "metadata": {},
   "outputs": [
    {
     "name": "stderr",
     "output_type": "stream",
     "text": [
      "/home/vivek/anaconda3/lib/python3.6/site-packages/ipykernel_launcher.py:2: FutureWarning: Sorting because non-concatenation axis is not aligned. A future version\n",
      "of pandas will change to not sort by default.\n",
      "\n",
      "To accept the future behavior, pass 'sort=True'.\n",
      "\n",
      "To retain the current behavior and silence the warning, pass sort=False\n",
      "\n",
      "  \n"
     ]
    },
    {
     "data": {
      "text/plain": [
       "(1052936, 14)"
      ]
     },
     "execution_count": 24,
     "metadata": {},
     "output_type": "execute_result"
    }
   ],
   "source": [
    "test['damage_grade'] = -111\n",
    "trn_tst = pd.concat((train, test), axis=0)\n",
    "trn_tst.shape"
   ]
  },
  {
   "cell_type": "code",
   "execution_count": 25,
   "metadata": {},
   "outputs": [
    {
     "name": "stdout",
     "output_type": "stream",
     "text": [
      "<class 'pandas.core.frame.DataFrame'>\n",
      "Int64Index: 1052936 entries, 0 to 421174\n",
      "Data columns (total 14 columns):\n",
      "area_assesed                             1052936 non-null object\n",
      "building_id                              1052936 non-null object\n",
      "damage_grade                             1052936 non-null object\n",
      "district_id                              1052936 non-null int64\n",
      "has_geotechnical_risk                    1052936 non-null float64\n",
      "has_geotechnical_risk_fault_crack        1052936 non-null int64\n",
      "has_geotechnical_risk_flood              1052936 non-null int64\n",
      "has_geotechnical_risk_land_settlement    1052936 non-null int64\n",
      "has_geotechnical_risk_landslide          1052936 non-null int64\n",
      "has_geotechnical_risk_liquefaction       1052936 non-null int64\n",
      "has_geotechnical_risk_other              1052936 non-null int64\n",
      "has_geotechnical_risk_rock_fall          1052936 non-null int64\n",
      "has_repair_started                       997597 non-null float64\n",
      "vdcmun_id                                1052936 non-null int64\n",
      "dtypes: float64(2), int64(9), object(3)\n",
      "memory usage: 120.5+ MB\n"
     ]
    }
   ],
   "source": [
    "trn_tst.info()"
   ]
  },
  {
   "cell_type": "code",
   "execution_count": 26,
   "metadata": {},
   "outputs": [
    {
     "data": {
      "text/plain": [
       "Both                   638160\n",
       "Building removed       218946\n",
       "Exterior               165421\n",
       "Not able to inspect     27385\n",
       "Interior                 3024\n",
       "Name: area_assesed, dtype: int64"
      ]
     },
     "execution_count": 26,
     "metadata": {},
     "output_type": "execute_result"
    }
   ],
   "source": [
    "trn_tst['area_assesed'].value_counts()"
   ]
  },
  {
   "cell_type": "code",
   "execution_count": 27,
   "metadata": {},
   "outputs": [],
   "source": [
    "trn_tst = pd.concat([trn_tst, pd.get_dummies(trn_tst.area_assesed)], axis=1).drop('area_assesed', axis=1)"
   ]
  },
  {
   "cell_type": "code",
   "execution_count": 28,
   "metadata": {},
   "outputs": [
    {
     "name": "stdout",
     "output_type": "stream",
     "text": [
      "<class 'pandas.core.frame.DataFrame'>\n",
      "Int64Index: 1052936 entries, 0 to 1052935\n",
      "Data columns (total 98 columns):\n",
      "building_id                                    1052936 non-null object\n",
      "district_id                                    1052936 non-null int64\n",
      "vdcmun_id                                      1052936 non-null int64\n",
      "ward_id                                        1052936 non-null int64\n",
      "count_families                                 1052935 non-null float64\n",
      "has_secondary_use                              1052936 non-null float64\n",
      "has_secondary_use_agriculture                  1052936 non-null int64\n",
      "has_secondary_use_hotel                        1052936 non-null int64\n",
      "has_secondary_use_rental                       1052936 non-null int64\n",
      "has_secondary_use_institution                  1052936 non-null int64\n",
      "has_secondary_use_school                       1052936 non-null int64\n",
      "has_secondary_use_industry                     1052936 non-null int64\n",
      "has_secondary_use_health_post                  1052936 non-null int64\n",
      "has_secondary_use_gov_office                   1052936 non-null int64\n",
      "has_secondary_use_use_police                   1052936 non-null int64\n",
      "has_secondary_use_other                        1052936 non-null int64\n",
      "owner_Institutional                            1052936 non-null uint8\n",
      "owner_Other                                    1052936 non-null uint8\n",
      "owner_Private                                  1052936 non-null uint8\n",
      "owner_Public                                   1052936 non-null uint8\n",
      "count_floors_pre_eq                            1052936 non-null int64\n",
      "count_floors_post_eq                           1052936 non-null int64\n",
      "age_building                                   1052936 non-null int64\n",
      "plinth_area_sq_ft                              1052936 non-null int64\n",
      "height_ft_pre_eq                               1052936 non-null int64\n",
      "height_ft_post_eq                              1052936 non-null int64\n",
      "has_superstructure_adobe_mud                   1052936 non-null int64\n",
      "has_superstructure_mud_mortar_stone            1052936 non-null int64\n",
      "has_superstructure_stone_flag                  1052936 non-null int64\n",
      "has_superstructure_cement_mortar_stone         1052936 non-null int64\n",
      "has_superstructure_mud_mortar_brick            1052936 non-null int64\n",
      "has_superstructure_cement_mortar_brick         1052936 non-null int64\n",
      "has_superstructure_timber                      1052936 non-null int64\n",
      "has_superstructure_bamboo                      1052936 non-null int64\n",
      "has_superstructure_rc_non_engineered           1052936 non-null int64\n",
      "has_superstructure_rc_engineered               1052936 non-null int64\n",
      "has_superstructure_other                       1052936 non-null int64\n",
      "land__Flat                                     1052936 non-null uint8\n",
      "land__Moderate slope                           1052936 non-null uint8\n",
      "land__Steep slope                              1052936 non-null uint8\n",
      "foun_Bamboo/Timber                             1052936 non-null uint8\n",
      "foun_Cement-Stone/Brick                        1052936 non-null uint8\n",
      "foun_Mud mortar-Stone/Brick                    1052936 non-null uint8\n",
      "foun_Other                                     1052936 non-null uint8\n",
      "foun_RC                                        1052936 non-null uint8\n",
      "roof_Bamboo/Timber-Heavy roof                  1052936 non-null uint8\n",
      "roof_Bamboo/Timber-Light roof                  1052936 non-null uint8\n",
      "roof_RCC/RB/RBC                                1052936 non-null uint8\n",
      "grnd_Brick/Stone                               1052936 non-null uint8\n",
      "grnd_Mud                                       1052936 non-null uint8\n",
      "grnd_Other                                     1052936 non-null uint8\n",
      "grnd_RC                                        1052936 non-null uint8\n",
      "grnd_Timber                                    1052936 non-null uint8\n",
      "oth_Not applicable                             1052936 non-null uint8\n",
      "oth_RCC/RB/RBC                                 1052936 non-null uint8\n",
      "oth_TImber/Bamboo-Mud                          1052936 non-null uint8\n",
      "oth_Timber-Planck                              1052936 non-null uint8\n",
      "pos_Attached-1 side                            1052936 non-null uint8\n",
      "pos_Attached-2 side                            1052936 non-null uint8\n",
      "pos_Attached-3 side                            1052936 non-null uint8\n",
      "pos_Not attached                               1052936 non-null uint8\n",
      "pos_Attached-1 side                            1052936 non-null uint8\n",
      "pos_Attached-2 side                            1052936 non-null uint8\n",
      "pos_Attached-3 side                            1052936 non-null uint8\n",
      "pos_Not attached                               1052936 non-null uint8\n",
      "plan_Building with Central Courtyard           1052936 non-null uint8\n",
      "plan_E-shape                                   1052936 non-null uint8\n",
      "plan_H-shape                                   1052936 non-null uint8\n",
      "plan_L-shape                                   1052936 non-null uint8\n",
      "plan_Multi-projected                           1052936 non-null uint8\n",
      "plan_Others                                    1052936 non-null uint8\n",
      "plan_Rectangular                               1052936 non-null uint8\n",
      "plan_Square                                    1052936 non-null uint8\n",
      "plan_T-shape                                   1052936 non-null uint8\n",
      "plan_U-shape                                   1052936 non-null uint8\n",
      "con_Covered by landslide                       1052936 non-null uint8\n",
      "con_Damaged-Not used                           1052936 non-null uint8\n",
      "con_Damaged-Repaired and used                  1052936 non-null uint8\n",
      "con_Damaged-Rubble Clear-New building built    1052936 non-null uint8\n",
      "con_Damaged-Rubble clear                       1052936 non-null uint8\n",
      "con_Damaged-Rubble unclear                     1052936 non-null uint8\n",
      "con_Damaged-Used in risk                       1052936 non-null uint8\n",
      "con_Not damaged                                1052936 non-null uint8\n",
      "damage_grade                                   1052936 non-null object\n",
      "has_geotechnical_risk                          1052936 non-null float64\n",
      "has_geotechnical_risk_fault_crack              1052936 non-null int64\n",
      "has_geotechnical_risk_flood                    1052936 non-null int64\n",
      "has_geotechnical_risk_land_settlement          1052936 non-null int64\n",
      "has_geotechnical_risk_landslide                1052936 non-null int64\n",
      "has_geotechnical_risk_liquefaction             1052936 non-null int64\n",
      "has_geotechnical_risk_other                    1052936 non-null int64\n",
      "has_geotechnical_risk_rock_fall                1052936 non-null int64\n",
      "has_repair_started                             997597 non-null float64\n",
      "Both                                           1052936 non-null uint8\n",
      "Building removed                               1052936 non-null uint8\n",
      "Exterior                                       1052936 non-null uint8\n",
      "Interior                                       1052936 non-null uint8\n",
      "Not able to inspect                            1052936 non-null uint8\n",
      "dtypes: float64(4), int64(37), object(2), uint8(55)\n",
      "memory usage: 408.7+ MB\n"
     ]
    }
   ],
   "source": [
    "full = pd.merge(stru_owner, trn_tst,on=['building_id','district_id','vdcmun_id'])\n",
    "full.info()"
   ]
  },
  {
   "cell_type": "markdown",
   "metadata": {},
   "source": [
    "We have only one feature variable which contains missing values.\n",
    "Let's check out this values and we will use `Imputer` to fill the missing values."
   ]
  },
  {
   "cell_type": "code",
   "execution_count": 29,
   "metadata": {},
   "outputs": [],
   "source": [
    "from sklearn.preprocessing import Imputer\n",
    "imp = Imputer(missing_values=\"NaN\", strategy='most_frequent')\n",
    "imputed_values = full.has_repair_started.values.reshape(-1,1)\n",
    "full.has_repair_started = imp.fit_transform(imputed_values, full.has_repair_started)"
   ]
  },
  {
   "cell_type": "code",
   "execution_count": 30,
   "metadata": {},
   "outputs": [
    {
     "name": "stdout",
     "output_type": "stream",
     "text": [
      "<class 'pandas.core.frame.DataFrame'>\n",
      "Int64Index: 1052936 entries, 0 to 1052935\n",
      "Data columns (total 98 columns):\n",
      "building_id                                    1052936 non-null object\n",
      "district_id                                    1052936 non-null int64\n",
      "vdcmun_id                                      1052936 non-null int64\n",
      "ward_id                                        1052936 non-null int64\n",
      "count_families                                 1052935 non-null float64\n",
      "has_secondary_use                              1052936 non-null float64\n",
      "has_secondary_use_agriculture                  1052936 non-null int64\n",
      "has_secondary_use_hotel                        1052936 non-null int64\n",
      "has_secondary_use_rental                       1052936 non-null int64\n",
      "has_secondary_use_institution                  1052936 non-null int64\n",
      "has_secondary_use_school                       1052936 non-null int64\n",
      "has_secondary_use_industry                     1052936 non-null int64\n",
      "has_secondary_use_health_post                  1052936 non-null int64\n",
      "has_secondary_use_gov_office                   1052936 non-null int64\n",
      "has_secondary_use_use_police                   1052936 non-null int64\n",
      "has_secondary_use_other                        1052936 non-null int64\n",
      "owner_Institutional                            1052936 non-null uint8\n",
      "owner_Other                                    1052936 non-null uint8\n",
      "owner_Private                                  1052936 non-null uint8\n",
      "owner_Public                                   1052936 non-null uint8\n",
      "count_floors_pre_eq                            1052936 non-null int64\n",
      "count_floors_post_eq                           1052936 non-null int64\n",
      "age_building                                   1052936 non-null int64\n",
      "plinth_area_sq_ft                              1052936 non-null int64\n",
      "height_ft_pre_eq                               1052936 non-null int64\n",
      "height_ft_post_eq                              1052936 non-null int64\n",
      "has_superstructure_adobe_mud                   1052936 non-null int64\n",
      "has_superstructure_mud_mortar_stone            1052936 non-null int64\n",
      "has_superstructure_stone_flag                  1052936 non-null int64\n",
      "has_superstructure_cement_mortar_stone         1052936 non-null int64\n",
      "has_superstructure_mud_mortar_brick            1052936 non-null int64\n",
      "has_superstructure_cement_mortar_brick         1052936 non-null int64\n",
      "has_superstructure_timber                      1052936 non-null int64\n",
      "has_superstructure_bamboo                      1052936 non-null int64\n",
      "has_superstructure_rc_non_engineered           1052936 non-null int64\n",
      "has_superstructure_rc_engineered               1052936 non-null int64\n",
      "has_superstructure_other                       1052936 non-null int64\n",
      "land__Flat                                     1052936 non-null uint8\n",
      "land__Moderate slope                           1052936 non-null uint8\n",
      "land__Steep slope                              1052936 non-null uint8\n",
      "foun_Bamboo/Timber                             1052936 non-null uint8\n",
      "foun_Cement-Stone/Brick                        1052936 non-null uint8\n",
      "foun_Mud mortar-Stone/Brick                    1052936 non-null uint8\n",
      "foun_Other                                     1052936 non-null uint8\n",
      "foun_RC                                        1052936 non-null uint8\n",
      "roof_Bamboo/Timber-Heavy roof                  1052936 non-null uint8\n",
      "roof_Bamboo/Timber-Light roof                  1052936 non-null uint8\n",
      "roof_RCC/RB/RBC                                1052936 non-null uint8\n",
      "grnd_Brick/Stone                               1052936 non-null uint8\n",
      "grnd_Mud                                       1052936 non-null uint8\n",
      "grnd_Other                                     1052936 non-null uint8\n",
      "grnd_RC                                        1052936 non-null uint8\n",
      "grnd_Timber                                    1052936 non-null uint8\n",
      "oth_Not applicable                             1052936 non-null uint8\n",
      "oth_RCC/RB/RBC                                 1052936 non-null uint8\n",
      "oth_TImber/Bamboo-Mud                          1052936 non-null uint8\n",
      "oth_Timber-Planck                              1052936 non-null uint8\n",
      "pos_Attached-1 side                            1052936 non-null uint8\n",
      "pos_Attached-2 side                            1052936 non-null uint8\n",
      "pos_Attached-3 side                            1052936 non-null uint8\n",
      "pos_Not attached                               1052936 non-null uint8\n",
      "pos_Attached-1 side                            1052936 non-null uint8\n",
      "pos_Attached-2 side                            1052936 non-null uint8\n",
      "pos_Attached-3 side                            1052936 non-null uint8\n",
      "pos_Not attached                               1052936 non-null uint8\n",
      "plan_Building with Central Courtyard           1052936 non-null uint8\n",
      "plan_E-shape                                   1052936 non-null uint8\n",
      "plan_H-shape                                   1052936 non-null uint8\n",
      "plan_L-shape                                   1052936 non-null uint8\n",
      "plan_Multi-projected                           1052936 non-null uint8\n",
      "plan_Others                                    1052936 non-null uint8\n",
      "plan_Rectangular                               1052936 non-null uint8\n",
      "plan_Square                                    1052936 non-null uint8\n",
      "plan_T-shape                                   1052936 non-null uint8\n",
      "plan_U-shape                                   1052936 non-null uint8\n",
      "con_Covered by landslide                       1052936 non-null uint8\n",
      "con_Damaged-Not used                           1052936 non-null uint8\n",
      "con_Damaged-Repaired and used                  1052936 non-null uint8\n",
      "con_Damaged-Rubble Clear-New building built    1052936 non-null uint8\n",
      "con_Damaged-Rubble clear                       1052936 non-null uint8\n",
      "con_Damaged-Rubble unclear                     1052936 non-null uint8\n",
      "con_Damaged-Used in risk                       1052936 non-null uint8\n",
      "con_Not damaged                                1052936 non-null uint8\n",
      "damage_grade                                   1052936 non-null object\n",
      "has_geotechnical_risk                          1052936 non-null float64\n",
      "has_geotechnical_risk_fault_crack              1052936 non-null int64\n",
      "has_geotechnical_risk_flood                    1052936 non-null int64\n",
      "has_geotechnical_risk_land_settlement          1052936 non-null int64\n",
      "has_geotechnical_risk_landslide                1052936 non-null int64\n",
      "has_geotechnical_risk_liquefaction             1052936 non-null int64\n",
      "has_geotechnical_risk_other                    1052936 non-null int64\n",
      "has_geotechnical_risk_rock_fall                1052936 non-null int64\n",
      "has_repair_started                             1052936 non-null float64\n",
      "Both                                           1052936 non-null uint8\n",
      "Building removed                               1052936 non-null uint8\n",
      "Exterior                                       1052936 non-null uint8\n",
      "Interior                                       1052936 non-null uint8\n",
      "Not able to inspect                            1052936 non-null uint8\n",
      "dtypes: float64(4), int64(37), object(2), uint8(55)\n",
      "memory usage: 408.7+ MB\n"
     ]
    }
   ],
   "source": [
    "full.info()"
   ]
  },
  {
   "cell_type": "code",
   "execution_count": 31,
   "metadata": {},
   "outputs": [
    {
     "data": {
      "text/plain": [
       "(1052936, 98)"
      ]
     },
     "execution_count": 31,
     "metadata": {},
     "output_type": "execute_result"
    }
   ],
   "source": [
    "full.shape"
   ]
  },
  {
   "cell_type": "code",
   "execution_count": 34,
   "metadata": {},
   "outputs": [
    {
     "data": {
      "text/plain": [
       "building_id                                    0\n",
       "district_id                                    0\n",
       "vdcmun_id                                      0\n",
       "ward_id                                        0\n",
       "count_families                                 1\n",
       "has_secondary_use                              0\n",
       "has_secondary_use_agriculture                  0\n",
       "has_secondary_use_hotel                        0\n",
       "has_secondary_use_rental                       0\n",
       "has_secondary_use_institution                  0\n",
       "has_secondary_use_school                       0\n",
       "has_secondary_use_industry                     0\n",
       "has_secondary_use_health_post                  0\n",
       "has_secondary_use_gov_office                   0\n",
       "has_secondary_use_use_police                   0\n",
       "has_secondary_use_other                        0\n",
       "owner_Institutional                            0\n",
       "owner_Other                                    0\n",
       "owner_Private                                  0\n",
       "owner_Public                                   0\n",
       "count_floors_pre_eq                            0\n",
       "count_floors_post_eq                           0\n",
       "age_building                                   0\n",
       "plinth_area_sq_ft                              0\n",
       "height_ft_pre_eq                               0\n",
       "height_ft_post_eq                              0\n",
       "has_superstructure_adobe_mud                   0\n",
       "has_superstructure_mud_mortar_stone            0\n",
       "has_superstructure_stone_flag                  0\n",
       "has_superstructure_cement_mortar_stone         0\n",
       "                                              ..\n",
       "plan_L-shape                                   0\n",
       "plan_Multi-projected                           0\n",
       "plan_Others                                    0\n",
       "plan_Rectangular                               0\n",
       "plan_Square                                    0\n",
       "plan_T-shape                                   0\n",
       "plan_U-shape                                   0\n",
       "con_Covered by landslide                       0\n",
       "con_Damaged-Not used                           0\n",
       "con_Damaged-Repaired and used                  0\n",
       "con_Damaged-Rubble Clear-New building built    0\n",
       "con_Damaged-Rubble clear                       0\n",
       "con_Damaged-Rubble unclear                     0\n",
       "con_Damaged-Used in risk                       0\n",
       "con_Not damaged                                0\n",
       "damage_grade                                   0\n",
       "has_geotechnical_risk                          0\n",
       "has_geotechnical_risk_fault_crack              0\n",
       "has_geotechnical_risk_flood                    0\n",
       "has_geotechnical_risk_land_settlement          0\n",
       "has_geotechnical_risk_landslide                0\n",
       "has_geotechnical_risk_liquefaction             0\n",
       "has_geotechnical_risk_other                    0\n",
       "has_geotechnical_risk_rock_fall                0\n",
       "has_repair_started                             0\n",
       "Both                                           0\n",
       "Building removed                               0\n",
       "Exterior                                       0\n",
       "Interior                                       0\n",
       "Not able to inspect                            0\n",
       "Length: 98, dtype: int64"
      ]
     },
     "execution_count": 34,
     "metadata": {},
     "output_type": "execute_result"
    }
   ],
   "source": [
    "full.isnull().sum()"
   ]
  },
  {
   "cell_type": "code",
   "execution_count": 35,
   "metadata": {},
   "outputs": [
    {
     "data": {
      "text/plain": [
       "1.0     913095\n",
       "0.0      84304\n",
       "2.0      46244\n",
       "3.0       7075\n",
       "4.0       1618\n",
       "5.0        413\n",
       "6.0        128\n",
       "7.0         33\n",
       "8.0         16\n",
       "9.0          8\n",
       "11.0         1\n",
       "Name: count_families, dtype: int64"
      ]
     },
     "execution_count": 35,
     "metadata": {},
     "output_type": "execute_result"
    }
   ],
   "source": [
    "full.count_families.value_counts()"
   ]
  },
  {
   "cell_type": "code",
   "execution_count": 36,
   "metadata": {},
   "outputs": [],
   "source": [
    "imp1 = Imputer(missing_values=\"NaN\", strategy=\"most_frequent\")\n",
    "imputed_values1 = full.count_families.values.reshape(-1,1)\n",
    "full.count_families = imp1.fit_transform(imputed_values1, full.count_families)"
   ]
  },
  {
   "cell_type": "code",
   "execution_count": 39,
   "metadata": {},
   "outputs": [
    {
     "data": {
      "text/plain": [
       "0"
      ]
     },
     "execution_count": 39,
     "metadata": {},
     "output_type": "execute_result"
    }
   ],
   "source": [
    "# let's check is there any null values in our dataframe\n",
    "full.isnull().sum().sum()"
   ]
  },
  {
   "cell_type": "code",
   "execution_count": 40,
   "metadata": {},
   "outputs": [
    {
     "name": "stdout",
     "output_type": "stream",
     "text": [
      "<class 'pandas.core.frame.DataFrame'>\n",
      "Int64Index: 1052936 entries, 0 to 1052935\n",
      "Data columns (total 98 columns):\n",
      "building_id                                    1052936 non-null object\n",
      "district_id                                    1052936 non-null int64\n",
      "vdcmun_id                                      1052936 non-null int64\n",
      "ward_id                                        1052936 non-null int64\n",
      "count_families                                 1052936 non-null float64\n",
      "has_secondary_use                              1052936 non-null float64\n",
      "has_secondary_use_agriculture                  1052936 non-null int64\n",
      "has_secondary_use_hotel                        1052936 non-null int64\n",
      "has_secondary_use_rental                       1052936 non-null int64\n",
      "has_secondary_use_institution                  1052936 non-null int64\n",
      "has_secondary_use_school                       1052936 non-null int64\n",
      "has_secondary_use_industry                     1052936 non-null int64\n",
      "has_secondary_use_health_post                  1052936 non-null int64\n",
      "has_secondary_use_gov_office                   1052936 non-null int64\n",
      "has_secondary_use_use_police                   1052936 non-null int64\n",
      "has_secondary_use_other                        1052936 non-null int64\n",
      "owner_Institutional                            1052936 non-null uint8\n",
      "owner_Other                                    1052936 non-null uint8\n",
      "owner_Private                                  1052936 non-null uint8\n",
      "owner_Public                                   1052936 non-null uint8\n",
      "count_floors_pre_eq                            1052936 non-null int64\n",
      "count_floors_post_eq                           1052936 non-null int64\n",
      "age_building                                   1052936 non-null int64\n",
      "plinth_area_sq_ft                              1052936 non-null int64\n",
      "height_ft_pre_eq                               1052936 non-null int64\n",
      "height_ft_post_eq                              1052936 non-null int64\n",
      "has_superstructure_adobe_mud                   1052936 non-null int64\n",
      "has_superstructure_mud_mortar_stone            1052936 non-null int64\n",
      "has_superstructure_stone_flag                  1052936 non-null int64\n",
      "has_superstructure_cement_mortar_stone         1052936 non-null int64\n",
      "has_superstructure_mud_mortar_brick            1052936 non-null int64\n",
      "has_superstructure_cement_mortar_brick         1052936 non-null int64\n",
      "has_superstructure_timber                      1052936 non-null int64\n",
      "has_superstructure_bamboo                      1052936 non-null int64\n",
      "has_superstructure_rc_non_engineered           1052936 non-null int64\n",
      "has_superstructure_rc_engineered               1052936 non-null int64\n",
      "has_superstructure_other                       1052936 non-null int64\n",
      "land__Flat                                     1052936 non-null uint8\n",
      "land__Moderate slope                           1052936 non-null uint8\n",
      "land__Steep slope                              1052936 non-null uint8\n",
      "foun_Bamboo/Timber                             1052936 non-null uint8\n",
      "foun_Cement-Stone/Brick                        1052936 non-null uint8\n",
      "foun_Mud mortar-Stone/Brick                    1052936 non-null uint8\n",
      "foun_Other                                     1052936 non-null uint8\n",
      "foun_RC                                        1052936 non-null uint8\n",
      "roof_Bamboo/Timber-Heavy roof                  1052936 non-null uint8\n",
      "roof_Bamboo/Timber-Light roof                  1052936 non-null uint8\n",
      "roof_RCC/RB/RBC                                1052936 non-null uint8\n",
      "grnd_Brick/Stone                               1052936 non-null uint8\n",
      "grnd_Mud                                       1052936 non-null uint8\n",
      "grnd_Other                                     1052936 non-null uint8\n",
      "grnd_RC                                        1052936 non-null uint8\n",
      "grnd_Timber                                    1052936 non-null uint8\n",
      "oth_Not applicable                             1052936 non-null uint8\n",
      "oth_RCC/RB/RBC                                 1052936 non-null uint8\n",
      "oth_TImber/Bamboo-Mud                          1052936 non-null uint8\n",
      "oth_Timber-Planck                              1052936 non-null uint8\n",
      "pos_Attached-1 side                            1052936 non-null uint8\n",
      "pos_Attached-2 side                            1052936 non-null uint8\n",
      "pos_Attached-3 side                            1052936 non-null uint8\n",
      "pos_Not attached                               1052936 non-null uint8\n",
      "pos_Attached-1 side                            1052936 non-null uint8\n",
      "pos_Attached-2 side                            1052936 non-null uint8\n",
      "pos_Attached-3 side                            1052936 non-null uint8\n",
      "pos_Not attached                               1052936 non-null uint8\n",
      "plan_Building with Central Courtyard           1052936 non-null uint8\n",
      "plan_E-shape                                   1052936 non-null uint8\n",
      "plan_H-shape                                   1052936 non-null uint8\n",
      "plan_L-shape                                   1052936 non-null uint8\n",
      "plan_Multi-projected                           1052936 non-null uint8\n",
      "plan_Others                                    1052936 non-null uint8\n",
      "plan_Rectangular                               1052936 non-null uint8\n",
      "plan_Square                                    1052936 non-null uint8\n",
      "plan_T-shape                                   1052936 non-null uint8\n",
      "plan_U-shape                                   1052936 non-null uint8\n",
      "con_Covered by landslide                       1052936 non-null uint8\n",
      "con_Damaged-Not used                           1052936 non-null uint8\n",
      "con_Damaged-Repaired and used                  1052936 non-null uint8\n",
      "con_Damaged-Rubble Clear-New building built    1052936 non-null uint8\n",
      "con_Damaged-Rubble clear                       1052936 non-null uint8\n",
      "con_Damaged-Rubble unclear                     1052936 non-null uint8\n",
      "con_Damaged-Used in risk                       1052936 non-null uint8\n",
      "con_Not damaged                                1052936 non-null uint8\n",
      "damage_grade                                   1052936 non-null object\n",
      "has_geotechnical_risk                          1052936 non-null float64\n",
      "has_geotechnical_risk_fault_crack              1052936 non-null int64\n",
      "has_geotechnical_risk_flood                    1052936 non-null int64\n",
      "has_geotechnical_risk_land_settlement          1052936 non-null int64\n",
      "has_geotechnical_risk_landslide                1052936 non-null int64\n",
      "has_geotechnical_risk_liquefaction             1052936 non-null int64\n",
      "has_geotechnical_risk_other                    1052936 non-null int64\n",
      "has_geotechnical_risk_rock_fall                1052936 non-null int64\n",
      "has_repair_started                             1052936 non-null float64\n",
      "Both                                           1052936 non-null uint8\n",
      "Building removed                               1052936 non-null uint8\n",
      "Exterior                                       1052936 non-null uint8\n",
      "Interior                                       1052936 non-null uint8\n",
      "Not able to inspect                            1052936 non-null uint8\n",
      "dtypes: float64(4), int64(37), object(2), uint8(55)\n",
      "memory usage: 408.7+ MB\n"
     ]
    }
   ],
   "source": [
    "full.info()"
   ]
  },
  {
   "cell_type": "code",
   "execution_count": 41,
   "metadata": {},
   "outputs": [
    {
     "data": {
      "text/plain": [
       "(1052936, 98)"
      ]
     },
     "execution_count": 41,
     "metadata": {},
     "output_type": "execute_result"
    }
   ],
   "source": [
    "full.shape"
   ]
  },
  {
   "cell_type": "markdown",
   "metadata": {},
   "source": [
    "### Dropping and transforming column values\n",
    "\n",
    "Set the `building_id` as index"
   ]
  },
  {
   "cell_type": "code",
   "execution_count": 42,
   "metadata": {},
   "outputs": [
    {
     "data": {
      "text/html": [
       "<div>\n",
       "<style scoped>\n",
       "    .dataframe tbody tr th:only-of-type {\n",
       "        vertical-align: middle;\n",
       "    }\n",
       "\n",
       "    .dataframe tbody tr th {\n",
       "        vertical-align: top;\n",
       "    }\n",
       "\n",
       "    .dataframe thead th {\n",
       "        text-align: right;\n",
       "    }\n",
       "</style>\n",
       "<table border=\"1\" class=\"dataframe\">\n",
       "  <thead>\n",
       "    <tr style=\"text-align: right;\">\n",
       "      <th></th>\n",
       "      <th>district_id</th>\n",
       "      <th>vdcmun_id</th>\n",
       "      <th>ward_id</th>\n",
       "      <th>count_families</th>\n",
       "      <th>has_secondary_use</th>\n",
       "      <th>has_secondary_use_agriculture</th>\n",
       "      <th>has_secondary_use_hotel</th>\n",
       "      <th>has_secondary_use_rental</th>\n",
       "      <th>has_secondary_use_institution</th>\n",
       "      <th>has_secondary_use_school</th>\n",
       "      <th>...</th>\n",
       "      <th>has_geotechnical_risk_landslide</th>\n",
       "      <th>has_geotechnical_risk_liquefaction</th>\n",
       "      <th>has_geotechnical_risk_other</th>\n",
       "      <th>has_geotechnical_risk_rock_fall</th>\n",
       "      <th>has_repair_started</th>\n",
       "      <th>Both</th>\n",
       "      <th>Building removed</th>\n",
       "      <th>Exterior</th>\n",
       "      <th>Interior</th>\n",
       "      <th>Not able to inspect</th>\n",
       "    </tr>\n",
       "    <tr>\n",
       "      <th>building_id</th>\n",
       "      <th></th>\n",
       "      <th></th>\n",
       "      <th></th>\n",
       "      <th></th>\n",
       "      <th></th>\n",
       "      <th></th>\n",
       "      <th></th>\n",
       "      <th></th>\n",
       "      <th></th>\n",
       "      <th></th>\n",
       "      <th></th>\n",
       "      <th></th>\n",
       "      <th></th>\n",
       "      <th></th>\n",
       "      <th></th>\n",
       "      <th></th>\n",
       "      <th></th>\n",
       "      <th></th>\n",
       "      <th></th>\n",
       "      <th></th>\n",
       "      <th></th>\n",
       "    </tr>\n",
       "  </thead>\n",
       "  <tbody>\n",
       "    <tr>\n",
       "      <th>a3380c4f75</th>\n",
       "      <td>7</td>\n",
       "      <td>701</td>\n",
       "      <td>70102</td>\n",
       "      <td>1.0</td>\n",
       "      <td>0.0</td>\n",
       "      <td>0</td>\n",
       "      <td>0</td>\n",
       "      <td>0</td>\n",
       "      <td>0</td>\n",
       "      <td>0</td>\n",
       "      <td>...</td>\n",
       "      <td>0</td>\n",
       "      <td>0</td>\n",
       "      <td>0</td>\n",
       "      <td>0</td>\n",
       "      <td>1.0</td>\n",
       "      <td>1</td>\n",
       "      <td>0</td>\n",
       "      <td>0</td>\n",
       "      <td>0</td>\n",
       "      <td>0</td>\n",
       "    </tr>\n",
       "    <tr>\n",
       "      <th>a3380c4fd9</th>\n",
       "      <td>7</td>\n",
       "      <td>701</td>\n",
       "      <td>70102</td>\n",
       "      <td>1.0</td>\n",
       "      <td>0.0</td>\n",
       "      <td>0</td>\n",
       "      <td>0</td>\n",
       "      <td>0</td>\n",
       "      <td>0</td>\n",
       "      <td>0</td>\n",
       "      <td>...</td>\n",
       "      <td>0</td>\n",
       "      <td>0</td>\n",
       "      <td>0</td>\n",
       "      <td>0</td>\n",
       "      <td>1.0</td>\n",
       "      <td>1</td>\n",
       "      <td>0</td>\n",
       "      <td>0</td>\n",
       "      <td>0</td>\n",
       "      <td>0</td>\n",
       "    </tr>\n",
       "  </tbody>\n",
       "</table>\n",
       "<p>2 rows × 97 columns</p>\n",
       "</div>"
      ],
      "text/plain": [
       "             district_id  vdcmun_id  ward_id  count_families  \\\n",
       "building_id                                                    \n",
       "a3380c4f75             7        701    70102             1.0   \n",
       "a3380c4fd9             7        701    70102             1.0   \n",
       "\n",
       "             has_secondary_use  has_secondary_use_agriculture  \\\n",
       "building_id                                                     \n",
       "a3380c4f75                 0.0                              0   \n",
       "a3380c4fd9                 0.0                              0   \n",
       "\n",
       "             has_secondary_use_hotel  has_secondary_use_rental  \\\n",
       "building_id                                                      \n",
       "a3380c4f75                         0                         0   \n",
       "a3380c4fd9                         0                         0   \n",
       "\n",
       "             has_secondary_use_institution  has_secondary_use_school  \\\n",
       "building_id                                                            \n",
       "a3380c4f75                               0                         0   \n",
       "a3380c4fd9                               0                         0   \n",
       "\n",
       "                    ...           has_geotechnical_risk_landslide  \\\n",
       "building_id         ...                                             \n",
       "a3380c4f75          ...                                         0   \n",
       "a3380c4fd9          ...                                         0   \n",
       "\n",
       "             has_geotechnical_risk_liquefaction  has_geotechnical_risk_other  \\\n",
       "building_id                                                                    \n",
       "a3380c4f75                                    0                            0   \n",
       "a3380c4fd9                                    0                            0   \n",
       "\n",
       "             has_geotechnical_risk_rock_fall  has_repair_started  Both  \\\n",
       "building_id                                                              \n",
       "a3380c4f75                                 0                 1.0     1   \n",
       "a3380c4fd9                                 0                 1.0     1   \n",
       "\n",
       "             Building removed  Exterior  Interior  Not able to inspect  \n",
       "building_id                                                             \n",
       "a3380c4f75                  0         0         0                    0  \n",
       "a3380c4fd9                  0         0         0                    0  \n",
       "\n",
       "[2 rows x 97 columns]"
      ]
     },
     "execution_count": 42,
     "metadata": {},
     "output_type": "execute_result"
    }
   ],
   "source": [
    "full = full.set_index('building_id')\n",
    "full.head(2)"
   ]
  },
  {
   "cell_type": "markdown",
   "metadata": {},
   "source": [
    "Dropping the columns which are not required."
   ]
  },
  {
   "cell_type": "code",
   "execution_count": 43,
   "metadata": {},
   "outputs": [
    {
     "name": "stdout",
     "output_type": "stream",
     "text": [
      "<class 'pandas.core.frame.DataFrame'>\n",
      "Index: 1052936 entries, a3380c4f75 to 355cf98fa8d\n",
      "Data columns (total 94 columns):\n",
      "count_families                                 1052936 non-null float64\n",
      "has_secondary_use                              1052936 non-null float64\n",
      "has_secondary_use_agriculture                  1052936 non-null int64\n",
      "has_secondary_use_hotel                        1052936 non-null int64\n",
      "has_secondary_use_rental                       1052936 non-null int64\n",
      "has_secondary_use_institution                  1052936 non-null int64\n",
      "has_secondary_use_school                       1052936 non-null int64\n",
      "has_secondary_use_industry                     1052936 non-null int64\n",
      "has_secondary_use_health_post                  1052936 non-null int64\n",
      "has_secondary_use_gov_office                   1052936 non-null int64\n",
      "has_secondary_use_use_police                   1052936 non-null int64\n",
      "has_secondary_use_other                        1052936 non-null int64\n",
      "owner_Institutional                            1052936 non-null uint8\n",
      "owner_Other                                    1052936 non-null uint8\n",
      "owner_Private                                  1052936 non-null uint8\n",
      "owner_Public                                   1052936 non-null uint8\n",
      "count_floors_pre_eq                            1052936 non-null int64\n",
      "count_floors_post_eq                           1052936 non-null int64\n",
      "age_building                                   1052936 non-null int64\n",
      "plinth_area_sq_ft                              1052936 non-null int64\n",
      "height_ft_pre_eq                               1052936 non-null int64\n",
      "height_ft_post_eq                              1052936 non-null int64\n",
      "has_superstructure_adobe_mud                   1052936 non-null int64\n",
      "has_superstructure_mud_mortar_stone            1052936 non-null int64\n",
      "has_superstructure_stone_flag                  1052936 non-null int64\n",
      "has_superstructure_cement_mortar_stone         1052936 non-null int64\n",
      "has_superstructure_mud_mortar_brick            1052936 non-null int64\n",
      "has_superstructure_cement_mortar_brick         1052936 non-null int64\n",
      "has_superstructure_timber                      1052936 non-null int64\n",
      "has_superstructure_bamboo                      1052936 non-null int64\n",
      "has_superstructure_rc_non_engineered           1052936 non-null int64\n",
      "has_superstructure_rc_engineered               1052936 non-null int64\n",
      "has_superstructure_other                       1052936 non-null int64\n",
      "land__Flat                                     1052936 non-null uint8\n",
      "land__Moderate slope                           1052936 non-null uint8\n",
      "land__Steep slope                              1052936 non-null uint8\n",
      "foun_Bamboo/Timber                             1052936 non-null uint8\n",
      "foun_Cement-Stone/Brick                        1052936 non-null uint8\n",
      "foun_Mud mortar-Stone/Brick                    1052936 non-null uint8\n",
      "foun_Other                                     1052936 non-null uint8\n",
      "foun_RC                                        1052936 non-null uint8\n",
      "roof_Bamboo/Timber-Heavy roof                  1052936 non-null uint8\n",
      "roof_Bamboo/Timber-Light roof                  1052936 non-null uint8\n",
      "roof_RCC/RB/RBC                                1052936 non-null uint8\n",
      "grnd_Brick/Stone                               1052936 non-null uint8\n",
      "grnd_Mud                                       1052936 non-null uint8\n",
      "grnd_Other                                     1052936 non-null uint8\n",
      "grnd_RC                                        1052936 non-null uint8\n",
      "grnd_Timber                                    1052936 non-null uint8\n",
      "oth_Not applicable                             1052936 non-null uint8\n",
      "oth_RCC/RB/RBC                                 1052936 non-null uint8\n",
      "oth_TImber/Bamboo-Mud                          1052936 non-null uint8\n",
      "oth_Timber-Planck                              1052936 non-null uint8\n",
      "pos_Attached-1 side                            1052936 non-null uint8\n",
      "pos_Attached-2 side                            1052936 non-null uint8\n",
      "pos_Attached-3 side                            1052936 non-null uint8\n",
      "pos_Not attached                               1052936 non-null uint8\n",
      "pos_Attached-1 side                            1052936 non-null uint8\n",
      "pos_Attached-2 side                            1052936 non-null uint8\n",
      "pos_Attached-3 side                            1052936 non-null uint8\n",
      "pos_Not attached                               1052936 non-null uint8\n",
      "plan_Building with Central Courtyard           1052936 non-null uint8\n",
      "plan_E-shape                                   1052936 non-null uint8\n",
      "plan_H-shape                                   1052936 non-null uint8\n",
      "plan_L-shape                                   1052936 non-null uint8\n",
      "plan_Multi-projected                           1052936 non-null uint8\n",
      "plan_Others                                    1052936 non-null uint8\n",
      "plan_Rectangular                               1052936 non-null uint8\n",
      "plan_Square                                    1052936 non-null uint8\n",
      "plan_T-shape                                   1052936 non-null uint8\n",
      "plan_U-shape                                   1052936 non-null uint8\n",
      "con_Covered by landslide                       1052936 non-null uint8\n",
      "con_Damaged-Not used                           1052936 non-null uint8\n",
      "con_Damaged-Repaired and used                  1052936 non-null uint8\n",
      "con_Damaged-Rubble Clear-New building built    1052936 non-null uint8\n",
      "con_Damaged-Rubble clear                       1052936 non-null uint8\n",
      "con_Damaged-Rubble unclear                     1052936 non-null uint8\n",
      "con_Damaged-Used in risk                       1052936 non-null uint8\n",
      "con_Not damaged                                1052936 non-null uint8\n",
      "damage_grade                                   1052936 non-null object\n",
      "has_geotechnical_risk                          1052936 non-null float64\n",
      "has_geotechnical_risk_fault_crack              1052936 non-null int64\n",
      "has_geotechnical_risk_flood                    1052936 non-null int64\n",
      "has_geotechnical_risk_land_settlement          1052936 non-null int64\n",
      "has_geotechnical_risk_landslide                1052936 non-null int64\n",
      "has_geotechnical_risk_liquefaction             1052936 non-null int64\n",
      "has_geotechnical_risk_other                    1052936 non-null int64\n",
      "has_geotechnical_risk_rock_fall                1052936 non-null int64\n",
      "has_repair_started                             1052936 non-null float64\n",
      "Both                                           1052936 non-null uint8\n",
      "Building removed                               1052936 non-null uint8\n",
      "Exterior                                       1052936 non-null uint8\n",
      "Interior                                       1052936 non-null uint8\n",
      "Not able to inspect                            1052936 non-null uint8\n",
      "dtypes: float64(4), int64(34), object(1), uint8(55)\n",
      "memory usage: 376.6+ MB\n"
     ]
    }
   ],
   "source": [
    "full = full.drop(['district_id','vdcmun_id', 'ward_id'], axis=1)\n",
    "full.info()"
   ]
  },
  {
   "cell_type": "markdown",
   "metadata": {},
   "source": [
    "### Reorder columns and Normalize of Data"
   ]
  },
  {
   "cell_type": "code",
   "execution_count": 53,
   "metadata": {},
   "outputs": [],
   "source": [
    "column = [column for column in full.columns if column != 'damage_grade']\n",
    "columns = ['damage_grade'] + column"
   ]
  },
  {
   "cell_type": "code",
   "execution_count": 54,
   "metadata": {},
   "outputs": [
    {
     "name": "stdout",
     "output_type": "stream",
     "text": [
      "<class 'pandas.core.frame.DataFrame'>\n",
      "Index: 1052936 entries, a3380c4f75 to 355cf98fa8d\n",
      "Columns: 102 entries, damage_grade to Not able to inspect\n",
      "dtypes: float64(4), int64(34), object(1), uint8(63)\n",
      "memory usage: 384.6+ MB\n"
     ]
    }
   ],
   "source": [
    "full = full[columns]\n",
    "full.info()"
   ]
  },
  {
   "cell_type": "code",
   "execution_count": 57,
   "metadata": {},
   "outputs": [
    {
     "data": {
      "text/html": [
       "<div>\n",
       "<style scoped>\n",
       "    .dataframe tbody tr th:only-of-type {\n",
       "        vertical-align: middle;\n",
       "    }\n",
       "\n",
       "    .dataframe tbody tr th {\n",
       "        vertical-align: top;\n",
       "    }\n",
       "\n",
       "    .dataframe thead th {\n",
       "        text-align: right;\n",
       "    }\n",
       "</style>\n",
       "<table border=\"1\" class=\"dataframe\">\n",
       "  <thead>\n",
       "    <tr style=\"text-align: right;\">\n",
       "      <th></th>\n",
       "      <th>damage_grade</th>\n",
       "      <th>count_families</th>\n",
       "      <th>has_secondary_use</th>\n",
       "      <th>has_secondary_use_agriculture</th>\n",
       "      <th>has_secondary_use_hotel</th>\n",
       "      <th>has_secondary_use_rental</th>\n",
       "      <th>has_secondary_use_institution</th>\n",
       "      <th>has_secondary_use_school</th>\n",
       "      <th>has_secondary_use_industry</th>\n",
       "      <th>has_secondary_use_health_post</th>\n",
       "      <th>...</th>\n",
       "      <th>has_geotechnical_risk_landslide</th>\n",
       "      <th>has_geotechnical_risk_liquefaction</th>\n",
       "      <th>has_geotechnical_risk_other</th>\n",
       "      <th>has_geotechnical_risk_rock_fall</th>\n",
       "      <th>has_repair_started</th>\n",
       "      <th>Both</th>\n",
       "      <th>Building removed</th>\n",
       "      <th>Exterior</th>\n",
       "      <th>Interior</th>\n",
       "      <th>Not able to inspect</th>\n",
       "    </tr>\n",
       "    <tr>\n",
       "      <th>building_id</th>\n",
       "      <th></th>\n",
       "      <th></th>\n",
       "      <th></th>\n",
       "      <th></th>\n",
       "      <th></th>\n",
       "      <th></th>\n",
       "      <th></th>\n",
       "      <th></th>\n",
       "      <th></th>\n",
       "      <th></th>\n",
       "      <th></th>\n",
       "      <th></th>\n",
       "      <th></th>\n",
       "      <th></th>\n",
       "      <th></th>\n",
       "      <th></th>\n",
       "      <th></th>\n",
       "      <th></th>\n",
       "      <th></th>\n",
       "      <th></th>\n",
       "      <th></th>\n",
       "    </tr>\n",
       "  </thead>\n",
       "  <tbody>\n",
       "    <tr>\n",
       "      <th>a3380c4f75</th>\n",
       "      <td>-111</td>\n",
       "      <td>1.0</td>\n",
       "      <td>0.0</td>\n",
       "      <td>0</td>\n",
       "      <td>0</td>\n",
       "      <td>0</td>\n",
       "      <td>0</td>\n",
       "      <td>0</td>\n",
       "      <td>0</td>\n",
       "      <td>0</td>\n",
       "      <td>...</td>\n",
       "      <td>0</td>\n",
       "      <td>0</td>\n",
       "      <td>0</td>\n",
       "      <td>0</td>\n",
       "      <td>1.0</td>\n",
       "      <td>1</td>\n",
       "      <td>0</td>\n",
       "      <td>0</td>\n",
       "      <td>0</td>\n",
       "      <td>0</td>\n",
       "    </tr>\n",
       "    <tr>\n",
       "      <th>a3380c4fd9</th>\n",
       "      <td>Grade 2</td>\n",
       "      <td>1.0</td>\n",
       "      <td>0.0</td>\n",
       "      <td>0</td>\n",
       "      <td>0</td>\n",
       "      <td>0</td>\n",
       "      <td>0</td>\n",
       "      <td>0</td>\n",
       "      <td>0</td>\n",
       "      <td>0</td>\n",
       "      <td>...</td>\n",
       "      <td>0</td>\n",
       "      <td>0</td>\n",
       "      <td>0</td>\n",
       "      <td>0</td>\n",
       "      <td>1.0</td>\n",
       "      <td>1</td>\n",
       "      <td>0</td>\n",
       "      <td>0</td>\n",
       "      <td>0</td>\n",
       "      <td>0</td>\n",
       "    </tr>\n",
       "  </tbody>\n",
       "</table>\n",
       "<p>2 rows × 102 columns</p>\n",
       "</div>"
      ],
      "text/plain": [
       "            damage_grade  count_families  has_secondary_use  \\\n",
       "building_id                                                   \n",
       "a3380c4f75          -111             1.0                0.0   \n",
       "a3380c4fd9       Grade 2             1.0                0.0   \n",
       "\n",
       "             has_secondary_use_agriculture  has_secondary_use_hotel  \\\n",
       "building_id                                                           \n",
       "a3380c4f75                               0                        0   \n",
       "a3380c4fd9                               0                        0   \n",
       "\n",
       "             has_secondary_use_rental  has_secondary_use_institution  \\\n",
       "building_id                                                            \n",
       "a3380c4f75                          0                              0   \n",
       "a3380c4fd9                          0                              0   \n",
       "\n",
       "             has_secondary_use_school  has_secondary_use_industry  \\\n",
       "building_id                                                         \n",
       "a3380c4f75                          0                           0   \n",
       "a3380c4fd9                          0                           0   \n",
       "\n",
       "             has_secondary_use_health_post         ...           \\\n",
       "building_id                                        ...            \n",
       "a3380c4f75                               0         ...            \n",
       "a3380c4fd9                               0         ...            \n",
       "\n",
       "             has_geotechnical_risk_landslide  \\\n",
       "building_id                                    \n",
       "a3380c4f75                                 0   \n",
       "a3380c4fd9                                 0   \n",
       "\n",
       "             has_geotechnical_risk_liquefaction  has_geotechnical_risk_other  \\\n",
       "building_id                                                                    \n",
       "a3380c4f75                                    0                            0   \n",
       "a3380c4fd9                                    0                            0   \n",
       "\n",
       "             has_geotechnical_risk_rock_fall  has_repair_started  Both  \\\n",
       "building_id                                                              \n",
       "a3380c4f75                                 0                 1.0     1   \n",
       "a3380c4fd9                                 0                 1.0     1   \n",
       "\n",
       "             Building removed  Exterior  Interior  Not able to inspect  \n",
       "building_id                                                             \n",
       "a3380c4f75                  0         0         0                    0  \n",
       "a3380c4fd9                  0         0         0                    0  \n",
       "\n",
       "[2 rows x 102 columns]"
      ]
     },
     "execution_count": 57,
     "metadata": {},
     "output_type": "execute_result"
    }
   ],
   "source": [
    "full.head(2)"
   ]
  },
  {
   "cell_type": "code",
   "execution_count": 58,
   "metadata": {},
   "outputs": [
    {
     "data": {
      "text/plain": [
       "254"
      ]
     },
     "execution_count": 58,
     "metadata": {},
     "output_type": "execute_result"
    }
   ],
   "source": [
    "del trn_tst, stru_owner, buil_owner, buil_stru, train, test\n",
    "gc.collect()"
   ]
  },
  {
   "cell_type": "markdown",
   "metadata": {},
   "source": [
    "## Saving processed data"
   ]
  },
  {
   "cell_type": "code",
   "execution_count": 59,
   "metadata": {},
   "outputs": [],
   "source": [
    "processed_data_path = '/home/vivek/Git/building_damage/'\n",
    "train_path = os.path.join(processed_data_path, 'train.csv')\n",
    "test_path = os.path.join(processed_data_path, 'test.csv')"
   ]
  },
  {
   "cell_type": "code",
   "execution_count": 60,
   "metadata": {},
   "outputs": [],
   "source": [
    "# train data\n",
    "full.loc[full['damage_grade'] != -111].to_csv(train_path)\n",
    "\n",
    "# test data\n",
    "full.loc[full['damage_grade'] == 111].to_csv(test_path)"
   ]
  },
  {
   "cell_type": "code",
   "execution_count": null,
   "metadata": {},
   "outputs": [],
   "source": []
  }
 ],
 "metadata": {
  "kernelspec": {
   "display_name": "Python 3",
   "language": "python",
   "name": "python3"
  },
  "language_info": {
   "codemirror_mode": {
    "name": "ipython",
    "version": 3
   },
   "file_extension": ".py",
   "mimetype": "text/x-python",
   "name": "python",
   "nbconvert_exporter": "python",
   "pygments_lexer": "ipython3",
   "version": "3.6.5"
  }
 },
 "nbformat": 4,
 "nbformat_minor": 2
}
