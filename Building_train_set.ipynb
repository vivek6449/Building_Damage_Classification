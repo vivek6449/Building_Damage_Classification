{
  "nbformat": 4,
  "nbformat_minor": 0,
  "metadata": {
    "colab": {
      "name": "Building_train_set.ipynb",
      "version": "0.3.2",
      "provenance": [],
      "collapsed_sections": [],
      "include_colab_link": true
    },
    "kernelspec": {
      "name": "python3",
      "display_name": "Python 3"
    },
    "accelerator": "GPU"
  },
  "cells": [
    {
      "cell_type": "markdown",
      "metadata": {
        "id": "view-in-github",
        "colab_type": "text"
      },
      "source": [
        "[View in Colaboratory](https://colab.research.google.com/github/vivek6449/Building_Damage_Classification/blob/master/Building_train_set.ipynb)"
      ]
    },
    {
      "metadata": {
        "id": "565Wo0Jp2AgW",
        "colab_type": "code",
        "colab": {
          "base_uri": "https://localhost:8080/",
          "height": 34
        },
        "outputId": "239d3039-6262-4804-b000-5dfd1be1bf3d"
      },
      "cell_type": "code",
      "source": [
        "import tensorflow as tf \n",
        "tf.test.gpu_device_name() "
      ],
      "execution_count": 1,
      "outputs": [
        {
          "output_type": "execute_result",
          "data": {
            "text/plain": [
              "'/device:GPU:0'"
            ]
          },
          "metadata": {
            "tags": []
          },
          "execution_count": 1
        }
      ]
    },
    {
      "metadata": {
        "id": "aP53cCmdmTgw",
        "colab_type": "code",
        "colab": {
          "base_uri": "https://localhost:8080/",
          "height": 2278
        },
        "outputId": "12db733b-1e41-4e5e-995c-c9fb2af4b4a8"
      },
      "cell_type": "code",
      "source": [
        "!apt-get install -y -qq software-properties-common python-software-properties module-init-tools \n",
        "!add-apt-repository -y ppa:alessandro-strada/ppa 2>&1 > /dev/null \n",
        "!apt-get update -qq 2>&1 > /dev/null \n",
        "!apt-get -y install -qq google-drive-ocamlfuse fuse "
      ],
      "execution_count": 2,
      "outputs": [
        {
          "output_type": "stream",
          "text": [
            "Preconfiguring packages ...\n",
            "Selecting previously unselected package cron.\n",
            "(Reading database ... 18408 files and directories currently installed.)\n",
            "Preparing to unpack .../00-cron_3.0pl1-128ubuntu5_amd64.deb ...\n",
            "Unpacking cron (3.0pl1-128ubuntu5) ...\n",
            "Selecting previously unselected package libapparmor1:amd64.\n",
            "Preparing to unpack .../01-libapparmor1_2.11.0-2ubuntu17.1_amd64.deb ...\n",
            "Unpacking libapparmor1:amd64 (2.11.0-2ubuntu17.1) ...\n",
            "Selecting previously unselected package libdbus-1-3:amd64.\n",
            "Preparing to unpack .../02-libdbus-1-3_1.10.22-1ubuntu1_amd64.deb ...\n",
            "Unpacking libdbus-1-3:amd64 (1.10.22-1ubuntu1) ...\n",
            "Selecting previously unselected package dbus.\n",
            "Preparing to unpack .../03-dbus_1.10.22-1ubuntu1_amd64.deb ...\n",
            "Unpacking dbus (1.10.22-1ubuntu1) ...\n",
            "Selecting previously unselected package dirmngr.\n",
            "Preparing to unpack .../04-dirmngr_2.1.15-1ubuntu8.1_amd64.deb ...\n",
            "Unpacking dirmngr (2.1.15-1ubuntu8.1) ...\n",
            "Selecting previously unselected package distro-info-data.\n",
            "Preparing to unpack .../05-distro-info-data_0.36ubuntu0.2_all.deb ...\n",
            "Unpacking distro-info-data (0.36ubuntu0.2) ...\n",
            "Selecting previously unselected package libkmod2:amd64.\n",
            "Preparing to unpack .../06-libkmod2_24-1ubuntu2_amd64.deb ...\n",
            "Unpacking libkmod2:amd64 (24-1ubuntu2) ...\n",
            "Selecting previously unselected package kmod.\n",
            "Preparing to unpack .../07-kmod_24-1ubuntu2_amd64.deb ...\n",
            "Unpacking kmod (24-1ubuntu2) ...\n",
            "Selecting previously unselected package lsb-release.\n",
            "Preparing to unpack .../08-lsb-release_9.20160110ubuntu5_all.deb ...\n",
            "Unpacking lsb-release (9.20160110ubuntu5) ...\n",
            "Selecting previously unselected package libgirepository-1.0-1:amd64.\n",
            "Preparing to unpack .../09-libgirepository-1.0-1_1.54.1-1_amd64.deb ...\n",
            "Unpacking libgirepository-1.0-1:amd64 (1.54.1-1) ...\n",
            "Selecting previously unselected package gir1.2-glib-2.0:amd64.\n",
            "Preparing to unpack .../10-gir1.2-glib-2.0_1.54.1-1_amd64.deb ...\n",
            "Unpacking gir1.2-glib-2.0:amd64 (1.54.1-1) ...\n",
            "Selecting previously unselected package iso-codes.\n",
            "Preparing to unpack .../11-iso-codes_3.75-1_all.deb ...\n",
            "Unpacking iso-codes (3.75-1) ...\n",
            "Selecting previously unselected package libdbus-glib-1-2:amd64.\n",
            "Preparing to unpack .../12-libdbus-glib-1-2_0.108-2_amd64.deb ...\n",
            "Unpacking libdbus-glib-1-2:amd64 (0.108-2) ...\n",
            "Selecting previously unselected package python-apt-common.\n",
            "Preparing to unpack .../13-python-apt-common_1.4.0~beta3build2_all.deb ...\n",
            "Unpacking python-apt-common (1.4.0~beta3build2) ...\n",
            "Selecting previously unselected package python3-apt.\n",
            "Preparing to unpack .../14-python3-apt_1.4.0~beta3build2_amd64.deb ...\n",
            "Unpacking python3-apt (1.4.0~beta3build2) ...\n",
            "Selecting previously unselected package python3-dbus.\n",
            "Preparing to unpack .../15-python3-dbus_1.2.4-1build3_amd64.deb ...\n",
            "Unpacking python3-dbus (1.2.4-1build3) ...\n",
            "Selecting previously unselected package python3-gi.\n",
            "Preparing to unpack .../16-python3-gi_3.24.1-2build1_amd64.deb ...\n",
            "Unpacking python3-gi (3.24.1-2build1) ...\n",
            "Selecting previously unselected package module-init-tools.\n",
            "Preparing to unpack .../17-module-init-tools_24-1ubuntu2_all.deb ...\n",
            "Unpacking module-init-tools (24-1ubuntu2) ...\n",
            "Selecting previously unselected package python-apt.\n",
            "Preparing to unpack .../18-python-apt_1.4.0~beta3build2_amd64.deb ...\n",
            "Unpacking python-apt (1.4.0~beta3build2) ...\n",
            "Selecting previously unselected package python-pycurl.\n",
            "Preparing to unpack .../19-python-pycurl_7.43.0-2build2_amd64.deb ...\n",
            "Unpacking python-pycurl (7.43.0-2build2) ...\n",
            "Selecting previously unselected package python-software-properties.\n",
            "Preparing to unpack .../20-python-software-properties_0.96.24.17_all.deb ...\n",
            "Unpacking python-software-properties (0.96.24.17) ...\n",
            "Selecting previously unselected package python3-software-properties.\n",
            "Preparing to unpack .../21-python3-software-properties_0.96.24.17_all.deb ...\n",
            "Unpacking python3-software-properties (0.96.24.17) ...\n",
            "Selecting previously unselected package software-properties-common.\n",
            "Preparing to unpack .../22-software-properties-common_0.96.24.17_all.deb ...\n",
            "Unpacking software-properties-common (0.96.24.17) ...\n",
            "Selecting previously unselected package unattended-upgrades.\n",
            "Preparing to unpack .../23-unattended-upgrades_0.98ubuntu1.1_all.deb ...\n",
            "Unpacking unattended-upgrades (0.98ubuntu1.1) ...\n",
            "Setting up python-apt-common (1.4.0~beta3build2) ...\n",
            "Setting up python3-apt (1.4.0~beta3build2) ...\n",
            "Setting up iso-codes (3.75-1) ...\n",
            "Setting up distro-info-data (0.36ubuntu0.2) ...\n",
            "Setting up python-pycurl (7.43.0-2build2) ...\n",
            "Setting up lsb-release (9.20160110ubuntu5) ...\n",
            "Setting up libgirepository-1.0-1:amd64 (1.54.1-1) ...\n",
            "Setting up libkmod2:amd64 (24-1ubuntu2) ...\n",
            "Setting up gir1.2-glib-2.0:amd64 (1.54.1-1) ...\n",
            "Processing triggers for libc-bin (2.26-0ubuntu2.1) ...\n",
            "Setting up libapparmor1:amd64 (2.11.0-2ubuntu17.1) ...\n",
            "Setting up unattended-upgrades (0.98ubuntu1.1) ...\n",
            "\n",
            "Creating config file /etc/apt/apt.conf.d/20auto-upgrades with new version\n",
            "\n",
            "Creating config file /etc/apt/apt.conf.d/50unattended-upgrades with new version\n",
            "invoke-rc.d: could not determine current runlevel\n",
            "invoke-rc.d: policy-rc.d denied execution of start.\n",
            "Setting up dirmngr (2.1.15-1ubuntu8.1) ...\n",
            "Setting up cron (3.0pl1-128ubuntu5) ...\n",
            "Adding group `crontab' (GID 102) ...\n",
            "Done.\n",
            "update-rc.d: warning: start and stop actions are no longer supported; falling back to defaults\n",
            "update-rc.d: warning: stop runlevel arguments (1) do not match cron Default-Stop values (none)\n",
            "invoke-rc.d: could not determine current runlevel\n",
            "invoke-rc.d: policy-rc.d denied execution of start.\n",
            "Setting up libdbus-1-3:amd64 (1.10.22-1ubuntu1) ...\n",
            "Setting up kmod (24-1ubuntu2) ...\n",
            "Setting up libdbus-glib-1-2:amd64 (0.108-2) ...\n",
            "Setting up python3-gi (3.24.1-2build1) ...\n",
            "Setting up module-init-tools (24-1ubuntu2) ...\n",
            "Setting up python3-software-properties (0.96.24.17) ...\n",
            "Setting up dbus (1.10.22-1ubuntu1) ...\n",
            "Setting up python-apt (1.4.0~beta3build2) ...\n",
            "Setting up python3-dbus (1.2.4-1build3) ...\n",
            "Setting up python-software-properties (0.96.24.17) ...\n",
            "Setting up software-properties-common (0.96.24.17) ...\n",
            "Processing triggers for libc-bin (2.26-0ubuntu2.1) ...\n",
            "Processing triggers for dbus (1.10.22-1ubuntu1) ...\n",
            "gpg: keybox '/tmp/tmpvy0j28nw/pubring.gpg' created\n",
            "gpg: /tmp/tmpvy0j28nw/trustdb.gpg: trustdb created\n",
            "gpg: key AD5F235DF639B041: public key \"Launchpad PPA for Alessandro Strada\" imported\n",
            "gpg: Total number processed: 1\n",
            "gpg:               imported: 1\n",
            "Warning: apt-key output should not be parsed (stdout is not a terminal)\n",
            "Selecting previously unselected package libfuse2:amd64.\n",
            "(Reading database ... 19816 files and directories currently installed.)\n",
            "Preparing to unpack .../libfuse2_2.9.7-1ubuntu1_amd64.deb ...\n",
            "Unpacking libfuse2:amd64 (2.9.7-1ubuntu1) ...\n",
            "Selecting previously unselected package fuse.\n",
            "Preparing to unpack .../fuse_2.9.7-1ubuntu1_amd64.deb ...\n",
            "Unpacking fuse (2.9.7-1ubuntu1) ...\n",
            "Selecting previously unselected package google-drive-ocamlfuse.\n",
            "Preparing to unpack .../google-drive-ocamlfuse_0.6.21-0ubuntu2_amd64.deb ...\n",
            "Unpacking google-drive-ocamlfuse (0.6.21-0ubuntu2) ...\n",
            "Setting up libfuse2:amd64 (2.9.7-1ubuntu1) ...\n",
            "Processing triggers for libc-bin (2.26-0ubuntu2.1) ...\n",
            "Setting up fuse (2.9.7-1ubuntu1) ...\n",
            "Setting up google-drive-ocamlfuse (0.6.21-0ubuntu2) ...\n"
          ],
          "name": "stdout"
        }
      ]
    },
    {
      "metadata": {
        "id": "c_ykboRlmZS7",
        "colab_type": "code",
        "colab": {}
      },
      "cell_type": "code",
      "source": [
        "from google.colab import auth \n",
        "auth.authenticate_user() "
      ],
      "execution_count": 0,
      "outputs": []
    },
    {
      "metadata": {
        "id": "Zni3MQ45miyw",
        "colab_type": "code",
        "colab": {}
      },
      "cell_type": "code",
      "source": [
        "from oauth2client.client import GoogleCredentials \n",
        "creds = GoogleCredentials.get_application_default() "
      ],
      "execution_count": 0,
      "outputs": []
    },
    {
      "metadata": {
        "id": "nz_Ws4S3miwC",
        "colab_type": "code",
        "colab": {
          "base_uri": "https://localhost:8080/",
          "height": 105
        },
        "outputId": "1b5ddfd0-4b07-44a2-d235-92b97ed9a980"
      },
      "cell_type": "code",
      "source": [
        "import getpass \n",
        "!google-drive-ocamlfuse -headless -id={creds.client_id} -secret={creds.client_secret} < /dev/null 2>&1 | grep URL \n",
        "vcode = getpass.getpass() \n",
        "!echo {vcode} | google-drive-ocamlfuse -headless -id={creds.client_id} -secret={creds.client_secret}"
      ],
      "execution_count": 5,
      "outputs": [
        {
          "output_type": "stream",
          "text": [
            "Please, open the following URL in a web browser: https://accounts.google.com/o/oauth2/auth?client_id=32555940559.apps.googleusercontent.com&redirect_uri=urn%3Aietf%3Awg%3Aoauth%3A2.0%3Aoob&scope=https%3A%2F%2Fwww.googleapis.com%2Fauth%2Fdrive&response_type=code&access_type=offline&approval_prompt=force\r\n",
            "··········\n",
            "Please, open the following URL in a web browser: https://accounts.google.com/o/oauth2/auth?client_id=32555940559.apps.googleusercontent.com&redirect_uri=urn%3Aietf%3Awg%3Aoauth%3A2.0%3Aoob&scope=https%3A%2F%2Fwww.googleapis.com%2Fauth%2Fdrive&response_type=code&access_type=offline&approval_prompt=force\n",
            "Please enter the verification code: Access token retrieved correctly.\n"
          ],
          "name": "stdout"
        }
      ]
    },
    {
      "metadata": {
        "id": "bIpNGkIgmitG",
        "colab_type": "code",
        "colab": {}
      },
      "cell_type": "code",
      "source": [
        "!mkdir -p drive\n",
        "!google-drive-ocamlfuse drive "
      ],
      "execution_count": 0,
      "outputs": []
    },
    {
      "metadata": {
        "id": "Re3RIMScmiqW",
        "colab_type": "code",
        "colab": {
          "base_uri": "https://localhost:8080/",
          "height": 102
        },
        "outputId": "9170b0c4-1f42-4210-9b78-df77968f42df"
      },
      "cell_type": "code",
      "source": [
        "print ('Files in Drive:')  \n",
        "!ls drive/ "
      ],
      "execution_count": 7,
      "outputs": [
        {
          "output_type": "stream",
          "text": [
            "Files in Drive:\n",
            "Colab Notebooks      LSTM\t\t\tStudy\n",
            "Docs\t\t     Presentation.pdf\t\tUntitled presentation.pdf\n",
            "Job Description.odt  Resumes\n",
            "Job Tracker.ods      Rotor Crack Detection.odt\n"
          ],
          "name": "stdout"
        }
      ]
    },
    {
      "metadata": {
        "id": "3S2gYHHCnHEl",
        "colab_type": "code",
        "colab": {
          "base_uri": "https://localhost:8080/",
          "height": 173
        },
        "outputId": "ffaae9df-0836-4665-d270-fc03403facae"
      },
      "cell_type": "code",
      "source": [
        "!pip install lightgbm"
      ],
      "execution_count": 8,
      "outputs": [
        {
          "output_type": "stream",
          "text": [
            "Collecting lightgbm\n",
            "\u001b[?25l  Downloading https://files.pythonhosted.org/packages/24/8d/783679697bdf1585dc96acfe7c8538d6fab33ad80e827cadb7b413e61da6/lightgbm-2.1.2-py2.py3-none-manylinux1_x86_64.whl (730kB)\n",
            "\u001b[K    100% |████████████████████████████████| 737kB 7.0MB/s \n",
            "\u001b[?25hRequirement already satisfied: scipy in /usr/local/lib/python3.6/dist-packages (from lightgbm) (0.19.1)\n",
            "Requirement already satisfied: scikit-learn in /usr/local/lib/python3.6/dist-packages (from lightgbm) (0.19.2)\n",
            "Requirement already satisfied: numpy in /usr/local/lib/python3.6/dist-packages (from lightgbm) (1.14.5)\n",
            "Installing collected packages: lightgbm\n",
            "Successfully installed lightgbm-2.1.2\n"
          ],
          "name": "stdout"
        }
      ]
    },
    {
      "metadata": {
        "id": "batEu45fminZ",
        "colab_type": "code",
        "colab": {}
      },
      "cell_type": "code",
      "source": [
        "import os\n",
        "import pandas as pd\n",
        "import numpy as np\n",
        "\n",
        "import matplotlib.pyplot as plt\n",
        "%matplotlib inline\n",
        "import seaborn as sns\n",
        "\n",
        "from sklearn.metrics import f1_score\n",
        "from sklearn.model_selection import train_test_split, KFold\n",
        "from lightgbm import LGBMClassifier\n",
        "\n",
        "import gc"
      ],
      "execution_count": 0,
      "outputs": []
    },
    {
      "metadata": {
        "id": "jT4-6amF-VAX",
        "colab_type": "text"
      },
      "cell_type": "markdown",
      "source": [
        "## Importing the data"
      ]
    },
    {
      "metadata": {
        "id": "rdvemrbOmikh",
        "colab_type": "code",
        "colab": {}
      },
      "cell_type": "code",
      "source": [
        "buil_owner = pd.read_csv('drive/Colab Notebooks/Building/Building_Ownership_Use.csv')\n",
        "buil_stru = pd.read_csv('drive/Colab Notebooks/Building/Building_Structure.csv')\n",
        "train = pd.read_csv('drive/Colab Notebooks/Building/train.csv')\n",
        "test = pd.read_csv('drive/Colab Notebooks/Building/test.csv')"
      ],
      "execution_count": 0,
      "outputs": []
    },
    {
      "metadata": {
        "id": "7DdPf4jY-blT",
        "colab_type": "text"
      },
      "cell_type": "markdown",
      "source": [
        "Dropping 'building_id' from `Building_Structure` file so we can concatenate `Building_Sturcture` and `Building_Ownership_Use` files."
      ]
    },
    {
      "metadata": {
        "id": "dxXw8oIsmihr",
        "colab_type": "code",
        "colab": {}
      },
      "cell_type": "code",
      "source": [
        "buil_stru.drop(buil_stru.columns[0], axis=1, inplace=True)"
      ],
      "execution_count": 0,
      "outputs": []
    },
    {
      "metadata": {
        "id": "9faPLFGx-72o",
        "colab_type": "text"
      },
      "cell_type": "markdown",
      "source": [
        "Combine both DataFrames and make new one called `combined_new`."
      ]
    },
    {
      "metadata": {
        "id": "5nmZZpKBmieq",
        "colab_type": "code",
        "colab": {}
      },
      "cell_type": "code",
      "source": [
        "combined_new = pd.concat([buil_owner, buil_stru], axis=1)"
      ],
      "execution_count": 0,
      "outputs": []
    },
    {
      "metadata": {
        "id": "9FtS3cGkmiaw",
        "colab_type": "code",
        "colab": {
          "base_uri": "https://localhost:8080/",
          "height": 34
        },
        "outputId": "c5348f10-8727-429d-b9a1-b0226d2e8a47"
      },
      "cell_type": "code",
      "source": [
        "del buil_stru, buil_owner\n",
        "gc.collect()"
      ],
      "execution_count": 13,
      "outputs": [
        {
          "output_type": "execute_result",
          "data": {
            "text/plain": [
              "380"
            ]
          },
          "metadata": {
            "tags": []
          },
          "execution_count": 13
        }
      ]
    },
    {
      "metadata": {
        "id": "HY7l6ya4_IIc",
        "colab_type": "text"
      },
      "cell_type": "markdown",
      "source": [
        "Let's check Object values and Null values in out DataFrame. \n",
        "\n",
        "* First we will deal with objects so we can convert it into Numerical values using dummies."
      ]
    },
    {
      "metadata": {
        "id": "T6Uv9uH-_G1X",
        "colab_type": "code",
        "colab": {
          "base_uri": "https://localhost:8080/",
          "height": 1377
        },
        "outputId": "802890dc-bf4c-4ae1-ea08-c7a70c8c664d"
      },
      "cell_type": "code",
      "source": [
        "combined_new.info()"
      ],
      "execution_count": 91,
      "outputs": [
        {
          "output_type": "stream",
          "text": [
            "<class 'pandas.core.frame.DataFrame'>\n",
            "Index: 1052948 entries, a3380c4f75 to 355cf98fa8d\n",
            "Data columns (total 75 columns):\n",
            "count_families                             1052946 non-null float64\n",
            "has_secondary_use                          1052938 non-null float64\n",
            "has_secondary_use_agriculture              1052948 non-null float64\n",
            "has_secondary_use_hotel                    1052948 non-null float64\n",
            "has_secondary_use_rental                   1052948 non-null float64\n",
            "has_secondary_use_institution              1052948 non-null float64\n",
            "has_secondary_use_school                   1052948 non-null float64\n",
            "has_secondary_use_industry                 1052948 non-null float64\n",
            "has_secondary_use_health_post              1052948 non-null float64\n",
            "has_secondary_use_gov_office               1052948 non-null float64\n",
            "has_secondary_use_use_police               1052948 non-null float64\n",
            "has_secondary_use_other                    1052948 non-null float64\n",
            "count_floors_pre_eq                        1052948 non-null float64\n",
            "count_floors_post_eq                       1052948 non-null float64\n",
            "age_building                               1052948 non-null float64\n",
            "plinth_area_sq_ft                          1052948 non-null float64\n",
            "height_ft_pre_eq                           1052948 non-null float64\n",
            "height_ft_post_eq                          1052948 non-null float64\n",
            "has_superstructure_adobe_mud               1052948 non-null float64\n",
            "has_superstructure_mud_mortar_stone        1052948 non-null float64\n",
            "has_superstructure_stone_flag              1052948 non-null float64\n",
            "has_superstructure_cement_mortar_stone     1052948 non-null float64\n",
            "has_superstructure_mud_mortar_brick        1052948 non-null float64\n",
            "has_superstructure_cement_mortar_brick     1052948 non-null float64\n",
            "has_superstructure_timber                  1052948 non-null float64\n",
            "has_superstructure_bamboo                  1052948 non-null float64\n",
            "has_superstructure_rc_non_engineered       1052948 non-null float64\n",
            "has_superstructure_rc_engineered           1052948 non-null float64\n",
            "has_superstructure_other                   1052948 non-null float64\n",
            "Flat                                       1052948 non-null float64\n",
            "Moderate slope                             1052948 non-null float64\n",
            "Steep slope                                1052948 non-null float64\n",
            "Bamboo/Timber                              1052948 non-null float64\n",
            "Cement-Stone/Brick                         1052948 non-null float64\n",
            "Mud mortar-Stone/Brick                     1052948 non-null float64\n",
            "Other                                      1052948 non-null float64\n",
            "RC                                         1052948 non-null float64\n",
            "Bamboo/Timber-Heavy roof                   1052948 non-null float64\n",
            "Bamboo/Timber-Light roof                   1052948 non-null float64\n",
            "RCC/RB/RBC                                 1052948 non-null float64\n",
            "Brick/Stone                                1052948 non-null float64\n",
            "Mud                                        1052948 non-null float64\n",
            "Other                                      1052948 non-null float64\n",
            "RC                                         1052948 non-null float64\n",
            "Timber                                     1052948 non-null float64\n",
            "Not applicable                             1052948 non-null float64\n",
            "RCC/RB/RBC                                 1052948 non-null float64\n",
            "TImber/Bamboo-Mud                          1052948 non-null float64\n",
            "Timber-Planck                              1052948 non-null float64\n",
            "Attached-1 side                            1052948 non-null float64\n",
            "Attached-2 side                            1052948 non-null float64\n",
            "Attached-3 side                            1052948 non-null float64\n",
            "Not attached                               1052948 non-null float64\n",
            "Building with Central Courtyard            1052948 non-null float64\n",
            "E-shape                                    1052948 non-null float64\n",
            "H-shape                                    1052948 non-null float64\n",
            "L-shape                                    1052948 non-null float64\n",
            "Multi-projected                            1052948 non-null float64\n",
            "Others                                     1052948 non-null float64\n",
            "Rectangular                                1052948 non-null float64\n",
            "Square                                     1052948 non-null float64\n",
            "T-shape                                    1052948 non-null float64\n",
            "U-shape                                    1052948 non-null float64\n",
            "Covered by landslide                       1052948 non-null float64\n",
            "Damaged-Not used                           1052948 non-null float64\n",
            "Damaged-Repaired and used                  1052948 non-null float64\n",
            "Damaged-Rubble Clear-New building built    1052948 non-null float64\n",
            "Damaged-Rubble clear                       1052948 non-null float64\n",
            "Damaged-Rubble unclear                     1052948 non-null float64\n",
            "Damaged-Used in risk                       1052948 non-null float64\n",
            "Not damaged                                1052948 non-null float64\n",
            "Institutional                              1052948 non-null float64\n",
            "Other                                      1052948 non-null float64\n",
            "Private                                    1052948 non-null float64\n",
            "Public                                     1052948 non-null float64\n",
            "dtypes: float64(75)\n",
            "memory usage: 650.5+ MB\n"
          ],
          "name": "stdout"
        }
      ]
    },
    {
      "metadata": {
        "id": "JwzdQcwh_Gve",
        "colab_type": "code",
        "colab": {}
      },
      "cell_type": "code",
      "source": [
        ""
      ],
      "execution_count": 0,
      "outputs": []
    },
    {
      "metadata": {
        "id": "zmGJkMAEoIA8",
        "colab_type": "code",
        "colab": {}
      },
      "cell_type": "code",
      "source": [
        "land_dum = pd.get_dummies(combined_new.land_surface_condition)\n",
        "foun = pd.get_dummies(combined_new.foundation_type)\n",
        "roof = pd.get_dummies(combined_new.roof_type)\n",
        "grnd = pd.get_dummies(combined_new.ground_floor_type)\n",
        "oth = pd.get_dummies(combined_new.other_floor_type)\n",
        "pos = pd.get_dummies(combined_new.position)\n",
        "plan = pd.get_dummies(combined_new.plan_configuration)\n",
        "con = pd.get_dummies(combined_new.condition_post_eq)\n",
        "legal = pd.get_dummies(combined_new.legal_ownership_status)"
      ],
      "execution_count": 0,
      "outputs": []
    },
    {
      "metadata": {
        "id": "Jv7dU8OnoMJN",
        "colab_type": "code",
        "colab": {}
      },
      "cell_type": "code",
      "source": [
        "cols = [land_dum, foun, roof, grnd, oth, pos, plan, con, legal]"
      ],
      "execution_count": 0,
      "outputs": []
    },
    {
      "metadata": {
        "id": "AQzvCFiOoOcT",
        "colab_type": "code",
        "colab": {}
      },
      "cell_type": "code",
      "source": [
        "dummy_cols = pd.concat(cols, axis=1)"
      ],
      "execution_count": 0,
      "outputs": []
    },
    {
      "metadata": {
        "id": "KkJEnhJpoQ-a",
        "colab_type": "code",
        "colab": {
          "base_uri": "https://localhost:8080/",
          "height": 34
        },
        "outputId": "8d7ff92a-58dd-42e5-c1d3-91848c9472e5"
      },
      "cell_type": "code",
      "source": [
        "del land_dum, foun, roof, grnd, oth, pos, plan, con, legal\n",
        "gc.collect()"
      ],
      "execution_count": 17,
      "outputs": [
        {
          "output_type": "execute_result",
          "data": {
            "text/plain": [
              "63"
            ]
          },
          "metadata": {
            "tags": []
          },
          "execution_count": 17
        }
      ]
    },
    {
      "metadata": {
        "id": "EhFz-LYsoSUl",
        "colab_type": "code",
        "colab": {}
      },
      "cell_type": "code",
      "source": [
        "building_id = combined_new.building_id"
      ],
      "execution_count": 0,
      "outputs": []
    },
    {
      "metadata": {
        "id": "zCq-0yCyoUmE",
        "colab_type": "code",
        "colab": {}
      },
      "cell_type": "code",
      "source": [
        "drop_cols = ['land_surface_condition', 'foundation_type', 'roof_type', 'ground_floor_type', 'other_floor_type', 'position', 'plan_configuration',\n",
        "            'condition_post_eq', 'legal_ownership_status','district_id', 'vdcmun_id','building_id','ward_id']"
      ],
      "execution_count": 0,
      "outputs": []
    },
    {
      "metadata": {
        "id": "jZ4qvoIuoWlH",
        "colab_type": "code",
        "colab": {}
      },
      "cell_type": "code",
      "source": [
        "combined_new.drop(drop_cols, axis=1, inplace=True)"
      ],
      "execution_count": 0,
      "outputs": []
    },
    {
      "metadata": {
        "id": "HYfMBJ9VoaMi",
        "colab_type": "code",
        "colab": {}
      },
      "cell_type": "code",
      "source": [
        "combined_new = pd.concat([combined_new, dummy_cols], axis=1)"
      ],
      "execution_count": 0,
      "outputs": []
    },
    {
      "metadata": {
        "id": "pSlS1TmlocOh",
        "colab_type": "code",
        "colab": {}
      },
      "cell_type": "code",
      "source": [
        "combined_new = combined_new.astype(float)"
      ],
      "execution_count": 0,
      "outputs": []
    },
    {
      "metadata": {
        "id": "KB04vCikoeNv",
        "colab_type": "code",
        "colab": {}
      },
      "cell_type": "code",
      "source": [
        "# add building id to our dataframe\n",
        "combined_new = pd.concat([building_id, combined_new], axis=1)\n",
        "combined_new.set_index('building_id',inplace=True)"
      ],
      "execution_count": 0,
      "outputs": []
    },
    {
      "metadata": {
        "id": "Qm1CbTuW8ce9",
        "colab_type": "code",
        "colab": {
          "base_uri": "https://localhost:8080/",
          "height": 102
        },
        "outputId": "54dc5801-e4df-4664-a1de-f7ab5af53822"
      },
      "cell_type": "code",
      "source": [
        "train_df = pd.DataFrame([])\n",
        "for i in range(50000):\n",
        "    rows = combined_new.loc[[train.building_id[i]]]\n",
        "    train_df = train_df.append(rows)\n",
        "    if i%10000==0:\n",
        "        print(int(i*100/50000), '% records')"
      ],
      "execution_count": 27,
      "outputs": [
        {
          "output_type": "stream",
          "text": [
            "0 % records\n",
            "20 % records\n",
            "40 % records\n",
            "60 % records\n",
            "80 % records\n"
          ],
          "name": "stdout"
        }
      ]
    },
    {
      "metadata": {
        "id": "aH-tQNJAFVwy",
        "colab_type": "code",
        "colab": {
          "base_uri": "https://localhost:8080/",
          "height": 34
        },
        "outputId": "cd7e7812-1edf-459d-e562-437c6ec39690"
      },
      "cell_type": "code",
      "source": [
        "train_df.shape"
      ],
      "execution_count": 31,
      "outputs": [
        {
          "output_type": "execute_result",
          "data": {
            "text/plain": [
              "(50000, 75)"
            ]
          },
          "metadata": {
            "tags": []
          },
          "execution_count": 31
        }
      ]
    },
    {
      "metadata": {
        "id": "DkIoBv6WD6FH",
        "colab_type": "code",
        "colab": {
          "base_uri": "https://localhost:8080/",
          "height": 102
        },
        "outputId": "bcac4f5e-5107-43d5-c331-2076b352ffa2"
      },
      "cell_type": "code",
      "source": [
        "train_df_1 = pd.DataFrame([])\n",
        "for i in range(50000,100000):\n",
        "    rows = combined_new.loc[[train.building_id[i]]]\n",
        "    train_df_1 = train_df_1.append(rows)\n",
        "    if i%10000==0:\n",
        "        print(int(i*100/50000), '% records')"
      ],
      "execution_count": 32,
      "outputs": [
        {
          "output_type": "stream",
          "text": [
            "100 % records\n",
            "120 % records\n",
            "140 % records\n",
            "160 % records\n",
            "180 % records\n"
          ],
          "name": "stdout"
        }
      ]
    },
    {
      "metadata": {
        "id": "yKHnTLcWFWWQ",
        "colab_type": "code",
        "colab": {
          "base_uri": "https://localhost:8080/",
          "height": 34
        },
        "outputId": "30a42009-5f2a-4a23-b303-69b253a459c5"
      },
      "cell_type": "code",
      "source": [
        "train_df_1.shape"
      ],
      "execution_count": 33,
      "outputs": [
        {
          "output_type": "execute_result",
          "data": {
            "text/plain": [
              "(50000, 75)"
            ]
          },
          "metadata": {
            "tags": []
          },
          "execution_count": 33
        }
      ]
    },
    {
      "metadata": {
        "id": "GHSgyE4gIENH",
        "colab_type": "code",
        "colab": {
          "base_uri": "https://localhost:8080/",
          "height": 34
        },
        "outputId": "0ee1bdf2-a775-4bc4-e793-91beaf2ace61"
      },
      "cell_type": "code",
      "source": [
        "train.shape"
      ],
      "execution_count": 34,
      "outputs": [
        {
          "output_type": "execute_result",
          "data": {
            "text/plain": [
              "(631761, 14)"
            ]
          },
          "metadata": {
            "tags": []
          },
          "execution_count": 34
        }
      ]
    },
    {
      "metadata": {
        "id": "2x3iDI6hD50C",
        "colab_type": "code",
        "colab": {
          "base_uri": "https://localhost:8080/",
          "height": 102
        },
        "outputId": "51e2d188-bb21-44e0-bce2-8338350d51ca"
      },
      "cell_type": "code",
      "source": [
        "train_df_2 = pd.DataFrame([])\n",
        "for i in range(100000,150000):\n",
        "    rows = combined_new.loc[[train.building_id[i]]]\n",
        "    train_df_2 = train_df_2.append(rows)\n",
        "    if i%10000==0:\n",
        "        print(int(i*100/50000), '% records')"
      ],
      "execution_count": 35,
      "outputs": [
        {
          "output_type": "stream",
          "text": [
            "200 % records\n",
            "220 % records\n",
            "240 % records\n",
            "260 % records\n",
            "280 % records\n"
          ],
          "name": "stdout"
        }
      ]
    },
    {
      "metadata": {
        "id": "lIVnnFYzD5wO",
        "colab_type": "code",
        "colab": {
          "base_uri": "https://localhost:8080/",
          "height": 102
        },
        "outputId": "0ba3aedd-4ca3-4cee-b693-8fea08424d14"
      },
      "cell_type": "code",
      "source": [
        "train_df_3 = pd.DataFrame([])\n",
        "for i in range(150000,200000):\n",
        "    rows = combined_new.loc[[train.building_id[i]]]\n",
        "    train_df_3 = train_df_3.append(rows)\n",
        "    if i%10000==0:\n",
        "        print(int(i*100/50000), '% records')"
      ],
      "execution_count": 36,
      "outputs": [
        {
          "output_type": "stream",
          "text": [
            "300 % records\n",
            "320 % records\n",
            "340 % records\n",
            "360 % records\n",
            "380 % records\n"
          ],
          "name": "stdout"
        }
      ]
    },
    {
      "metadata": {
        "id": "JebiySe9D5s_",
        "colab_type": "code",
        "colab": {
          "base_uri": "https://localhost:8080/",
          "height": 102
        },
        "outputId": "cd388922-25d3-4c16-d03b-c6d19301c592"
      },
      "cell_type": "code",
      "source": [
        "train_df_4 = pd.DataFrame([])\n",
        "for i in range(200000,250000):\n",
        "    rows = combined_new.loc[[train.building_id[i]]]\n",
        "    train_df_4 = train_df_4.append(rows)\n",
        "    if i%10000==0:\n",
        "        print(int(i*100/50000), '% records')"
      ],
      "execution_count": 37,
      "outputs": [
        {
          "output_type": "stream",
          "text": [
            "400 % records\n",
            "420 % records\n",
            "440 % records\n",
            "460 % records\n",
            "480 % records\n"
          ],
          "name": "stdout"
        }
      ]
    },
    {
      "metadata": {
        "id": "c2TzQoA4HJUu",
        "colab_type": "code",
        "colab": {
          "base_uri": "https://localhost:8080/",
          "height": 102
        },
        "outputId": "b9a22dbb-e107-46a6-b8b8-72397fb0e3a8"
      },
      "cell_type": "code",
      "source": [
        "train_df_5 = pd.DataFrame([])\n",
        "for i in range(250000,300000):\n",
        "    rows = combined_new.loc[[train.building_id[i]]]\n",
        "    train_df_5 = train_df_5.append(rows)\n",
        "    if i%10000==0:\n",
        "        print(int(i*100/50000), '% records')"
      ],
      "execution_count": 38,
      "outputs": [
        {
          "output_type": "stream",
          "text": [
            "500 % records\n",
            "520 % records\n",
            "540 % records\n",
            "560 % records\n",
            "580 % records\n"
          ],
          "name": "stdout"
        }
      ]
    },
    {
      "metadata": {
        "id": "JPlCJY12HJS4",
        "colab_type": "code",
        "colab": {
          "base_uri": "https://localhost:8080/",
          "height": 102
        },
        "outputId": "3ae19d85-43ec-4cff-d2e6-7415fec7ddf1"
      },
      "cell_type": "code",
      "source": [
        "train_df_6 = pd.DataFrame([])\n",
        "for i in range(300000,350000):\n",
        "    rows = combined_new.loc[[train.building_id[i]]]\n",
        "    train_df_6 = train_df_6.append(rows)\n",
        "    if i%10000==0:\n",
        "        print(int(i*100/50000), '% records')"
      ],
      "execution_count": 39,
      "outputs": [
        {
          "output_type": "stream",
          "text": [
            "600 % records\n",
            "620 % records\n",
            "640 % records\n",
            "660 % records\n",
            "680 % records\n"
          ],
          "name": "stdout"
        }
      ]
    },
    {
      "metadata": {
        "id": "EgHhm4v7HJPQ",
        "colab_type": "code",
        "colab": {
          "base_uri": "https://localhost:8080/",
          "height": 102
        },
        "outputId": "04cefd06-0bfb-4427-fb3f-cb0ea97d34f1"
      },
      "cell_type": "code",
      "source": [
        "train_df_7 = pd.DataFrame([])\n",
        "for i in range(350000,400000):\n",
        "    rows = combined_new.loc[[train.building_id[i]]]\n",
        "    train_df_7 = train_df_7.append(rows)\n",
        "    if i%10000==0:\n",
        "        print(int(i*100/50000), '% records')"
      ],
      "execution_count": 40,
      "outputs": [
        {
          "output_type": "stream",
          "text": [
            "700 % records\n",
            "720 % records\n",
            "740 % records\n",
            "760 % records\n",
            "780 % records\n"
          ],
          "name": "stdout"
        }
      ]
    },
    {
      "metadata": {
        "id": "_EnRiXCaL7tG",
        "colab_type": "code",
        "colab": {
          "base_uri": "https://localhost:8080/",
          "height": 102
        },
        "outputId": "e54b7f81-21de-4cf4-d142-854a6ab8b0fb"
      },
      "cell_type": "code",
      "source": [
        "train_df_8 = pd.DataFrame([])\n",
        "for i in range(400000,450000):\n",
        "    rows = combined_new.loc[[train.building_id[i]]]\n",
        "    train_df_8 = train_df_8.append(rows)\n",
        "    if i%10000==0:\n",
        "        print(int(i*100/50000), '% records')"
      ],
      "execution_count": 46,
      "outputs": [
        {
          "output_type": "stream",
          "text": [
            "800 % records\n",
            "820 % records\n",
            "840 % records\n",
            "860 % records\n",
            "880 % records\n"
          ],
          "name": "stdout"
        }
      ]
    },
    {
      "metadata": {
        "id": "Derj_9MoL-Mf",
        "colab_type": "code",
        "colab": {
          "base_uri": "https://localhost:8080/",
          "height": 102
        },
        "outputId": "7340f8a8-9984-4ca6-d3ab-72b03fe40331"
      },
      "cell_type": "code",
      "source": [
        "train_df_9 = pd.DataFrame([])\n",
        "for i in range(450000,500000):\n",
        "    rows = combined_new.loc[[train.building_id[i]]]\n",
        "    train_df_9 = train_df_9.append(rows)\n",
        "    if i%10000==0:\n",
        "        print(int(i*100/50000), '% records')"
      ],
      "execution_count": 47,
      "outputs": [
        {
          "output_type": "stream",
          "text": [
            "900 % records\n",
            "920 % records\n",
            "940 % records\n",
            "960 % records\n",
            "980 % records\n"
          ],
          "name": "stdout"
        }
      ]
    },
    {
      "metadata": {
        "id": "7y7xgANtM1ya",
        "colab_type": "code",
        "colab": {
          "base_uri": "https://localhost:8080/",
          "height": 102
        },
        "outputId": "ecb70245-ae51-4725-f667-b279f7b73abf"
      },
      "cell_type": "code",
      "source": [
        "train_df_10 = pd.DataFrame([])\n",
        "for i in range(500000,550000):\n",
        "    rows = combined_new.loc[[train.building_id[i]]]\n",
        "    train_df_10 = train_df_10.append(rows)\n",
        "    if i%10000==0:\n",
        "        print(int(i*100/50000), '% records')"
      ],
      "execution_count": 48,
      "outputs": [
        {
          "output_type": "stream",
          "text": [
            "1000 % records\n",
            "1020 % records\n",
            "1040 % records\n",
            "1060 % records\n",
            "1080 % records\n"
          ],
          "name": "stdout"
        }
      ]
    },
    {
      "metadata": {
        "id": "OYIndpMBM1uV",
        "colab_type": "code",
        "colab": {
          "base_uri": "https://localhost:8080/",
          "height": 102
        },
        "outputId": "4ba20dac-bfa8-4a8e-acb0-a59db29deb7a"
      },
      "cell_type": "code",
      "source": [
        "train_df_11 = pd.DataFrame([])\n",
        "for i in range(550000,600000):\n",
        "    rows = combined_new.loc[[train.building_id[i]]]\n",
        "    train_df_11 = train_df_11.append(rows)\n",
        "    if i%10000==0:\n",
        "        print(int(i*100/50000), '% records')"
      ],
      "execution_count": 51,
      "outputs": [
        {
          "output_type": "stream",
          "text": [
            "1100 % records\n",
            "1120 % records\n",
            "1140 % records\n",
            "1160 % records\n",
            "1180 % records\n"
          ],
          "name": "stdout"
        }
      ]
    },
    {
      "metadata": {
        "id": "pnZeBc03M1sE",
        "colab_type": "code",
        "colab": {}
      },
      "cell_type": "code",
      "source": [
        "train_df_12 = pd.DataFrame([])\n",
        "for i in range(600000,len(train)):\n",
        "    rows = combined_new.loc[[train.building_id[i]]]\n",
        "    train_df_12 = train_df_12.append(rows)"
      ],
      "execution_count": 0,
      "outputs": []
    },
    {
      "metadata": {
        "id": "arWUXoPPId8f",
        "colab_type": "code",
        "colab": {}
      },
      "cell_type": "code",
      "source": [
        "train_combined = pd.concat([train_df, train_df_1, train_df_2, train_df_3, train_df_4, train_df_5, train_df_6, train_df_7, train_df_8, train_df_9, train_df_10, train_df_11, train_df_12],axis=0)"
      ],
      "execution_count": 0,
      "outputs": []
    },
    {
      "metadata": {
        "id": "4udgzzbOa23_",
        "colab_type": "code",
        "colab": {
          "base_uri": "https://localhost:8080/",
          "height": 34
        },
        "outputId": "448386e9-00cc-450a-a10d-71beb1616f9f"
      },
      "cell_type": "code",
      "source": [
        "train_combined.shape"
      ],
      "execution_count": 54,
      "outputs": [
        {
          "output_type": "execute_result",
          "data": {
            "text/plain": [
              "(631761, 75)"
            ]
          },
          "metadata": {
            "tags": []
          },
          "execution_count": 54
        }
      ]
    },
    {
      "metadata": {
        "id": "C-qeHYcda6cp",
        "colab_type": "code",
        "colab": {
          "base_uri": "https://localhost:8080/",
          "height": 34
        },
        "outputId": "37635895-ffa6-429c-d8e4-71fabd5d705f"
      },
      "cell_type": "code",
      "source": [
        "train.shape"
      ],
      "execution_count": 55,
      "outputs": [
        {
          "output_type": "execute_result",
          "data": {
            "text/plain": [
              "(631761, 14)"
            ]
          },
          "metadata": {
            "tags": []
          },
          "execution_count": 55
        }
      ]
    },
    {
      "metadata": {
        "id": "ev2oFzECn59x",
        "colab_type": "code",
        "colab": {}
      },
      "cell_type": "code",
      "source": [
        "train_combined = train_combined.reset_index()\n",
        "train_combined.to_csv('drive/Colab Notebooks/Building/combined_train.csv')"
      ],
      "execution_count": 0,
      "outputs": []
    },
    {
      "metadata": {
        "id": "dA4HEaNpBKWN",
        "colab_type": "code",
        "colab": {
          "base_uri": "https://localhost:8080/",
          "height": 338
        },
        "outputId": "4e59269d-225b-4e3a-a88d-c1e65206f28f"
      },
      "cell_type": "code",
      "source": [
        "train_combined.head()"
      ],
      "execution_count": 57,
      "outputs": [
        {
          "output_type": "execute_result",
          "data": {
            "text/html": [
              "<div>\n",
              "<style scoped>\n",
              "    .dataframe tbody tr th:only-of-type {\n",
              "        vertical-align: middle;\n",
              "    }\n",
              "\n",
              "    .dataframe tbody tr th {\n",
              "        vertical-align: top;\n",
              "    }\n",
              "\n",
              "    .dataframe thead th {\n",
              "        text-align: right;\n",
              "    }\n",
              "</style>\n",
              "<table border=\"1\" class=\"dataframe\">\n",
              "  <thead>\n",
              "    <tr style=\"text-align: right;\">\n",
              "      <th></th>\n",
              "      <th>building_id</th>\n",
              "      <th>count_families</th>\n",
              "      <th>has_secondary_use</th>\n",
              "      <th>has_secondary_use_agriculture</th>\n",
              "      <th>has_secondary_use_hotel</th>\n",
              "      <th>has_secondary_use_rental</th>\n",
              "      <th>has_secondary_use_institution</th>\n",
              "      <th>has_secondary_use_school</th>\n",
              "      <th>has_secondary_use_industry</th>\n",
              "      <th>has_secondary_use_health_post</th>\n",
              "      <th>...</th>\n",
              "      <th>Damaged-Repaired and used</th>\n",
              "      <th>Damaged-Rubble Clear-New building built</th>\n",
              "      <th>Damaged-Rubble clear</th>\n",
              "      <th>Damaged-Rubble unclear</th>\n",
              "      <th>Damaged-Used in risk</th>\n",
              "      <th>Not damaged</th>\n",
              "      <th>Institutional</th>\n",
              "      <th>Other</th>\n",
              "      <th>Private</th>\n",
              "      <th>Public</th>\n",
              "    </tr>\n",
              "  </thead>\n",
              "  <tbody>\n",
              "    <tr>\n",
              "      <th>0</th>\n",
              "      <td>24385bfd2a2</td>\n",
              "      <td>2.0</td>\n",
              "      <td>0.0</td>\n",
              "      <td>0.0</td>\n",
              "      <td>0.0</td>\n",
              "      <td>0.0</td>\n",
              "      <td>0.0</td>\n",
              "      <td>0.0</td>\n",
              "      <td>0.0</td>\n",
              "      <td>0.0</td>\n",
              "      <td>...</td>\n",
              "      <td>0.0</td>\n",
              "      <td>0.0</td>\n",
              "      <td>0.0</td>\n",
              "      <td>0.0</td>\n",
              "      <td>0.0</td>\n",
              "      <td>0.0</td>\n",
              "      <td>0.0</td>\n",
              "      <td>0.0</td>\n",
              "      <td>1.0</td>\n",
              "      <td>0.0</td>\n",
              "    </tr>\n",
              "    <tr>\n",
              "      <th>1</th>\n",
              "      <td>405d1bbebbf</td>\n",
              "      <td>1.0</td>\n",
              "      <td>1.0</td>\n",
              "      <td>0.0</td>\n",
              "      <td>1.0</td>\n",
              "      <td>0.0</td>\n",
              "      <td>0.0</td>\n",
              "      <td>0.0</td>\n",
              "      <td>0.0</td>\n",
              "      <td>0.0</td>\n",
              "      <td>...</td>\n",
              "      <td>1.0</td>\n",
              "      <td>0.0</td>\n",
              "      <td>0.0</td>\n",
              "      <td>0.0</td>\n",
              "      <td>0.0</td>\n",
              "      <td>0.0</td>\n",
              "      <td>0.0</td>\n",
              "      <td>0.0</td>\n",
              "      <td>1.0</td>\n",
              "      <td>0.0</td>\n",
              "    </tr>\n",
              "    <tr>\n",
              "      <th>2</th>\n",
              "      <td>351d9bc71f6</td>\n",
              "      <td>1.0</td>\n",
              "      <td>0.0</td>\n",
              "      <td>0.0</td>\n",
              "      <td>0.0</td>\n",
              "      <td>0.0</td>\n",
              "      <td>0.0</td>\n",
              "      <td>0.0</td>\n",
              "      <td>0.0</td>\n",
              "      <td>0.0</td>\n",
              "      <td>...</td>\n",
              "      <td>0.0</td>\n",
              "      <td>0.0</td>\n",
              "      <td>0.0</td>\n",
              "      <td>0.0</td>\n",
              "      <td>0.0</td>\n",
              "      <td>1.0</td>\n",
              "      <td>0.0</td>\n",
              "      <td>0.0</td>\n",
              "      <td>1.0</td>\n",
              "      <td>0.0</td>\n",
              "    </tr>\n",
              "    <tr>\n",
              "      <th>3</th>\n",
              "      <td>2be3a971166</td>\n",
              "      <td>1.0</td>\n",
              "      <td>0.0</td>\n",
              "      <td>0.0</td>\n",
              "      <td>0.0</td>\n",
              "      <td>0.0</td>\n",
              "      <td>0.0</td>\n",
              "      <td>0.0</td>\n",
              "      <td>0.0</td>\n",
              "      <td>0.0</td>\n",
              "      <td>...</td>\n",
              "      <td>0.0</td>\n",
              "      <td>0.0</td>\n",
              "      <td>1.0</td>\n",
              "      <td>0.0</td>\n",
              "      <td>0.0</td>\n",
              "      <td>0.0</td>\n",
              "      <td>0.0</td>\n",
              "      <td>0.0</td>\n",
              "      <td>1.0</td>\n",
              "      <td>0.0</td>\n",
              "    </tr>\n",
              "    <tr>\n",
              "      <th>4</th>\n",
              "      <td>34c7d073ea6</td>\n",
              "      <td>1.0</td>\n",
              "      <td>0.0</td>\n",
              "      <td>0.0</td>\n",
              "      <td>0.0</td>\n",
              "      <td>0.0</td>\n",
              "      <td>0.0</td>\n",
              "      <td>0.0</td>\n",
              "      <td>0.0</td>\n",
              "      <td>0.0</td>\n",
              "      <td>...</td>\n",
              "      <td>0.0</td>\n",
              "      <td>0.0</td>\n",
              "      <td>0.0</td>\n",
              "      <td>0.0</td>\n",
              "      <td>1.0</td>\n",
              "      <td>0.0</td>\n",
              "      <td>0.0</td>\n",
              "      <td>0.0</td>\n",
              "      <td>1.0</td>\n",
              "      <td>0.0</td>\n",
              "    </tr>\n",
              "  </tbody>\n",
              "</table>\n",
              "<p>5 rows × 76 columns</p>\n",
              "</div>"
            ],
            "text/plain": [
              "   building_id  count_families  has_secondary_use  \\\n",
              "0  24385bfd2a2             2.0                0.0   \n",
              "1  405d1bbebbf             1.0                1.0   \n",
              "2  351d9bc71f6             1.0                0.0   \n",
              "3  2be3a971166             1.0                0.0   \n",
              "4  34c7d073ea6             1.0                0.0   \n",
              "\n",
              "   has_secondary_use_agriculture  has_secondary_use_hotel  \\\n",
              "0                            0.0                      0.0   \n",
              "1                            0.0                      1.0   \n",
              "2                            0.0                      0.0   \n",
              "3                            0.0                      0.0   \n",
              "4                            0.0                      0.0   \n",
              "\n",
              "   has_secondary_use_rental  has_secondary_use_institution  \\\n",
              "0                       0.0                            0.0   \n",
              "1                       0.0                            0.0   \n",
              "2                       0.0                            0.0   \n",
              "3                       0.0                            0.0   \n",
              "4                       0.0                            0.0   \n",
              "\n",
              "   has_secondary_use_school  has_secondary_use_industry  \\\n",
              "0                       0.0                         0.0   \n",
              "1                       0.0                         0.0   \n",
              "2                       0.0                         0.0   \n",
              "3                       0.0                         0.0   \n",
              "4                       0.0                         0.0   \n",
              "\n",
              "   has_secondary_use_health_post   ...    Damaged-Repaired and used  \\\n",
              "0                            0.0   ...                          0.0   \n",
              "1                            0.0   ...                          1.0   \n",
              "2                            0.0   ...                          0.0   \n",
              "3                            0.0   ...                          0.0   \n",
              "4                            0.0   ...                          0.0   \n",
              "\n",
              "   Damaged-Rubble Clear-New building built  Damaged-Rubble clear  \\\n",
              "0                                      0.0                   0.0   \n",
              "1                                      0.0                   0.0   \n",
              "2                                      0.0                   0.0   \n",
              "3                                      0.0                   1.0   \n",
              "4                                      0.0                   0.0   \n",
              "\n",
              "   Damaged-Rubble unclear  Damaged-Used in risk  Not damaged  Institutional  \\\n",
              "0                     0.0                   0.0          0.0            0.0   \n",
              "1                     0.0                   0.0          0.0            0.0   \n",
              "2                     0.0                   0.0          1.0            0.0   \n",
              "3                     0.0                   0.0          0.0            0.0   \n",
              "4                     0.0                   1.0          0.0            0.0   \n",
              "\n",
              "   Other  Private  Public  \n",
              "0    0.0      1.0     0.0  \n",
              "1    0.0      1.0     0.0  \n",
              "2    0.0      1.0     0.0  \n",
              "3    0.0      1.0     0.0  \n",
              "4    0.0      1.0     0.0  \n",
              "\n",
              "[5 rows x 76 columns]"
            ]
          },
          "metadata": {
            "tags": []
          },
          "execution_count": 57
        }
      ]
    },
    {
      "metadata": {
        "id": "Gs5InbST2Tcr",
        "colab_type": "code",
        "colab": {
          "base_uri": "https://localhost:8080/",
          "height": 391
        },
        "outputId": "97b95418-6cf8-44dd-a055-25db24ec2070"
      },
      "cell_type": "code",
      "source": [
        "train.info()"
      ],
      "execution_count": 76,
      "outputs": [
        {
          "output_type": "stream",
          "text": [
            "<class 'pandas.core.frame.DataFrame'>\n",
            "RangeIndex: 631761 entries, 0 to 631760\n",
            "Data columns (total 17 columns):\n",
            "building_id                              631761 non-null object\n",
            "damage_grade                             631761 non-null object\n",
            "has_geotechnical_risk                    631761 non-null float64\n",
            "has_geotechnical_risk_fault_crack        631761 non-null int64\n",
            "has_geotechnical_risk_flood              631761 non-null int64\n",
            "has_geotechnical_risk_land_settlement    631761 non-null int64\n",
            "has_geotechnical_risk_landslide          631761 non-null int64\n",
            "has_geotechnical_risk_liquefaction       631761 non-null int64\n",
            "has_geotechnical_risk_other              631761 non-null int64\n",
            "has_geotechnical_risk_rock_fall          631761 non-null int64\n",
            "has_repair_started                       598344 non-null float64\n",
            "vdcmun_id                                631761 non-null int64\n",
            "Both                                     631761 non-null uint8\n",
            "Building removed                         631761 non-null uint8\n",
            "Exterior                                 631761 non-null uint8\n",
            "Interior                                 631761 non-null uint8\n",
            "Not able to inspect                      631761 non-null uint8\n",
            "dtypes: float64(2), int64(8), object(2), uint8(5)\n",
            "memory usage: 60.9+ MB\n"
          ],
          "name": "stdout"
        }
      ]
    },
    {
      "metadata": {
        "id": "qHlIbio5ePBM",
        "colab_type": "code",
        "colab": {
          "base_uri": "https://localhost:8080/",
          "height": 241
        },
        "outputId": "d48d3c18-d82d-433d-d25e-c687b913c328"
      },
      "cell_type": "code",
      "source": [
        "train.head()"
      ],
      "execution_count": 58,
      "outputs": [
        {
          "output_type": "execute_result",
          "data": {
            "text/html": [
              "<div>\n",
              "<style scoped>\n",
              "    .dataframe tbody tr th:only-of-type {\n",
              "        vertical-align: middle;\n",
              "    }\n",
              "\n",
              "    .dataframe tbody tr th {\n",
              "        vertical-align: top;\n",
              "    }\n",
              "\n",
              "    .dataframe thead th {\n",
              "        text-align: right;\n",
              "    }\n",
              "</style>\n",
              "<table border=\"1\" class=\"dataframe\">\n",
              "  <thead>\n",
              "    <tr style=\"text-align: right;\">\n",
              "      <th></th>\n",
              "      <th>area_assesed</th>\n",
              "      <th>building_id</th>\n",
              "      <th>damage_grade</th>\n",
              "      <th>district_id</th>\n",
              "      <th>has_geotechnical_risk</th>\n",
              "      <th>has_geotechnical_risk_fault_crack</th>\n",
              "      <th>has_geotechnical_risk_flood</th>\n",
              "      <th>has_geotechnical_risk_land_settlement</th>\n",
              "      <th>has_geotechnical_risk_landslide</th>\n",
              "      <th>has_geotechnical_risk_liquefaction</th>\n",
              "      <th>has_geotechnical_risk_other</th>\n",
              "      <th>has_geotechnical_risk_rock_fall</th>\n",
              "      <th>has_repair_started</th>\n",
              "      <th>vdcmun_id</th>\n",
              "    </tr>\n",
              "  </thead>\n",
              "  <tbody>\n",
              "    <tr>\n",
              "      <th>0</th>\n",
              "      <td>Both</td>\n",
              "      <td>24385bfd2a2</td>\n",
              "      <td>Grade 4</td>\n",
              "      <td>24</td>\n",
              "      <td>0.0</td>\n",
              "      <td>0</td>\n",
              "      <td>0</td>\n",
              "      <td>0</td>\n",
              "      <td>0</td>\n",
              "      <td>0</td>\n",
              "      <td>0</td>\n",
              "      <td>0</td>\n",
              "      <td>0.0</td>\n",
              "      <td>2489</td>\n",
              "    </tr>\n",
              "    <tr>\n",
              "      <th>1</th>\n",
              "      <td>Both</td>\n",
              "      <td>405d1bbebbf</td>\n",
              "      <td>Grade 2</td>\n",
              "      <td>44</td>\n",
              "      <td>0.0</td>\n",
              "      <td>0</td>\n",
              "      <td>0</td>\n",
              "      <td>0</td>\n",
              "      <td>0</td>\n",
              "      <td>0</td>\n",
              "      <td>0</td>\n",
              "      <td>0</td>\n",
              "      <td>1.0</td>\n",
              "      <td>4423</td>\n",
              "    </tr>\n",
              "    <tr>\n",
              "      <th>2</th>\n",
              "      <td>Both</td>\n",
              "      <td>351d9bc71f6</td>\n",
              "      <td>Grade 1</td>\n",
              "      <td>36</td>\n",
              "      <td>0.0</td>\n",
              "      <td>0</td>\n",
              "      <td>0</td>\n",
              "      <td>0</td>\n",
              "      <td>0</td>\n",
              "      <td>0</td>\n",
              "      <td>0</td>\n",
              "      <td>0</td>\n",
              "      <td>0.0</td>\n",
              "      <td>3650</td>\n",
              "    </tr>\n",
              "    <tr>\n",
              "      <th>3</th>\n",
              "      <td>Building removed</td>\n",
              "      <td>2be3a971166</td>\n",
              "      <td>Grade 5</td>\n",
              "      <td>30</td>\n",
              "      <td>0.0</td>\n",
              "      <td>0</td>\n",
              "      <td>0</td>\n",
              "      <td>0</td>\n",
              "      <td>0</td>\n",
              "      <td>0</td>\n",
              "      <td>0</td>\n",
              "      <td>0</td>\n",
              "      <td>0.0</td>\n",
              "      <td>3016</td>\n",
              "    </tr>\n",
              "    <tr>\n",
              "      <th>4</th>\n",
              "      <td>Both</td>\n",
              "      <td>34c7d073ea6</td>\n",
              "      <td>Grade 3</td>\n",
              "      <td>36</td>\n",
              "      <td>0.0</td>\n",
              "      <td>0</td>\n",
              "      <td>0</td>\n",
              "      <td>0</td>\n",
              "      <td>0</td>\n",
              "      <td>0</td>\n",
              "      <td>0</td>\n",
              "      <td>0</td>\n",
              "      <td>0.0</td>\n",
              "      <td>3627</td>\n",
              "    </tr>\n",
              "  </tbody>\n",
              "</table>\n",
              "</div>"
            ],
            "text/plain": [
              "       area_assesed  building_id damage_grade  district_id  \\\n",
              "0              Both  24385bfd2a2      Grade 4           24   \n",
              "1              Both  405d1bbebbf      Grade 2           44   \n",
              "2              Both  351d9bc71f6      Grade 1           36   \n",
              "3  Building removed  2be3a971166      Grade 5           30   \n",
              "4              Both  34c7d073ea6      Grade 3           36   \n",
              "\n",
              "   has_geotechnical_risk  has_geotechnical_risk_fault_crack  \\\n",
              "0                    0.0                                  0   \n",
              "1                    0.0                                  0   \n",
              "2                    0.0                                  0   \n",
              "3                    0.0                                  0   \n",
              "4                    0.0                                  0   \n",
              "\n",
              "   has_geotechnical_risk_flood  has_geotechnical_risk_land_settlement  \\\n",
              "0                            0                                      0   \n",
              "1                            0                                      0   \n",
              "2                            0                                      0   \n",
              "3                            0                                      0   \n",
              "4                            0                                      0   \n",
              "\n",
              "   has_geotechnical_risk_landslide  has_geotechnical_risk_liquefaction  \\\n",
              "0                                0                                   0   \n",
              "1                                0                                   0   \n",
              "2                                0                                   0   \n",
              "3                                0                                   0   \n",
              "4                                0                                   0   \n",
              "\n",
              "   has_geotechnical_risk_other  has_geotechnical_risk_rock_fall  \\\n",
              "0                            0                                0   \n",
              "1                            0                                0   \n",
              "2                            0                                0   \n",
              "3                            0                                0   \n",
              "4                            0                                0   \n",
              "\n",
              "   has_repair_started  vdcmun_id  \n",
              "0                 0.0       2489  \n",
              "1                 1.0       4423  \n",
              "2                 0.0       3650  \n",
              "3                 0.0       3016  \n",
              "4                 0.0       3627  "
            ]
          },
          "metadata": {
            "tags": []
          },
          "execution_count": 58
        }
      ]
    },
    {
      "metadata": {
        "id": "Je5rhYFUeQTv",
        "colab_type": "code",
        "colab": {
          "base_uri": "https://localhost:8080/",
          "height": 340
        },
        "outputId": "e25c8258-2f4b-4df0-a023-e4d888d67bbd"
      },
      "cell_type": "code",
      "source": [
        "train.info()"
      ],
      "execution_count": 60,
      "outputs": [
        {
          "output_type": "stream",
          "text": [
            "<class 'pandas.core.frame.DataFrame'>\n",
            "RangeIndex: 631761 entries, 0 to 631760\n",
            "Data columns (total 14 columns):\n",
            "area_assesed                             631761 non-null object\n",
            "building_id                              631761 non-null object\n",
            "damage_grade                             631761 non-null object\n",
            "district_id                              631761 non-null int64\n",
            "has_geotechnical_risk                    631761 non-null float64\n",
            "has_geotechnical_risk_fault_crack        631761 non-null int64\n",
            "has_geotechnical_risk_flood              631761 non-null int64\n",
            "has_geotechnical_risk_land_settlement    631761 non-null int64\n",
            "has_geotechnical_risk_landslide          631761 non-null int64\n",
            "has_geotechnical_risk_liquefaction       631761 non-null int64\n",
            "has_geotechnical_risk_other              631761 non-null int64\n",
            "has_geotechnical_risk_rock_fall          631761 non-null int64\n",
            "has_repair_started                       598344 non-null float64\n",
            "vdcmun_id                                631761 non-null int64\n",
            "dtypes: float64(2), int64(9), object(3)\n",
            "memory usage: 67.5+ MB\n"
          ],
          "name": "stdout"
        }
      ]
    },
    {
      "metadata": {
        "id": "JrMhrD7LgNZ_",
        "colab_type": "code",
        "colab": {}
      },
      "cell_type": "code",
      "source": [
        "del train['district_id']"
      ],
      "execution_count": 0,
      "outputs": []
    },
    {
      "metadata": {
        "id": "AU-c1BuPu-ai",
        "colab_type": "code",
        "colab": {
          "base_uri": "https://localhost:8080/",
          "height": 119
        },
        "outputId": "0c85e7c4-0846-482e-eaef-af3d750d0e39"
      },
      "cell_type": "code",
      "source": [
        "train.area_assesed.value_counts()"
      ],
      "execution_count": 62,
      "outputs": [
        {
          "output_type": "execute_result",
          "data": {
            "text/plain": [
              "Both                   382992\n",
              "Building removed       131346\n",
              "Exterior                99030\n",
              "Not able to inspect     16575\n",
              "Interior                 1818\n",
              "Name: area_assesed, dtype: int64"
            ]
          },
          "metadata": {
            "tags": []
          },
          "execution_count": 62
        }
      ]
    },
    {
      "metadata": {
        "id": "Q6fEgv8xvJxN",
        "colab_type": "code",
        "colab": {}
      },
      "cell_type": "code",
      "source": [
        "area = pd.get_dummies(train.area_assesed)"
      ],
      "execution_count": 0,
      "outputs": []
    },
    {
      "metadata": {
        "id": "ENyzez762pBZ",
        "colab_type": "code",
        "colab": {
          "base_uri": "https://localhost:8080/",
          "height": 68
        },
        "outputId": "1101d60b-01b0-4d97-c97e-4bd7f847234b"
      },
      "cell_type": "code",
      "source": [
        "train.has_repair_started.value_counts()"
      ],
      "execution_count": 77,
      "outputs": [
        {
          "output_type": "execute_result",
          "data": {
            "text/plain": [
              "0.0    409222\n",
              "1.0    189122\n",
              "Name: has_repair_started, dtype: int64"
            ]
          },
          "metadata": {
            "tags": []
          },
          "execution_count": 77
        }
      ]
    },
    {
      "metadata": {
        "id": "ES391U582o8g",
        "colab_type": "code",
        "colab": {}
      },
      "cell_type": "code",
      "source": [
        "from sklearn.preprocessing import Imputer\n",
        "imp = Imputer(missing_values = \"NaN\", strategy = 'most_frequent')\n",
        "input_data = train.has_repair_started.values.reshape(-1,1)\n",
        "train.has_repair_started = imp.fit_transform(input_data, train.has_repair_started)"
      ],
      "execution_count": 0,
      "outputs": []
    },
    {
      "metadata": {
        "id": "bV_Y57iA2o6C",
        "colab_type": "code",
        "colab": {
          "base_uri": "https://localhost:8080/",
          "height": 391
        },
        "outputId": "c6927eff-c217-418f-eb46-79752447d5d0"
      },
      "cell_type": "code",
      "source": [
        "train.info()"
      ],
      "execution_count": 79,
      "outputs": [
        {
          "output_type": "stream",
          "text": [
            "<class 'pandas.core.frame.DataFrame'>\n",
            "RangeIndex: 631761 entries, 0 to 631760\n",
            "Data columns (total 17 columns):\n",
            "building_id                              631761 non-null object\n",
            "damage_grade                             631761 non-null object\n",
            "has_geotechnical_risk                    631761 non-null float64\n",
            "has_geotechnical_risk_fault_crack        631761 non-null int64\n",
            "has_geotechnical_risk_flood              631761 non-null int64\n",
            "has_geotechnical_risk_land_settlement    631761 non-null int64\n",
            "has_geotechnical_risk_landslide          631761 non-null int64\n",
            "has_geotechnical_risk_liquefaction       631761 non-null int64\n",
            "has_geotechnical_risk_other              631761 non-null int64\n",
            "has_geotechnical_risk_rock_fall          631761 non-null int64\n",
            "has_repair_started                       631761 non-null float64\n",
            "vdcmun_id                                631761 non-null int64\n",
            "Both                                     631761 non-null uint8\n",
            "Building removed                         631761 non-null uint8\n",
            "Exterior                                 631761 non-null uint8\n",
            "Interior                                 631761 non-null uint8\n",
            "Not able to inspect                      631761 non-null uint8\n",
            "dtypes: float64(2), int64(8), object(2), uint8(5)\n",
            "memory usage: 60.9+ MB\n"
          ],
          "name": "stdout"
        }
      ]
    },
    {
      "metadata": {
        "id": "euwvFOW8vTRe",
        "colab_type": "code",
        "colab": {}
      },
      "cell_type": "code",
      "source": [
        "train = pd.concat([train, area], axis=1)\n",
        "del train['area_assesed']"
      ],
      "execution_count": 0,
      "outputs": []
    },
    {
      "metadata": {
        "id": "DSAnX2v7v5P7",
        "colab_type": "code",
        "colab": {
          "base_uri": "https://localhost:8080/",
          "height": 258
        },
        "outputId": "26f5c92e-a60e-470e-96dd-293c46f823df"
      },
      "cell_type": "code",
      "source": [
        "train.head()"
      ],
      "execution_count": 66,
      "outputs": [
        {
          "output_type": "execute_result",
          "data": {
            "text/html": [
              "<div>\n",
              "<style scoped>\n",
              "    .dataframe tbody tr th:only-of-type {\n",
              "        vertical-align: middle;\n",
              "    }\n",
              "\n",
              "    .dataframe tbody tr th {\n",
              "        vertical-align: top;\n",
              "    }\n",
              "\n",
              "    .dataframe thead th {\n",
              "        text-align: right;\n",
              "    }\n",
              "</style>\n",
              "<table border=\"1\" class=\"dataframe\">\n",
              "  <thead>\n",
              "    <tr style=\"text-align: right;\">\n",
              "      <th></th>\n",
              "      <th>building_id</th>\n",
              "      <th>damage_grade</th>\n",
              "      <th>has_geotechnical_risk</th>\n",
              "      <th>has_geotechnical_risk_fault_crack</th>\n",
              "      <th>has_geotechnical_risk_flood</th>\n",
              "      <th>has_geotechnical_risk_land_settlement</th>\n",
              "      <th>has_geotechnical_risk_landslide</th>\n",
              "      <th>has_geotechnical_risk_liquefaction</th>\n",
              "      <th>has_geotechnical_risk_other</th>\n",
              "      <th>has_geotechnical_risk_rock_fall</th>\n",
              "      <th>has_repair_started</th>\n",
              "      <th>vdcmun_id</th>\n",
              "      <th>Both</th>\n",
              "      <th>Building removed</th>\n",
              "      <th>Exterior</th>\n",
              "      <th>Interior</th>\n",
              "      <th>Not able to inspect</th>\n",
              "    </tr>\n",
              "  </thead>\n",
              "  <tbody>\n",
              "    <tr>\n",
              "      <th>0</th>\n",
              "      <td>24385bfd2a2</td>\n",
              "      <td>Grade 4</td>\n",
              "      <td>0.0</td>\n",
              "      <td>0</td>\n",
              "      <td>0</td>\n",
              "      <td>0</td>\n",
              "      <td>0</td>\n",
              "      <td>0</td>\n",
              "      <td>0</td>\n",
              "      <td>0</td>\n",
              "      <td>0.0</td>\n",
              "      <td>2489</td>\n",
              "      <td>1</td>\n",
              "      <td>0</td>\n",
              "      <td>0</td>\n",
              "      <td>0</td>\n",
              "      <td>0</td>\n",
              "    </tr>\n",
              "    <tr>\n",
              "      <th>1</th>\n",
              "      <td>405d1bbebbf</td>\n",
              "      <td>Grade 2</td>\n",
              "      <td>0.0</td>\n",
              "      <td>0</td>\n",
              "      <td>0</td>\n",
              "      <td>0</td>\n",
              "      <td>0</td>\n",
              "      <td>0</td>\n",
              "      <td>0</td>\n",
              "      <td>0</td>\n",
              "      <td>1.0</td>\n",
              "      <td>4423</td>\n",
              "      <td>1</td>\n",
              "      <td>0</td>\n",
              "      <td>0</td>\n",
              "      <td>0</td>\n",
              "      <td>0</td>\n",
              "    </tr>\n",
              "    <tr>\n",
              "      <th>2</th>\n",
              "      <td>351d9bc71f6</td>\n",
              "      <td>Grade 1</td>\n",
              "      <td>0.0</td>\n",
              "      <td>0</td>\n",
              "      <td>0</td>\n",
              "      <td>0</td>\n",
              "      <td>0</td>\n",
              "      <td>0</td>\n",
              "      <td>0</td>\n",
              "      <td>0</td>\n",
              "      <td>0.0</td>\n",
              "      <td>3650</td>\n",
              "      <td>1</td>\n",
              "      <td>0</td>\n",
              "      <td>0</td>\n",
              "      <td>0</td>\n",
              "      <td>0</td>\n",
              "    </tr>\n",
              "    <tr>\n",
              "      <th>3</th>\n",
              "      <td>2be3a971166</td>\n",
              "      <td>Grade 5</td>\n",
              "      <td>0.0</td>\n",
              "      <td>0</td>\n",
              "      <td>0</td>\n",
              "      <td>0</td>\n",
              "      <td>0</td>\n",
              "      <td>0</td>\n",
              "      <td>0</td>\n",
              "      <td>0</td>\n",
              "      <td>0.0</td>\n",
              "      <td>3016</td>\n",
              "      <td>0</td>\n",
              "      <td>1</td>\n",
              "      <td>0</td>\n",
              "      <td>0</td>\n",
              "      <td>0</td>\n",
              "    </tr>\n",
              "    <tr>\n",
              "      <th>4</th>\n",
              "      <td>34c7d073ea6</td>\n",
              "      <td>Grade 3</td>\n",
              "      <td>0.0</td>\n",
              "      <td>0</td>\n",
              "      <td>0</td>\n",
              "      <td>0</td>\n",
              "      <td>0</td>\n",
              "      <td>0</td>\n",
              "      <td>0</td>\n",
              "      <td>0</td>\n",
              "      <td>0.0</td>\n",
              "      <td>3627</td>\n",
              "      <td>1</td>\n",
              "      <td>0</td>\n",
              "      <td>0</td>\n",
              "      <td>0</td>\n",
              "      <td>0</td>\n",
              "    </tr>\n",
              "  </tbody>\n",
              "</table>\n",
              "</div>"
            ],
            "text/plain": [
              "   building_id damage_grade  has_geotechnical_risk  \\\n",
              "0  24385bfd2a2      Grade 4                    0.0   \n",
              "1  405d1bbebbf      Grade 2                    0.0   \n",
              "2  351d9bc71f6      Grade 1                    0.0   \n",
              "3  2be3a971166      Grade 5                    0.0   \n",
              "4  34c7d073ea6      Grade 3                    0.0   \n",
              "\n",
              "   has_geotechnical_risk_fault_crack  has_geotechnical_risk_flood  \\\n",
              "0                                  0                            0   \n",
              "1                                  0                            0   \n",
              "2                                  0                            0   \n",
              "3                                  0                            0   \n",
              "4                                  0                            0   \n",
              "\n",
              "   has_geotechnical_risk_land_settlement  has_geotechnical_risk_landslide  \\\n",
              "0                                      0                                0   \n",
              "1                                      0                                0   \n",
              "2                                      0                                0   \n",
              "3                                      0                                0   \n",
              "4                                      0                                0   \n",
              "\n",
              "   has_geotechnical_risk_liquefaction  has_geotechnical_risk_other  \\\n",
              "0                                   0                            0   \n",
              "1                                   0                            0   \n",
              "2                                   0                            0   \n",
              "3                                   0                            0   \n",
              "4                                   0                            0   \n",
              "\n",
              "   has_geotechnical_risk_rock_fall  has_repair_started  vdcmun_id  Both  \\\n",
              "0                                0                 0.0       2489     1   \n",
              "1                                0                 1.0       4423     1   \n",
              "2                                0                 0.0       3650     1   \n",
              "3                                0                 0.0       3016     0   \n",
              "4                                0                 0.0       3627     1   \n",
              "\n",
              "   Building removed  Exterior  Interior  Not able to inspect  \n",
              "0                 0         0         0                    0  \n",
              "1                 0         0         0                    0  \n",
              "2                 0         0         0                    0  \n",
              "3                 1         0         0                    0  \n",
              "4                 0         0         0                    0  "
            ]
          },
          "metadata": {
            "tags": []
          },
          "execution_count": 66
        }
      ]
    },
    {
      "metadata": {
        "id": "8rx2TeRov6rD",
        "colab_type": "code",
        "colab": {
          "base_uri": "https://localhost:8080/",
          "height": 338
        },
        "outputId": "e70662e4-4d5f-4686-80f6-7e45c2d82f33"
      },
      "cell_type": "code",
      "source": [
        "train_full = pd.merge(train, train_combined, on='building_id')\n",
        "train_full.head()"
      ],
      "execution_count": 80,
      "outputs": [
        {
          "output_type": "execute_result",
          "data": {
            "text/html": [
              "<div>\n",
              "<style scoped>\n",
              "    .dataframe tbody tr th:only-of-type {\n",
              "        vertical-align: middle;\n",
              "    }\n",
              "\n",
              "    .dataframe tbody tr th {\n",
              "        vertical-align: top;\n",
              "    }\n",
              "\n",
              "    .dataframe thead th {\n",
              "        text-align: right;\n",
              "    }\n",
              "</style>\n",
              "<table border=\"1\" class=\"dataframe\">\n",
              "  <thead>\n",
              "    <tr style=\"text-align: right;\">\n",
              "      <th></th>\n",
              "      <th>building_id</th>\n",
              "      <th>damage_grade</th>\n",
              "      <th>has_geotechnical_risk</th>\n",
              "      <th>has_geotechnical_risk_fault_crack</th>\n",
              "      <th>has_geotechnical_risk_flood</th>\n",
              "      <th>has_geotechnical_risk_land_settlement</th>\n",
              "      <th>has_geotechnical_risk_landslide</th>\n",
              "      <th>has_geotechnical_risk_liquefaction</th>\n",
              "      <th>has_geotechnical_risk_other</th>\n",
              "      <th>has_geotechnical_risk_rock_fall</th>\n",
              "      <th>...</th>\n",
              "      <th>Damaged-Repaired and used</th>\n",
              "      <th>Damaged-Rubble Clear-New building built</th>\n",
              "      <th>Damaged-Rubble clear</th>\n",
              "      <th>Damaged-Rubble unclear</th>\n",
              "      <th>Damaged-Used in risk</th>\n",
              "      <th>Not damaged</th>\n",
              "      <th>Institutional</th>\n",
              "      <th>Other</th>\n",
              "      <th>Private</th>\n",
              "      <th>Public</th>\n",
              "    </tr>\n",
              "  </thead>\n",
              "  <tbody>\n",
              "    <tr>\n",
              "      <th>0</th>\n",
              "      <td>24385bfd2a2</td>\n",
              "      <td>Grade 4</td>\n",
              "      <td>0.0</td>\n",
              "      <td>0</td>\n",
              "      <td>0</td>\n",
              "      <td>0</td>\n",
              "      <td>0</td>\n",
              "      <td>0</td>\n",
              "      <td>0</td>\n",
              "      <td>0</td>\n",
              "      <td>...</td>\n",
              "      <td>0.0</td>\n",
              "      <td>0.0</td>\n",
              "      <td>0.0</td>\n",
              "      <td>0.0</td>\n",
              "      <td>0.0</td>\n",
              "      <td>0.0</td>\n",
              "      <td>0.0</td>\n",
              "      <td>0.0</td>\n",
              "      <td>1.0</td>\n",
              "      <td>0.0</td>\n",
              "    </tr>\n",
              "    <tr>\n",
              "      <th>1</th>\n",
              "      <td>405d1bbebbf</td>\n",
              "      <td>Grade 2</td>\n",
              "      <td>0.0</td>\n",
              "      <td>0</td>\n",
              "      <td>0</td>\n",
              "      <td>0</td>\n",
              "      <td>0</td>\n",
              "      <td>0</td>\n",
              "      <td>0</td>\n",
              "      <td>0</td>\n",
              "      <td>...</td>\n",
              "      <td>1.0</td>\n",
              "      <td>0.0</td>\n",
              "      <td>0.0</td>\n",
              "      <td>0.0</td>\n",
              "      <td>0.0</td>\n",
              "      <td>0.0</td>\n",
              "      <td>0.0</td>\n",
              "      <td>0.0</td>\n",
              "      <td>1.0</td>\n",
              "      <td>0.0</td>\n",
              "    </tr>\n",
              "    <tr>\n",
              "      <th>2</th>\n",
              "      <td>351d9bc71f6</td>\n",
              "      <td>Grade 1</td>\n",
              "      <td>0.0</td>\n",
              "      <td>0</td>\n",
              "      <td>0</td>\n",
              "      <td>0</td>\n",
              "      <td>0</td>\n",
              "      <td>0</td>\n",
              "      <td>0</td>\n",
              "      <td>0</td>\n",
              "      <td>...</td>\n",
              "      <td>0.0</td>\n",
              "      <td>0.0</td>\n",
              "      <td>0.0</td>\n",
              "      <td>0.0</td>\n",
              "      <td>0.0</td>\n",
              "      <td>1.0</td>\n",
              "      <td>0.0</td>\n",
              "      <td>0.0</td>\n",
              "      <td>1.0</td>\n",
              "      <td>0.0</td>\n",
              "    </tr>\n",
              "    <tr>\n",
              "      <th>3</th>\n",
              "      <td>2be3a971166</td>\n",
              "      <td>Grade 5</td>\n",
              "      <td>0.0</td>\n",
              "      <td>0</td>\n",
              "      <td>0</td>\n",
              "      <td>0</td>\n",
              "      <td>0</td>\n",
              "      <td>0</td>\n",
              "      <td>0</td>\n",
              "      <td>0</td>\n",
              "      <td>...</td>\n",
              "      <td>0.0</td>\n",
              "      <td>0.0</td>\n",
              "      <td>1.0</td>\n",
              "      <td>0.0</td>\n",
              "      <td>0.0</td>\n",
              "      <td>0.0</td>\n",
              "      <td>0.0</td>\n",
              "      <td>0.0</td>\n",
              "      <td>1.0</td>\n",
              "      <td>0.0</td>\n",
              "    </tr>\n",
              "    <tr>\n",
              "      <th>4</th>\n",
              "      <td>34c7d073ea6</td>\n",
              "      <td>Grade 3</td>\n",
              "      <td>0.0</td>\n",
              "      <td>0</td>\n",
              "      <td>0</td>\n",
              "      <td>0</td>\n",
              "      <td>0</td>\n",
              "      <td>0</td>\n",
              "      <td>0</td>\n",
              "      <td>0</td>\n",
              "      <td>...</td>\n",
              "      <td>0.0</td>\n",
              "      <td>0.0</td>\n",
              "      <td>0.0</td>\n",
              "      <td>0.0</td>\n",
              "      <td>1.0</td>\n",
              "      <td>0.0</td>\n",
              "      <td>0.0</td>\n",
              "      <td>0.0</td>\n",
              "      <td>1.0</td>\n",
              "      <td>0.0</td>\n",
              "    </tr>\n",
              "  </tbody>\n",
              "</table>\n",
              "<p>5 rows × 92 columns</p>\n",
              "</div>"
            ],
            "text/plain": [
              "   building_id damage_grade  has_geotechnical_risk  \\\n",
              "0  24385bfd2a2      Grade 4                    0.0   \n",
              "1  405d1bbebbf      Grade 2                    0.0   \n",
              "2  351d9bc71f6      Grade 1                    0.0   \n",
              "3  2be3a971166      Grade 5                    0.0   \n",
              "4  34c7d073ea6      Grade 3                    0.0   \n",
              "\n",
              "   has_geotechnical_risk_fault_crack  has_geotechnical_risk_flood  \\\n",
              "0                                  0                            0   \n",
              "1                                  0                            0   \n",
              "2                                  0                            0   \n",
              "3                                  0                            0   \n",
              "4                                  0                            0   \n",
              "\n",
              "   has_geotechnical_risk_land_settlement  has_geotechnical_risk_landslide  \\\n",
              "0                                      0                                0   \n",
              "1                                      0                                0   \n",
              "2                                      0                                0   \n",
              "3                                      0                                0   \n",
              "4                                      0                                0   \n",
              "\n",
              "   has_geotechnical_risk_liquefaction  has_geotechnical_risk_other  \\\n",
              "0                                   0                            0   \n",
              "1                                   0                            0   \n",
              "2                                   0                            0   \n",
              "3                                   0                            0   \n",
              "4                                   0                            0   \n",
              "\n",
              "   has_geotechnical_risk_rock_fall   ...    Damaged-Repaired and used  \\\n",
              "0                                0   ...                          0.0   \n",
              "1                                0   ...                          1.0   \n",
              "2                                0   ...                          0.0   \n",
              "3                                0   ...                          0.0   \n",
              "4                                0   ...                          0.0   \n",
              "\n",
              "   Damaged-Rubble Clear-New building built  Damaged-Rubble clear  \\\n",
              "0                                      0.0                   0.0   \n",
              "1                                      0.0                   0.0   \n",
              "2                                      0.0                   0.0   \n",
              "3                                      0.0                   1.0   \n",
              "4                                      0.0                   0.0   \n",
              "\n",
              "   Damaged-Rubble unclear  Damaged-Used in risk  Not damaged  Institutional  \\\n",
              "0                     0.0                   0.0          0.0            0.0   \n",
              "1                     0.0                   0.0          0.0            0.0   \n",
              "2                     0.0                   0.0          1.0            0.0   \n",
              "3                     0.0                   0.0          0.0            0.0   \n",
              "4                     0.0                   1.0          0.0            0.0   \n",
              "\n",
              "   Other  Private  Public  \n",
              "0    0.0      1.0     0.0  \n",
              "1    0.0      1.0     0.0  \n",
              "2    0.0      1.0     0.0  \n",
              "3    0.0      1.0     0.0  \n",
              "4    0.0      1.0     0.0  \n",
              "\n",
              "[5 rows x 92 columns]"
            ]
          },
          "metadata": {
            "tags": []
          },
          "execution_count": 80
        }
      ]
    },
    {
      "metadata": {
        "id": "U7Sn6LQkw-Kl",
        "colab_type": "code",
        "colab": {
          "base_uri": "https://localhost:8080/",
          "height": 34
        },
        "outputId": "47474043-7464-4a09-bbb9-c31f0a6eccaa"
      },
      "cell_type": "code",
      "source": [
        "train_full.shape"
      ],
      "execution_count": 81,
      "outputs": [
        {
          "output_type": "execute_result",
          "data": {
            "text/plain": [
              "(631761, 92)"
            ]
          },
          "metadata": {
            "tags": []
          },
          "execution_count": 81
        }
      ]
    },
    {
      "metadata": {
        "id": "1oj76it_xiPa",
        "colab_type": "code",
        "colab": {}
      },
      "cell_type": "code",
      "source": [
        "train_full.set_index('building_id', inplace=True)"
      ],
      "execution_count": 0,
      "outputs": []
    },
    {
      "metadata": {
        "id": "gLFJRYCg4UCJ",
        "colab_type": "code",
        "colab": {}
      },
      "cell_type": "code",
      "source": [
        "imp_1 = Imputer(missing_values = \"NaN\", strategy = 'most_frequent')\n",
        "input_data_1 = train_full.count_families.values.reshape(-1,1)\n",
        "train_full.count_families = imp_1.fit_transform(input_data_1, train_full.count_families)"
      ],
      "execution_count": 0,
      "outputs": []
    },
    {
      "metadata": {
        "id": "GSSPD5US4T9V",
        "colab_type": "code",
        "colab": {
          "base_uri": "https://localhost:8080/",
          "height": 221
        },
        "outputId": "4a8bdc72-8846-49de-8d82-02a335e19c63"
      },
      "cell_type": "code",
      "source": [
        "train_full.count_families.value_counts()"
      ],
      "execution_count": 84,
      "outputs": [
        {
          "output_type": "execute_result",
          "data": {
            "text/plain": [
              "1.0     547837\n",
              "0.0      50659\n",
              "2.0      27771\n",
              "3.0       4185\n",
              "4.0        939\n",
              "5.0        262\n",
              "6.0         73\n",
              "7.0         19\n",
              "8.0          9\n",
              "9.0          5\n",
              "11.0         1\n",
              "Name: count_families, dtype: int64"
            ]
          },
          "metadata": {
            "tags": []
          },
          "execution_count": 84
        }
      ]
    },
    {
      "metadata": {
        "id": "33_ys9CwxBP-",
        "colab_type": "code",
        "colab": {
          "base_uri": "https://localhost:8080/",
          "height": 1649
        },
        "outputId": "09dde735-a5c3-4079-c94e-351558d1d225"
      },
      "cell_type": "code",
      "source": [
        "#train_full = train_full.astype(float)\n",
        "train_full.info()"
      ],
      "execution_count": 86,
      "outputs": [
        {
          "output_type": "stream",
          "text": [
            "<class 'pandas.core.frame.DataFrame'>\n",
            "Index: 631761 entries, 24385bfd2a2 to 293272232cf\n",
            "Data columns (total 91 columns):\n",
            "damage_grade                               631761 non-null object\n",
            "has_geotechnical_risk                      631761 non-null float64\n",
            "has_geotechnical_risk_fault_crack          631761 non-null int64\n",
            "has_geotechnical_risk_flood                631761 non-null int64\n",
            "has_geotechnical_risk_land_settlement      631761 non-null int64\n",
            "has_geotechnical_risk_landslide            631761 non-null int64\n",
            "has_geotechnical_risk_liquefaction         631761 non-null int64\n",
            "has_geotechnical_risk_other                631761 non-null int64\n",
            "has_geotechnical_risk_rock_fall            631761 non-null int64\n",
            "has_repair_started                         631761 non-null float64\n",
            "vdcmun_id                                  631761 non-null int64\n",
            "Both                                       631761 non-null uint8\n",
            "Building removed                           631761 non-null uint8\n",
            "Exterior                                   631761 non-null uint8\n",
            "Interior                                   631761 non-null uint8\n",
            "Not able to inspect                        631761 non-null uint8\n",
            "count_families                             631761 non-null float64\n",
            "has_secondary_use                          631761 non-null float64\n",
            "has_secondary_use_agriculture              631761 non-null float64\n",
            "has_secondary_use_hotel                    631761 non-null float64\n",
            "has_secondary_use_rental                   631761 non-null float64\n",
            "has_secondary_use_institution              631761 non-null float64\n",
            "has_secondary_use_school                   631761 non-null float64\n",
            "has_secondary_use_industry                 631761 non-null float64\n",
            "has_secondary_use_health_post              631761 non-null float64\n",
            "has_secondary_use_gov_office               631761 non-null float64\n",
            "has_secondary_use_use_police               631761 non-null float64\n",
            "has_secondary_use_other                    631761 non-null float64\n",
            "count_floors_pre_eq                        631761 non-null float64\n",
            "count_floors_post_eq                       631761 non-null float64\n",
            "age_building                               631761 non-null float64\n",
            "plinth_area_sq_ft                          631761 non-null float64\n",
            "height_ft_pre_eq                           631761 non-null float64\n",
            "height_ft_post_eq                          631761 non-null float64\n",
            "has_superstructure_adobe_mud               631761 non-null float64\n",
            "has_superstructure_mud_mortar_stone        631761 non-null float64\n",
            "has_superstructure_stone_flag              631761 non-null float64\n",
            "has_superstructure_cement_mortar_stone     631761 non-null float64\n",
            "has_superstructure_mud_mortar_brick        631761 non-null float64\n",
            "has_superstructure_cement_mortar_brick     631761 non-null float64\n",
            "has_superstructure_timber                  631761 non-null float64\n",
            "has_superstructure_bamboo                  631761 non-null float64\n",
            "has_superstructure_rc_non_engineered       631761 non-null float64\n",
            "has_superstructure_rc_engineered           631761 non-null float64\n",
            "has_superstructure_other                   631761 non-null float64\n",
            "Flat                                       631761 non-null float64\n",
            "Moderate slope                             631761 non-null float64\n",
            "Steep slope                                631761 non-null float64\n",
            "Bamboo/Timber                              631761 non-null float64\n",
            "Cement-Stone/Brick                         631761 non-null float64\n",
            "Mud mortar-Stone/Brick                     631761 non-null float64\n",
            "Other                                      631761 non-null float64\n",
            "RC                                         631761 non-null float64\n",
            "Bamboo/Timber-Heavy roof                   631761 non-null float64\n",
            "Bamboo/Timber-Light roof                   631761 non-null float64\n",
            "RCC/RB/RBC                                 631761 non-null float64\n",
            "Brick/Stone                                631761 non-null float64\n",
            "Mud                                        631761 non-null float64\n",
            "Other                                      631761 non-null float64\n",
            "RC                                         631761 non-null float64\n",
            "Timber                                     631761 non-null float64\n",
            "Not applicable                             631761 non-null float64\n",
            "RCC/RB/RBC                                 631761 non-null float64\n",
            "TImber/Bamboo-Mud                          631761 non-null float64\n",
            "Timber-Planck                              631761 non-null float64\n",
            "Attached-1 side                            631761 non-null float64\n",
            "Attached-2 side                            631761 non-null float64\n",
            "Attached-3 side                            631761 non-null float64\n",
            "Not attached                               631761 non-null float64\n",
            "Building with Central Courtyard            631761 non-null float64\n",
            "E-shape                                    631761 non-null float64\n",
            "H-shape                                    631761 non-null float64\n",
            "L-shape                                    631761 non-null float64\n",
            "Multi-projected                            631761 non-null float64\n",
            "Others                                     631761 non-null float64\n",
            "Rectangular                                631761 non-null float64\n",
            "Square                                     631761 non-null float64\n",
            "T-shape                                    631761 non-null float64\n",
            "U-shape                                    631761 non-null float64\n",
            "Covered by landslide                       631761 non-null float64\n",
            "Damaged-Not used                           631761 non-null float64\n",
            "Damaged-Repaired and used                  631761 non-null float64\n",
            "Damaged-Rubble Clear-New building built    631761 non-null float64\n",
            "Damaged-Rubble clear                       631761 non-null float64\n",
            "Damaged-Rubble unclear                     631761 non-null float64\n",
            "Damaged-Used in risk                       631761 non-null float64\n",
            "Not damaged                                631761 non-null float64\n",
            "Institutional                              631761 non-null float64\n",
            "Other                                      631761 non-null float64\n",
            "Private                                    631761 non-null float64\n",
            "Public                                     631761 non-null float64\n",
            "dtypes: float64(77), int64(8), object(1), uint8(5)\n",
            "memory usage: 422.3+ MB\n"
          ],
          "name": "stdout"
        }
      ]
    },
    {
      "metadata": {
        "id": "LvGSk6Ov62UK",
        "colab_type": "code",
        "colab": {
          "base_uri": "https://localhost:8080/",
          "height": 34
        },
        "outputId": "291d62e5-5fcd-4493-a716-76b7e8c3c186"
      },
      "cell_type": "code",
      "source": [
        "train_full.isnull().sum().sum()"
      ],
      "execution_count": 88,
      "outputs": [
        {
          "output_type": "execute_result",
          "data": {
            "text/plain": [
              "0"
            ]
          },
          "metadata": {
            "tags": []
          },
          "execution_count": 88
        }
      ]
    },
    {
      "metadata": {
        "id": "UGAi-fO6xKKm",
        "colab_type": "code",
        "colab": {}
      },
      "cell_type": "code",
      "source": [
        "train_full.to_csv('drive/Colab Notebooks/Building/train_full.csv',index=False)"
      ],
      "execution_count": 0,
      "outputs": []
    },
    {
      "metadata": {
        "id": "RLrnjDY3y7BR",
        "colab_type": "code",
        "colab": {}
      },
      "cell_type": "code",
      "source": [
        ""
      ],
      "execution_count": 0,
      "outputs": []
    }
  ]
}