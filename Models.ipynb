{
  "nbformat": 4,
  "nbformat_minor": 0,
  "metadata": {
    "colab": {
      "name": "Models.ipynb",
      "version": "0.3.2",
      "provenance": [],
      "collapsed_sections": [],
      "include_colab_link": true
    },
    "kernelspec": {
      "name": "python3",
      "display_name": "Python 3"
    },
    "accelerator": "GPU"
  },
  "cells": [
    {
      "cell_type": "markdown",
      "metadata": {
        "id": "view-in-github",
        "colab_type": "text"
      },
      "source": [
        "[View in Colaboratory](https://colab.research.google.com/github/vivek6449/Building_Damage_Classification/blob/master/Models.ipynb)"
      ]
    },
    {
      "metadata": {
        "id": "6HrydFrzBf0A",
        "colab_type": "code",
        "colab": {
          "base_uri": "https://localhost:8080/",
          "height": 34
        },
        "outputId": "d2f6cca3-2ee6-4b3c-cf9e-03637f5409f3"
      },
      "cell_type": "code",
      "source": [
        "import tensorflow as tf \n",
        "tf.test.gpu_device_name() "
      ],
      "execution_count": 54,
      "outputs": [
        {
          "output_type": "execute_result",
          "data": {
            "text/plain": [
              "'/device:GPU:0'"
            ]
          },
          "metadata": {
            "tags": []
          },
          "execution_count": 54
        }
      ]
    },
    {
      "metadata": {
        "id": "O9z_knQhCyXb",
        "colab_type": "code",
        "colab": {
          "base_uri": "https://localhost:8080/",
          "height": 119
        },
        "outputId": "01a58924-59eb-4168-ccbf-02dcdb65864f"
      },
      "cell_type": "code",
      "source": [
        "!apt-get install -y -qq software-properties-common python-software-properties module-init-tools \n",
        "!add-apt-repository -y ppa:alessandro-strada/ppa 2>&1 > /dev/null \n",
        "!apt-get update -qq 2>&1 > /dev/null \n",
        "!apt-get -y install -qq google-drive-ocamlfuse fuse "
      ],
      "execution_count": 2,
      "outputs": [
        {
          "output_type": "stream",
          "text": [
            "gpg: keybox '/tmp/tmpd8k9yb9d/pubring.gpg' created\n",
            "gpg: /tmp/tmpd8k9yb9d/trustdb.gpg: trustdb created\n",
            "gpg: key AD5F235DF639B041: public key \"Launchpad PPA for Alessandro Strada\" imported\n",
            "gpg: Total number processed: 1\n",
            "gpg:               imported: 1\n",
            "Warning: apt-key output should not be parsed (stdout is not a terminal)\n"
          ],
          "name": "stdout"
        }
      ]
    },
    {
      "metadata": {
        "id": "huB7KOcjC0uP",
        "colab_type": "code",
        "colab": {}
      },
      "cell_type": "code",
      "source": [
        "from google.colab import auth \n",
        "auth.authenticate_user() "
      ],
      "execution_count": 0,
      "outputs": []
    },
    {
      "metadata": {
        "id": "UGPN18WmC3O7",
        "colab_type": "code",
        "colab": {}
      },
      "cell_type": "code",
      "source": [
        "from oauth2client.client import GoogleCredentials \n",
        "creds = GoogleCredentials.get_application_default() "
      ],
      "execution_count": 0,
      "outputs": []
    },
    {
      "metadata": {
        "id": "83tWIByOC_9o",
        "colab_type": "code",
        "colab": {}
      },
      "cell_type": "code",
      "source": [
        "import getpass \n",
        "!google-drive-ocamlfuse -headless -id={creds.client_id} -secret={creds.client_secret} < /dev/null 2>&1 | grep URL \n",
        "vcode = getpass.getpass() \n",
        "!echo {vcode} | google-drive-ocamlfuse -headless -id={creds.client_id} -secret={creds.client_secret}"
      ],
      "execution_count": 0,
      "outputs": []
    },
    {
      "metadata": {
        "id": "TSLIC50ADCXB",
        "colab_type": "code",
        "colab": {}
      },
      "cell_type": "code",
      "source": [
        "!mkdir -p drive\n",
        "!google-drive-ocamlfuse drive "
      ],
      "execution_count": 0,
      "outputs": []
    },
    {
      "metadata": {
        "id": "opKknf_9DLrQ",
        "colab_type": "code",
        "colab": {
          "base_uri": "https://localhost:8080/",
          "height": 102
        },
        "outputId": "377b3b0a-438d-402e-da3f-32537b5fb171"
      },
      "cell_type": "code",
      "source": [
        "print ('Files in Drive:')  \n",
        "!ls drive/ "
      ],
      "execution_count": 7,
      "outputs": [
        {
          "output_type": "stream",
          "text": [
            "Files in Drive:\n",
            "Colab Notebooks      LSTM\t\t\tStudy\n",
            "Docs\t\t     Presentation.pdf\t\tUntitled presentation.pdf\n",
            "Job Description.odt  Resumes\n",
            "Job Tracker.ods      Rotor Crack Detection.odt\n"
          ],
          "name": "stdout"
        }
      ]
    },
    {
      "metadata": {
        "id": "CY76uDniDLoq",
        "colab_type": "code",
        "colab": {
          "base_uri": "https://localhost:8080/",
          "height": 85
        },
        "outputId": "97e5966f-2c12-454c-e683-6bafd6a1fac3"
      },
      "cell_type": "code",
      "source": [
        "!pip install lightgbm"
      ],
      "execution_count": 8,
      "outputs": [
        {
          "output_type": "stream",
          "text": [
            "Requirement already satisfied: lightgbm in /usr/local/lib/python3.6/dist-packages (2.1.2)\r\n",
            "Requirement already satisfied: numpy in /usr/local/lib/python3.6/dist-packages (from lightgbm) (1.14.5)\r\n",
            "Requirement already satisfied: scipy in /usr/local/lib/python3.6/dist-packages (from lightgbm) (0.19.1)\r\n",
            "Requirement already satisfied: scikit-learn in /usr/local/lib/python3.6/dist-packages (from lightgbm) (0.19.2)\r\n"
          ],
          "name": "stdout"
        }
      ]
    },
    {
      "metadata": {
        "id": "z_TBT7ClDLlx",
        "colab_type": "code",
        "colab": {}
      },
      "cell_type": "code",
      "source": [
        "import os\n",
        "import pandas as pd\n",
        "import numpy as np\n",
        "\n",
        "import matplotlib.pyplot as plt\n",
        "%matplotlib inline\n",
        "import seaborn as sns\n",
        "\n",
        "from sklearn.metrics import f1_score\n",
        "from sklearn.model_selection import train_test_split, KFold\n",
        "from lightgbm import LGBMClassifier\n",
        "\n",
        "import gc"
      ],
      "execution_count": 0,
      "outputs": []
    },
    {
      "metadata": {
        "id": "JkIjxuT-DLiw",
        "colab_type": "code",
        "colab": {}
      },
      "cell_type": "code",
      "source": [
        "train = pd.read_csv('drive/Colab Notebooks/Building/train_full.csv')\n",
        "test = pd.read_csv('drive/Colab Notebooks/Building/test_full.csv')"
      ],
      "execution_count": 0,
      "outputs": []
    },
    {
      "metadata": {
        "id": "bY4na8cvDLZ0",
        "colab_type": "code",
        "colab": {}
      },
      "cell_type": "code",
      "source": [
        "for_ids= pd.read_csv('drive/Colab Notebooks/Building/combined_train.csv')\n",
        "building_id = for_ids['building_id']"
      ],
      "execution_count": 0,
      "outputs": []
    },
    {
      "metadata": {
        "id": "4Tv6wjusDLT0",
        "colab_type": "code",
        "colab": {
          "base_uri": "https://localhost:8080/",
          "height": 338
        },
        "outputId": "00a8c4b2-de4e-4052-d83b-0396698502ea"
      },
      "cell_type": "code",
      "source": [
        "train = pd.concat([building_id, train], axis=1)"
      ],
      "execution_count": 31,
      "outputs": [
        {
          "output_type": "execute_result",
          "data": {
            "text/html": [
              "<div>\n",
              "<style scoped>\n",
              "    .dataframe tbody tr th:only-of-type {\n",
              "        vertical-align: middle;\n",
              "    }\n",
              "\n",
              "    .dataframe tbody tr th {\n",
              "        vertical-align: top;\n",
              "    }\n",
              "\n",
              "    .dataframe thead th {\n",
              "        text-align: right;\n",
              "    }\n",
              "</style>\n",
              "<table border=\"1\" class=\"dataframe\">\n",
              "  <thead>\n",
              "    <tr style=\"text-align: right;\">\n",
              "      <th></th>\n",
              "      <th>building_id</th>\n",
              "      <th>damage_grade</th>\n",
              "      <th>has_geotechnical_risk</th>\n",
              "      <th>has_geotechnical_risk_fault_crack</th>\n",
              "      <th>has_geotechnical_risk_flood</th>\n",
              "      <th>has_geotechnical_risk_land_settlement</th>\n",
              "      <th>has_geotechnical_risk_landslide</th>\n",
              "      <th>has_geotechnical_risk_liquefaction</th>\n",
              "      <th>has_geotechnical_risk_other</th>\n",
              "      <th>has_geotechnical_risk_rock_fall</th>\n",
              "      <th>...</th>\n",
              "      <th>Damaged-Repaired and used</th>\n",
              "      <th>Damaged-Rubble Clear-New building built</th>\n",
              "      <th>Damaged-Rubble clear</th>\n",
              "      <th>Damaged-Rubble unclear</th>\n",
              "      <th>Damaged-Used in risk</th>\n",
              "      <th>Not damaged</th>\n",
              "      <th>Institutional</th>\n",
              "      <th>Other.2</th>\n",
              "      <th>Private</th>\n",
              "      <th>Public</th>\n",
              "    </tr>\n",
              "  </thead>\n",
              "  <tbody>\n",
              "    <tr>\n",
              "      <th>0</th>\n",
              "      <td>24385bfd2a2</td>\n",
              "      <td>Grade 4</td>\n",
              "      <td>0.0</td>\n",
              "      <td>0</td>\n",
              "      <td>0</td>\n",
              "      <td>0</td>\n",
              "      <td>0</td>\n",
              "      <td>0</td>\n",
              "      <td>0</td>\n",
              "      <td>0</td>\n",
              "      <td>...</td>\n",
              "      <td>0.0</td>\n",
              "      <td>0.0</td>\n",
              "      <td>0.0</td>\n",
              "      <td>0.0</td>\n",
              "      <td>0.0</td>\n",
              "      <td>0.0</td>\n",
              "      <td>0.0</td>\n",
              "      <td>0.0</td>\n",
              "      <td>1.0</td>\n",
              "      <td>0.0</td>\n",
              "    </tr>\n",
              "    <tr>\n",
              "      <th>1</th>\n",
              "      <td>405d1bbebbf</td>\n",
              "      <td>Grade 2</td>\n",
              "      <td>0.0</td>\n",
              "      <td>0</td>\n",
              "      <td>0</td>\n",
              "      <td>0</td>\n",
              "      <td>0</td>\n",
              "      <td>0</td>\n",
              "      <td>0</td>\n",
              "      <td>0</td>\n",
              "      <td>...</td>\n",
              "      <td>1.0</td>\n",
              "      <td>0.0</td>\n",
              "      <td>0.0</td>\n",
              "      <td>0.0</td>\n",
              "      <td>0.0</td>\n",
              "      <td>0.0</td>\n",
              "      <td>0.0</td>\n",
              "      <td>0.0</td>\n",
              "      <td>1.0</td>\n",
              "      <td>0.0</td>\n",
              "    </tr>\n",
              "    <tr>\n",
              "      <th>2</th>\n",
              "      <td>351d9bc71f6</td>\n",
              "      <td>Grade 1</td>\n",
              "      <td>0.0</td>\n",
              "      <td>0</td>\n",
              "      <td>0</td>\n",
              "      <td>0</td>\n",
              "      <td>0</td>\n",
              "      <td>0</td>\n",
              "      <td>0</td>\n",
              "      <td>0</td>\n",
              "      <td>...</td>\n",
              "      <td>0.0</td>\n",
              "      <td>0.0</td>\n",
              "      <td>0.0</td>\n",
              "      <td>0.0</td>\n",
              "      <td>0.0</td>\n",
              "      <td>1.0</td>\n",
              "      <td>0.0</td>\n",
              "      <td>0.0</td>\n",
              "      <td>1.0</td>\n",
              "      <td>0.0</td>\n",
              "    </tr>\n",
              "    <tr>\n",
              "      <th>3</th>\n",
              "      <td>2be3a971166</td>\n",
              "      <td>Grade 5</td>\n",
              "      <td>0.0</td>\n",
              "      <td>0</td>\n",
              "      <td>0</td>\n",
              "      <td>0</td>\n",
              "      <td>0</td>\n",
              "      <td>0</td>\n",
              "      <td>0</td>\n",
              "      <td>0</td>\n",
              "      <td>...</td>\n",
              "      <td>0.0</td>\n",
              "      <td>0.0</td>\n",
              "      <td>1.0</td>\n",
              "      <td>0.0</td>\n",
              "      <td>0.0</td>\n",
              "      <td>0.0</td>\n",
              "      <td>0.0</td>\n",
              "      <td>0.0</td>\n",
              "      <td>1.0</td>\n",
              "      <td>0.0</td>\n",
              "    </tr>\n",
              "    <tr>\n",
              "      <th>4</th>\n",
              "      <td>34c7d073ea6</td>\n",
              "      <td>Grade 3</td>\n",
              "      <td>0.0</td>\n",
              "      <td>0</td>\n",
              "      <td>0</td>\n",
              "      <td>0</td>\n",
              "      <td>0</td>\n",
              "      <td>0</td>\n",
              "      <td>0</td>\n",
              "      <td>0</td>\n",
              "      <td>...</td>\n",
              "      <td>0.0</td>\n",
              "      <td>0.0</td>\n",
              "      <td>0.0</td>\n",
              "      <td>0.0</td>\n",
              "      <td>1.0</td>\n",
              "      <td>0.0</td>\n",
              "      <td>0.0</td>\n",
              "      <td>0.0</td>\n",
              "      <td>1.0</td>\n",
              "      <td>0.0</td>\n",
              "    </tr>\n",
              "  </tbody>\n",
              "</table>\n",
              "<p>5 rows × 92 columns</p>\n",
              "</div>"
            ],
            "text/plain": [
              "   building_id damage_grade  has_geotechnical_risk  \\\n",
              "0  24385bfd2a2      Grade 4                    0.0   \n",
              "1  405d1bbebbf      Grade 2                    0.0   \n",
              "2  351d9bc71f6      Grade 1                    0.0   \n",
              "3  2be3a971166      Grade 5                    0.0   \n",
              "4  34c7d073ea6      Grade 3                    0.0   \n",
              "\n",
              "   has_geotechnical_risk_fault_crack  has_geotechnical_risk_flood  \\\n",
              "0                                  0                            0   \n",
              "1                                  0                            0   \n",
              "2                                  0                            0   \n",
              "3                                  0                            0   \n",
              "4                                  0                            0   \n",
              "\n",
              "   has_geotechnical_risk_land_settlement  has_geotechnical_risk_landslide  \\\n",
              "0                                      0                                0   \n",
              "1                                      0                                0   \n",
              "2                                      0                                0   \n",
              "3                                      0                                0   \n",
              "4                                      0                                0   \n",
              "\n",
              "   has_geotechnical_risk_liquefaction  has_geotechnical_risk_other  \\\n",
              "0                                   0                            0   \n",
              "1                                   0                            0   \n",
              "2                                   0                            0   \n",
              "3                                   0                            0   \n",
              "4                                   0                            0   \n",
              "\n",
              "   has_geotechnical_risk_rock_fall   ...    Damaged-Repaired and used  \\\n",
              "0                                0   ...                          0.0   \n",
              "1                                0   ...                          1.0   \n",
              "2                                0   ...                          0.0   \n",
              "3                                0   ...                          0.0   \n",
              "4                                0   ...                          0.0   \n",
              "\n",
              "   Damaged-Rubble Clear-New building built  Damaged-Rubble clear  \\\n",
              "0                                      0.0                   0.0   \n",
              "1                                      0.0                   0.0   \n",
              "2                                      0.0                   0.0   \n",
              "3                                      0.0                   1.0   \n",
              "4                                      0.0                   0.0   \n",
              "\n",
              "   Damaged-Rubble unclear  Damaged-Used in risk  Not damaged  Institutional  \\\n",
              "0                     0.0                   0.0          0.0            0.0   \n",
              "1                     0.0                   0.0          0.0            0.0   \n",
              "2                     0.0                   0.0          1.0            0.0   \n",
              "3                     0.0                   0.0          0.0            0.0   \n",
              "4                     0.0                   1.0          0.0            0.0   \n",
              "\n",
              "   Other.2  Private  Public  \n",
              "0      0.0      1.0     0.0  \n",
              "1      0.0      1.0     0.0  \n",
              "2      0.0      1.0     0.0  \n",
              "3      0.0      1.0     0.0  \n",
              "4      0.0      1.0     0.0  \n",
              "\n",
              "[5 rows x 92 columns]"
            ]
          },
          "metadata": {
            "tags": []
          },
          "execution_count": 31
        }
      ]
    },
    {
      "metadata": {
        "id": "-ytPPnVeGrbd",
        "colab_type": "code",
        "colab": {}
      },
      "cell_type": "code",
      "source": [
        "y = train[['damage_grade']]\n",
        "del train['damage_grade']"
      ],
      "execution_count": 0,
      "outputs": []
    },
    {
      "metadata": {
        "id": "VU_LhZI-HJ0J",
        "colab_type": "code",
        "colab": {
          "base_uri": "https://localhost:8080/",
          "height": 119
        },
        "outputId": "6afb0765-647c-4154-e877-a1db617b506b"
      },
      "cell_type": "code",
      "source": [
        "y['damage_grade'] = y['damage_grade'].str.replace('Grade ','')"
      ],
      "execution_count": 36,
      "outputs": [
        {
          "output_type": "stream",
          "text": [
            "/usr/local/lib/python3.6/dist-packages/ipykernel_launcher.py:1: SettingWithCopyWarning: \n",
            "A value is trying to be set on a copy of a slice from a DataFrame.\n",
            "Try using .loc[row_indexer,col_indexer] = value instead\n",
            "\n",
            "See the caveats in the documentation: http://pandas.pydata.org/pandas-docs/stable/indexing.html#indexing-view-versus-copy\n",
            "  \"\"\"Entry point for launching an IPython kernel.\n"
          ],
          "name": "stderr"
        }
      ]
    },
    {
      "metadata": {
        "id": "z4Tw-4YpGzr3",
        "colab_type": "code",
        "colab": {}
      },
      "cell_type": "code",
      "source": [
        "pd.to_numeric(y['damage_grade']);"
      ],
      "execution_count": 0,
      "outputs": []
    },
    {
      "metadata": {
        "id": "Y9hGY3NYHP0k",
        "colab_type": "code",
        "colab": {}
      },
      "cell_type": "code",
      "source": [
        "from sklearn.ensemble import RandomForestClassifier\n",
        "\n",
        "rnd_forest = RandomForestClassifier(n_estimators=100, random_state=42, verbose=1, n_jobs=-1)"
      ],
      "execution_count": 0,
      "outputs": []
    },
    {
      "metadata": {
        "id": "fyTehh3QIpWA",
        "colab_type": "code",
        "colab": {}
      },
      "cell_type": "code",
      "source": [
        "train.set_index('building_id', inplace=True)"
      ],
      "execution_count": 0,
      "outputs": []
    },
    {
      "metadata": {
        "id": "Rbo0c9QjajUb",
        "colab_type": "code",
        "colab": {
          "base_uri": "https://localhost:8080/",
          "height": 338
        },
        "outputId": "fefb20ac-f0da-4d23-d144-4bed00f4841c"
      },
      "cell_type": "code",
      "source": [
        "test.head()"
      ],
      "execution_count": 57,
      "outputs": [
        {
          "output_type": "execute_result",
          "data": {
            "text/html": [
              "<div>\n",
              "<style scoped>\n",
              "    .dataframe tbody tr th:only-of-type {\n",
              "        vertical-align: middle;\n",
              "    }\n",
              "\n",
              "    .dataframe tbody tr th {\n",
              "        vertical-align: top;\n",
              "    }\n",
              "\n",
              "    .dataframe thead th {\n",
              "        text-align: right;\n",
              "    }\n",
              "</style>\n",
              "<table border=\"1\" class=\"dataframe\">\n",
              "  <thead>\n",
              "    <tr style=\"text-align: right;\">\n",
              "      <th></th>\n",
              "      <th>building_id</th>\n",
              "      <th>has_geotechnical_risk</th>\n",
              "      <th>has_geotechnical_risk_fault_crack</th>\n",
              "      <th>has_geotechnical_risk_flood</th>\n",
              "      <th>has_geotechnical_risk_land_settlement</th>\n",
              "      <th>has_geotechnical_risk_landslide</th>\n",
              "      <th>has_geotechnical_risk_liquefaction</th>\n",
              "      <th>has_geotechnical_risk_other</th>\n",
              "      <th>has_geotechnical_risk_rock_fall</th>\n",
              "      <th>has_repair_started</th>\n",
              "      <th>...</th>\n",
              "      <th>Damaged-Repaired and used</th>\n",
              "      <th>Damaged-Rubble Clear-New building built</th>\n",
              "      <th>Damaged-Rubble clear</th>\n",
              "      <th>Damaged-Rubble unclear</th>\n",
              "      <th>Damaged-Used in risk</th>\n",
              "      <th>Not damaged</th>\n",
              "      <th>Institutional</th>\n",
              "      <th>Other.2</th>\n",
              "      <th>Private</th>\n",
              "      <th>Public</th>\n",
              "    </tr>\n",
              "  </thead>\n",
              "  <tbody>\n",
              "    <tr>\n",
              "      <th>0</th>\n",
              "      <td>a3380c4f75</td>\n",
              "      <td>0.0</td>\n",
              "      <td>0</td>\n",
              "      <td>0</td>\n",
              "      <td>0</td>\n",
              "      <td>0</td>\n",
              "      <td>0</td>\n",
              "      <td>0</td>\n",
              "      <td>0</td>\n",
              "      <td>1.0</td>\n",
              "      <td>...</td>\n",
              "      <td>1.0</td>\n",
              "      <td>0.0</td>\n",
              "      <td>0.0</td>\n",
              "      <td>0.0</td>\n",
              "      <td>0.0</td>\n",
              "      <td>0.0</td>\n",
              "      <td>0.0</td>\n",
              "      <td>0.0</td>\n",
              "      <td>1.0</td>\n",
              "      <td>0.0</td>\n",
              "    </tr>\n",
              "    <tr>\n",
              "      <th>1</th>\n",
              "      <td>a338a4e653</td>\n",
              "      <td>0.0</td>\n",
              "      <td>0</td>\n",
              "      <td>0</td>\n",
              "      <td>0</td>\n",
              "      <td>0</td>\n",
              "      <td>0</td>\n",
              "      <td>0</td>\n",
              "      <td>0</td>\n",
              "      <td>1.0</td>\n",
              "      <td>...</td>\n",
              "      <td>0.0</td>\n",
              "      <td>0.0</td>\n",
              "      <td>0.0</td>\n",
              "      <td>1.0</td>\n",
              "      <td>0.0</td>\n",
              "      <td>0.0</td>\n",
              "      <td>0.0</td>\n",
              "      <td>0.0</td>\n",
              "      <td>1.0</td>\n",
              "      <td>0.0</td>\n",
              "    </tr>\n",
              "    <tr>\n",
              "      <th>2</th>\n",
              "      <td>a338a4e6b7</td>\n",
              "      <td>0.0</td>\n",
              "      <td>0</td>\n",
              "      <td>0</td>\n",
              "      <td>0</td>\n",
              "      <td>0</td>\n",
              "      <td>0</td>\n",
              "      <td>0</td>\n",
              "      <td>0</td>\n",
              "      <td>1.0</td>\n",
              "      <td>...</td>\n",
              "      <td>0.0</td>\n",
              "      <td>1.0</td>\n",
              "      <td>0.0</td>\n",
              "      <td>0.0</td>\n",
              "      <td>0.0</td>\n",
              "      <td>0.0</td>\n",
              "      <td>0.0</td>\n",
              "      <td>0.0</td>\n",
              "      <td>1.0</td>\n",
              "      <td>0.0</td>\n",
              "    </tr>\n",
              "    <tr>\n",
              "      <th>3</th>\n",
              "      <td>a33a6eaa3a</td>\n",
              "      <td>0.0</td>\n",
              "      <td>0</td>\n",
              "      <td>0</td>\n",
              "      <td>0</td>\n",
              "      <td>0</td>\n",
              "      <td>0</td>\n",
              "      <td>0</td>\n",
              "      <td>0</td>\n",
              "      <td>1.0</td>\n",
              "      <td>...</td>\n",
              "      <td>1.0</td>\n",
              "      <td>0.0</td>\n",
              "      <td>0.0</td>\n",
              "      <td>0.0</td>\n",
              "      <td>0.0</td>\n",
              "      <td>0.0</td>\n",
              "      <td>0.0</td>\n",
              "      <td>0.0</td>\n",
              "      <td>1.0</td>\n",
              "      <td>0.0</td>\n",
              "    </tr>\n",
              "    <tr>\n",
              "      <th>4</th>\n",
              "      <td>a33b073ff6</td>\n",
              "      <td>0.0</td>\n",
              "      <td>0</td>\n",
              "      <td>0</td>\n",
              "      <td>0</td>\n",
              "      <td>0</td>\n",
              "      <td>0</td>\n",
              "      <td>0</td>\n",
              "      <td>0</td>\n",
              "      <td>1.0</td>\n",
              "      <td>...</td>\n",
              "      <td>0.0</td>\n",
              "      <td>1.0</td>\n",
              "      <td>0.0</td>\n",
              "      <td>0.0</td>\n",
              "      <td>0.0</td>\n",
              "      <td>0.0</td>\n",
              "      <td>0.0</td>\n",
              "      <td>0.0</td>\n",
              "      <td>1.0</td>\n",
              "      <td>0.0</td>\n",
              "    </tr>\n",
              "  </tbody>\n",
              "</table>\n",
              "<p>5 rows × 91 columns</p>\n",
              "</div>"
            ],
            "text/plain": [
              "  building_id  has_geotechnical_risk  has_geotechnical_risk_fault_crack  \\\n",
              "0  a3380c4f75                    0.0                                  0   \n",
              "1  a338a4e653                    0.0                                  0   \n",
              "2  a338a4e6b7                    0.0                                  0   \n",
              "3  a33a6eaa3a                    0.0                                  0   \n",
              "4  a33b073ff6                    0.0                                  0   \n",
              "\n",
              "   has_geotechnical_risk_flood  has_geotechnical_risk_land_settlement  \\\n",
              "0                            0                                      0   \n",
              "1                            0                                      0   \n",
              "2                            0                                      0   \n",
              "3                            0                                      0   \n",
              "4                            0                                      0   \n",
              "\n",
              "   has_geotechnical_risk_landslide  has_geotechnical_risk_liquefaction  \\\n",
              "0                                0                                   0   \n",
              "1                                0                                   0   \n",
              "2                                0                                   0   \n",
              "3                                0                                   0   \n",
              "4                                0                                   0   \n",
              "\n",
              "   has_geotechnical_risk_other  has_geotechnical_risk_rock_fall  \\\n",
              "0                            0                                0   \n",
              "1                            0                                0   \n",
              "2                            0                                0   \n",
              "3                            0                                0   \n",
              "4                            0                                0   \n",
              "\n",
              "   has_repair_started   ...    Damaged-Repaired and used  \\\n",
              "0                 1.0   ...                          1.0   \n",
              "1                 1.0   ...                          0.0   \n",
              "2                 1.0   ...                          0.0   \n",
              "3                 1.0   ...                          1.0   \n",
              "4                 1.0   ...                          0.0   \n",
              "\n",
              "   Damaged-Rubble Clear-New building built  Damaged-Rubble clear  \\\n",
              "0                                      0.0                   0.0   \n",
              "1                                      0.0                   0.0   \n",
              "2                                      1.0                   0.0   \n",
              "3                                      0.0                   0.0   \n",
              "4                                      1.0                   0.0   \n",
              "\n",
              "   Damaged-Rubble unclear  Damaged-Used in risk  Not damaged  Institutional  \\\n",
              "0                     0.0                   0.0          0.0            0.0   \n",
              "1                     1.0                   0.0          0.0            0.0   \n",
              "2                     0.0                   0.0          0.0            0.0   \n",
              "3                     0.0                   0.0          0.0            0.0   \n",
              "4                     0.0                   0.0          0.0            0.0   \n",
              "\n",
              "   Other.2  Private  Public  \n",
              "0      0.0      1.0     0.0  \n",
              "1      0.0      1.0     0.0  \n",
              "2      0.0      1.0     0.0  \n",
              "3      0.0      1.0     0.0  \n",
              "4      0.0      1.0     0.0  \n",
              "\n",
              "[5 rows x 91 columns]"
            ]
          },
          "metadata": {
            "tags": []
          },
          "execution_count": 57
        }
      ]
    },
    {
      "metadata": {
        "id": "F7BytqofJkTT",
        "colab_type": "code",
        "colab": {}
      },
      "cell_type": "code",
      "source": [
        "test.set_index('building_id', inplace=True)"
      ],
      "execution_count": 0,
      "outputs": []
    },
    {
      "metadata": {
        "id": "vMv5W3AXIZme",
        "colab_type": "code",
        "colab": {
          "base_uri": "https://localhost:8080/",
          "height": 139
        },
        "outputId": "cf95bab1-564c-4ec5-dd89-1112fad2ec01"
      },
      "cell_type": "code",
      "source": [
        "rnd_forest.fit(train, y)\n",
        "y_pred = rnd_forest.predict(test)"
      ],
      "execution_count": 49,
      "outputs": [
        {
          "output_type": "stream",
          "text": [
            "/usr/local/lib/python3.6/dist-packages/ipykernel_launcher.py:1: DataConversionWarning: A column-vector y was passed when a 1d array was expected. Please change the shape of y to (n_samples,), for example using ravel().\n",
            "  \"\"\"Entry point for launching an IPython kernel.\n",
            "[Parallel(n_jobs=-1)]: Done  46 tasks      | elapsed:  1.2min\n",
            "[Parallel(n_jobs=-1)]: Done 100 out of 100 | elapsed:  2.6min finished\n",
            "[Parallel(n_jobs=2)]: Done  46 tasks      | elapsed:    5.4s\n",
            "[Parallel(n_jobs=2)]: Done 100 out of 100 | elapsed:   11.7s finished\n"
          ],
          "name": "stderr"
        }
      ]
    },
    {
      "metadata": {
        "id": "KujqbF6wXBqr",
        "colab_type": "code",
        "colab": {}
      },
      "cell_type": "code",
      "source": [
        "import xgboost as xgb\n",
        "xgb_clf = xgb.XGBClassifier(max_depth=3, n_estimator=300, learning_rate=0.03)"
      ],
      "execution_count": 0,
      "outputs": []
    },
    {
      "metadata": {
        "id": "7QcX-pJMXBnt",
        "colab_type": "code",
        "colab": {
          "base_uri": "https://localhost:8080/",
          "height": 139
        },
        "outputId": "d9fbe822-790c-455b-a853-15204da2fc74"
      },
      "cell_type": "code",
      "source": [
        "xgb_clf.fit(train,y)\n",
        "y_pred_xgb = xgb_clf.predict(test)"
      ],
      "execution_count": 59,
      "outputs": [
        {
          "output_type": "stream",
          "text": [
            "/usr/local/lib/python3.6/dist-packages/sklearn/preprocessing/label.py:95: DataConversionWarning: A column-vector y was passed when a 1d array was expected. Please change the shape of y to (n_samples, ), for example using ravel().\n",
            "  y = column_or_1d(y, warn=True)\n",
            "/usr/local/lib/python3.6/dist-packages/sklearn/preprocessing/label.py:128: DataConversionWarning: A column-vector y was passed when a 1d array was expected. Please change the shape of y to (n_samples, ), for example using ravel().\n",
            "  y = column_or_1d(y, warn=True)\n",
            "/usr/local/lib/python3.6/dist-packages/sklearn/preprocessing/label.py:151: DeprecationWarning: The truth value of an empty array is ambiguous. Returning False, but in future this will result in an error. Use `array.size > 0` to check that an array is not empty.\n",
            "  if diff:\n"
          ],
          "name": "stderr"
        }
      ]
    },
    {
      "metadata": {
        "id": "SApZ64LMIh5T",
        "colab_type": "code",
        "colab": {}
      },
      "cell_type": "code",
      "source": [
        "test.reset_index(inplace=True)"
      ],
      "execution_count": 0,
      "outputs": []
    },
    {
      "metadata": {
        "id": "hZ-5-nBkInjR",
        "colab_type": "code",
        "colab": {
          "base_uri": "https://localhost:8080/",
          "height": 119
        },
        "outputId": "08e4715b-6f78-4c88-e139-68ae650bf8c2"
      },
      "cell_type": "code",
      "source": [
        "submit = test[['building_id']]\n",
        "submit['damage_grade'] = y_pred_xgb"
      ],
      "execution_count": 61,
      "outputs": [
        {
          "output_type": "stream",
          "text": [
            "/usr/local/lib/python3.6/dist-packages/ipykernel_launcher.py:2: SettingWithCopyWarning: \n",
            "A value is trying to be set on a copy of a slice from a DataFrame.\n",
            "Try using .loc[row_indexer,col_indexer] = value instead\n",
            "\n",
            "See the caveats in the documentation: http://pandas.pydata.org/pandas-docs/stable/indexing.html#indexing-view-versus-copy\n",
            "  \n"
          ],
          "name": "stderr"
        }
      ]
    },
    {
      "metadata": {
        "id": "fQk3iNZWI2Bq",
        "colab_type": "code",
        "colab": {
          "base_uri": "https://localhost:8080/",
          "height": 119
        },
        "outputId": "ca382a5b-114b-4ae2-b371-e9af3d4fb644"
      },
      "cell_type": "code",
      "source": [
        "submit['damage_grade'] = \"Grade \" + submit['damage_grade'].astype(str)\n",
        "submit.to_csv(\"drive/Colab Notebooks/Building/xgb_baseline.csv\", index=False)"
      ],
      "execution_count": 62,
      "outputs": [
        {
          "output_type": "stream",
          "text": [
            "/usr/local/lib/python3.6/dist-packages/ipykernel_launcher.py:1: SettingWithCopyWarning: \n",
            "A value is trying to be set on a copy of a slice from a DataFrame.\n",
            "Try using .loc[row_indexer,col_indexer] = value instead\n",
            "\n",
            "See the caveats in the documentation: http://pandas.pydata.org/pandas-docs/stable/indexing.html#indexing-view-versus-copy\n",
            "  \"\"\"Entry point for launching an IPython kernel.\n"
          ],
          "name": "stderr"
        }
      ]
    }
  ]
}